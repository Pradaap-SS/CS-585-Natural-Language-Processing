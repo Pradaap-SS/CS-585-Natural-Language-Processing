{
 "cells": [
  {
   "cell_type": "markdown",
   "id": "d6aafbfa-2d87-4f34-91fc-6228d87954b9",
   "metadata": {},
   "source": [
    "# Vector Space Model of Text\n",
    "\n",
    "Notebook to build a simple term-document matrix and uses it to show word similarity"
   ]
  },
  {
   "cell_type": "code",
   "execution_count": 1,
   "id": "4db38139-0f0a-4a73-b7f5-b7be93f70849",
   "metadata": {},
   "outputs": [],
   "source": [
    "from csv import QUOTE_NONE\n",
    "import pandas as pd\n",
    "import numpy as np\n",
    "\n",
    "# https://scikit-learn.org/stable/modules/classes.html#module-sklearn.feature_extraction.text\n",
    "from sklearn.feature_extraction.text import CountVectorizer, TfidfVectorizer\n",
    "\n",
    "pd.set_option(\"display.precision\", 4)  # for display only: show floats to 4 decimal places"
   ]
  },
  {
   "cell_type": "code",
   "execution_count": 2,
   "id": "88583c28-06a7-4ee0-aacd-10fef397b683",
   "metadata": {},
   "outputs": [
    {
     "name": "stdout",
     "output_type": "stream",
     "text": [
      "our down haven after until ll they few there she didn't shouldn too t have mustn had needn't won't into you'll to them these aren't mustn't so ourselves which having is or wouldn't nor did then hers against when shan other o how will i with her an being by do own now before just why hasn't on more again than most if should won my yourselves but no under ve don re it some can below their its s shan't should've me we through very the where up ours be are because mightn of isn't she's as while here couldn doesn ain you don't yours theirs same both a you've was at your does m aren off in itself whom ma for themselves between herself his during once hadn needn wouldn what that not couldn't didn only weren haven't you're about d out each doesn't further those yourself above hasn mightn't weren't been all any shouldn't and this myself you'd such isn over doing him am y that'll who it's has were wasn hadn't wasn't himself he from\n"
     ]
    }
   ],
   "source": [
    "#NLTK setup - uncomment and run first time you import NLTK\n",
    "#import nltk\n",
    "#nltk.download('punkt')\n",
    "#nltk.download('stopwords')\n",
    "\n",
    "from nltk.tokenize import word_tokenize\n",
    "from nltk.corpus import stopwords\n",
    "\n",
    "stopwords = set(stopwords.words('english'))\n",
    "print(\" \".join(stopwords))"
   ]
  },
  {
   "cell_type": "markdown",
   "id": "123a8368-5a44-47b6-92b5-60e23dd4fe23",
   "metadata": {},
   "source": [
    "## Load data\n",
    "\n",
    "Using QNLI as unannotated corpus (ignoring column \"label\")"
   ]
  },
  {
   "cell_type": "code",
   "execution_count": 3,
   "id": "6a3e2a5b-4d6b-4610-b63d-e3b85b412216",
   "metadata": {},
   "outputs": [
    {
     "data": {
      "text/html": [
       "<div>\n",
       "<style scoped>\n",
       "    .dataframe tbody tr th:only-of-type {\n",
       "        vertical-align: middle;\n",
       "    }\n",
       "\n",
       "    .dataframe tbody tr th {\n",
       "        vertical-align: top;\n",
       "    }\n",
       "\n",
       "    .dataframe thead th {\n",
       "        text-align: right;\n",
       "    }\n",
       "</style>\n",
       "<table border=\"1\" class=\"dataframe\">\n",
       "  <thead>\n",
       "    <tr style=\"text-align: right;\">\n",
       "      <th></th>\n",
       "      <th>index</th>\n",
       "      <th>question</th>\n",
       "      <th>sentence</th>\n",
       "      <th>label</th>\n",
       "    </tr>\n",
       "  </thead>\n",
       "  <tbody>\n",
       "    <tr>\n",
       "      <th>0</th>\n",
       "      <td>0</td>\n",
       "      <td>What came into force after the new constitutio...</td>\n",
       "      <td>As of that day, the new constitution heralding...</td>\n",
       "      <td>entailment</td>\n",
       "    </tr>\n",
       "    <tr>\n",
       "      <th>1</th>\n",
       "      <td>1</td>\n",
       "      <td>What is the first major city in the stream of ...</td>\n",
       "      <td>The most important tributaries in this area ar...</td>\n",
       "      <td>not_entailment</td>\n",
       "    </tr>\n",
       "    <tr>\n",
       "      <th>2</th>\n",
       "      <td>2</td>\n",
       "      <td>What is the minimum required if you want to te...</td>\n",
       "      <td>In most provinces a second Bachelor's Degree s...</td>\n",
       "      <td>not_entailment</td>\n",
       "    </tr>\n",
       "  </tbody>\n",
       "</table>\n",
       "</div>"
      ],
      "text/plain": [
       "   index                                           question  \\\n",
       "0      0  What came into force after the new constitutio...   \n",
       "1      1  What is the first major city in the stream of ...   \n",
       "2      2  What is the minimum required if you want to te...   \n",
       "\n",
       "                                            sentence           label  \n",
       "0  As of that day, the new constitution heralding...      entailment  \n",
       "1  The most important tributaries in this area ar...  not_entailment  \n",
       "2  In most provinces a second Bachelor's Degree s...  not_entailment  "
      ]
     },
     "execution_count": 3,
     "metadata": {},
     "output_type": "execute_result"
    }
   ],
   "source": [
    "# using larger train.tsv dataset\n",
    "\n",
    "df_qnli = pd.read_csv(\"QNLI/dev.tsv\",delimiter=\"\\t\",quoting=QUOTE_NONE)\n",
    "df_qnli.head(3)"
   ]
  },
  {
   "cell_type": "markdown",
   "id": "fb579d8c-f032-41f3-ab7e-cf33f6d7975a",
   "metadata": {},
   "source": [
    "## Vector Space model of Words and Documents\n",
    "\n",
    "Word: 1 token (after NLTK tokenize)\n",
    "Document: 1 row in column \"sentence\""
   ]
  },
  {
   "cell_type": "code",
   "execution_count": 4,
   "id": "17d7ecef-90c5-4004-b790-704a69093f3c",
   "metadata": {},
   "outputs": [
    {
     "name": "stdout",
     "output_type": "stream",
     "text": [
      "N=# texts/documents: 5463\n",
      "\n",
      "One sample text:\n",
      "newton completed 4 of 4 passes for 51 yards and rushed twice for 25 yards, while jonathan stewart finished the drive with a 1-yard touchdown run, cutting the score to 10–7 with 11:28 left in the second quarter.\n"
     ]
    }
   ],
   "source": [
    "# convert dataset to array of (short) lowercase texts/documents\n",
    "texts = [sent.lower() for sent in df_qnli.sentence]\n",
    "\n",
    "N_DOCUMENTS = len(texts)\n",
    "print(\"N=# texts/documents:\",N_DOCUMENTS)\n",
    "\n",
    "print(\"\\nOne sample text:\")\n",
    "print(texts[100])"
   ]
  },
  {
   "cell_type": "code",
   "execution_count": 5,
   "id": "2a1205fc-03d0-444d-8157-9bcca561c9a6",
   "metadata": {},
   "outputs": [
    {
     "name": "stderr",
     "output_type": "stream",
     "text": [
      "/Users/sonjia/cs585/.venv_aug18/lib/python3.11/site-packages/sklearn/feature_extraction/text.py:525: UserWarning: The parameter 'token_pattern' will not be used since 'tokenizer' is not None'\n",
      "  warnings.warn(\n"
     ]
    },
    {
     "name": "stdout",
     "output_type": "stream",
     "text": [
      "K=Size of vocabulary: 9469\n",
      "Shape of term-document matrix (NxK):  (5463, 9469)\n",
      "\n",
      "Sample of vocabulary:\n",
      "['djingis', 'dna', 'dnas', 'dock', 'docking—', 'doctor', 'doctors', 'doctor—an', 'doctrinal', 'doctrine', 'document', 'documentary', 'documents', 'does', 'doing']\n"
     ]
    }
   ],
   "source": [
    "MIN_DOC_FREQ_TO_KEEP = 2  # ingore words that appear only once\n",
    "\n",
    "vectorizer = CountVectorizer(stop_words=\"english\",  # note this is using different set than NLTK stopwords in cell 2\n",
    "                             binary=False,  # detect counts of words in text\n",
    "                             tokenizer=word_tokenize, \n",
    "                             min_df=MIN_DOC_FREQ_TO_KEEP) \n",
    "\n",
    "# Apply to data -> Build N x K matrix, presence/absense of word type k in document n\n",
    "simple_term_document_matrix = vectorizer.fit_transform(raw_documents=texts).todense()\n",
    "\n",
    "K_VOCAB_SIZE = simple_term_document_matrix.shape[1]\n",
    "print(\"K=Size of vocabulary:\", K_VOCAB_SIZE)\n",
    "\n",
    "print(\"Shape of term-document matrix (NxK): \", simple_term_document_matrix.shape)\n",
    "\n",
    "\n",
    "# peek: vocabulary:\n",
    "print(\"\\nSample of vocabulary:\")\n",
    "vocab = sorted(vectorizer.vocabulary_.keys(), key=vectorizer.vocabulary_.get)\n",
    "print(vocab[3000:3015])  # looking at a slice of 20 word types in the middle, starting at index 3000"
   ]
  },
  {
   "cell_type": "code",
   "execution_count": 6,
   "id": "03d4fd77-b776-42a7-bbd8-62b83a788616",
   "metadata": {},
   "outputs": [
    {
     "data": {
      "text/plain": [
       "matrix([[0, 0, 0, 0, 0, 0, 0, 0, 0, 0],\n",
       "        [0, 0, 0, 0, 0, 0, 0, 0, 0, 0],\n",
       "        [0, 0, 0, 0, 0, 0, 0, 0, 0, 0],\n",
       "        [0, 0, 0, 0, 0, 0, 0, 0, 0, 0],\n",
       "        [0, 0, 0, 0, 0, 0, 1, 0, 0, 0],\n",
       "        [0, 0, 0, 0, 0, 0, 1, 0, 0, 0],\n",
       "        [0, 0, 0, 0, 0, 0, 0, 0, 0, 0],\n",
       "        [0, 0, 0, 0, 0, 0, 0, 0, 0, 0],\n",
       "        [0, 0, 0, 0, 0, 0, 0, 0, 0, 0],\n",
       "        [0, 0, 0, 0, 0, 0, 0, 0, 0, 0]])"
      ]
     },
     "execution_count": 6,
     "metadata": {},
     "output_type": "execute_result"
    }
   ],
   "source": [
    "# Sparse matrix: Most values are zero -> Single text only uses small subset of vocabulary\n",
    "simple_term_document_matrix[:10,:10]"
   ]
  },
  {
   "cell_type": "code",
   "execution_count": 7,
   "id": "2e3be3ce-ca9f-4623-9f71-e1003b71c0f3",
   "metadata": {},
   "outputs": [
    {
     "name": "stdout",
     "output_type": "stream",
     "text": [
      "% of nonzero cells: 0.17%\n"
     ]
    }
   ],
   "source": [
    "pct_nonzero = (simple_term_document_matrix>0).mean()\n",
    "print(f\"% of nonzero cells: {pct_nonzero:.2%}\") "
   ]
  },
  {
   "cell_type": "markdown",
   "id": "79c6d5e9-ec08-4e9a-a431-16ca521e3c81",
   "metadata": {},
   "source": [
    "## Word Similarity (and Difference)\n",
    "\n",
    "\n",
    "Examine 4 words (two pairs): Which terms are similar? Which are different?"
   ]
  },
  {
   "cell_type": "code",
   "execution_count": 8,
   "id": "c8f2bdad-c5a2-47d9-8df0-18139bfee74f",
   "metadata": {},
   "outputs": [
    {
     "name": "stdout",
     "output_type": "stream",
     "text": [
      "[1085, 1641, 3158, 3709]\n",
      "architecture  index:1085  count:17\n",
      "building      index:1641  count:67\n",
      "economic      index:3158  count:73\n",
      "financial     index:3709  count:31\n"
     ]
    }
   ],
   "source": [
    "word_arr = [\"architecture\", \"building\",\"economic\", \"financial\", ]\n",
    "word_index_arr = [vocab.index(w) for w in word_arr]\n",
    "\n",
    "print(word_index_arr)\n",
    "\n",
    "for w, w_idx in zip(word_arr, word_index_arr):\n",
    "    document_count = simple_term_document_matrix[:,w_idx].sum()\n",
    "    print(f\"{w:12}  index:{w_idx}  count:{document_count}\")\n"
   ]
  },
  {
   "cell_type": "code",
   "execution_count": 9,
   "id": "f49fd638-c30b-464c-b946-c8cd6e9fe37a",
   "metadata": {},
   "outputs": [
    {
     "name": "stdout",
     "output_type": "stream",
     "text": [
      "Vector of word type 'architecture' with dimensions (5463, 1) :\n",
      "[[0]\n",
      " [0]\n",
      " [0]\n",
      " ...\n",
      " [0]\n",
      " [0]\n",
      " [0]]\n",
      "\n",
      "\n",
      "Texts containing word type 'architecture':\n",
      "\n",
      "141 Likewise the tower above the main entrance has an open work crown surmounted by a statue of fame, a feature of late Gothic ___ARCHITECTURE___ and a feature common in Scotland, but the detail is Classical.\n",
      "\n",
      "422 Norman ___ARCHITECTURE___ typically stands out as a new stage in the architectural history of the regions they subdued.\n",
      "\n",
      "899 Presently, a firm that is nominally an \"___ARCHITECTURE___\" or \"construction management\" firm may have experts from all related fields as employees, or to have an associated company that provides each necessary skill.\n",
      "\n",
      "1114 The Neoclassical revival affected all aspects of ___ARCHITECTURE___, the most notable are the Great Theater (1825–1833) and buildings located at Bank Square (1825–1828).\n",
      "\n",
      "1291 The main ___ARCHITECTURE___ gallery has a series of pillars from various buildings and different periods, for example a column from the Alhambra.\n",
      "\n",
      "1735 Exceptional examples of the bourgeois ___ARCHITECTURE___ of the later periods were not restored by the communist authorities after the war (like mentioned Kronenberg Palace and Insurance Company Rosja building) or they were rebuilt in socialist realism style (like Warsaw Philharmony edifice originally inspired by Palais Garnier in Paris).\n",
      "\n",
      "1776 Exceptional examples of the bourgeois ___ARCHITECTURE___ of the later periods were not restored by the communist authorities after the war (like mentioned Kronenberg Palace and Insurance Company Rosja building) or they were rebuilt in socialist realism style (like Warsaw Philharmony edifice originally inspired by Palais Garnier in Paris).\n",
      "\n",
      "2047 The residential ___ARCHITECTURE___ of the Tower District contrasts with the newer areas of tract homes urban sprawl in north and east areas of Fresno.\n",
      "\n",
      "2384 Norman ___ARCHITECTURE___ typically stands out as a new stage in the architectural history of the regions they subdued.\n",
      "\n",
      "2890 The most interesting examples of mannerist ___ARCHITECTURE___ are the Royal Castle (1596–1619) and the Jesuit Church (1609–1626) at Old Town.\n",
      "\n",
      "3116 The neoclassical ___ARCHITECTURE___ in Warsaw can be described by the simplicity of the geometrical forms teamed with a great inspiration from the Roman period.\n",
      "\n",
      "3204 The Neoclassical revival affected all aspects of ___ARCHITECTURE___, the most notable are the Great Theater (1825–1833) and buildings located at Bank Square (1825–1828).\n",
      "\n",
      "4547 The Scottish Parliament building was designed by Spanish architect Enric Miralles in partnership with local Edinburgh Architecture firm RMJM which was led by Design Principal Tony Kettle.\n",
      "\n",
      "4772 Glazing was placed over the historic arches and the Victorian ___ARCHITECTURE___ was enhanced; transforming the 19th century public portico.\n",
      "\n",
      "5107 Presently, a firm that is nominally an \"___ARCHITECTURE___\" or \"construction management\" firm may have experts from all related fields as employees, or to have an associated company that provides each necessary skill.\n",
      "\n",
      "5145 The Grainger Market ___ARCHITECTURE___, like most in Grainger Town, which are either grade I or II listed, was listed grade\n",
      "\n",
      "5301 Despite that the Warsaw University of Technology building (1899–1902) is the most interesting of the late 19th-century ___ARCHITECTURE___.\n",
      "\n"
     ]
    }
   ],
   "source": [
    "# Peek: vector for word 'architecture' \n",
    "word = \"architecture\"\n",
    "word_idx = vocab.index(word)\n",
    "\n",
    "word_vector = simple_term_document_matrix[:, word_idx]\n",
    "print(f\"Vector of word type '{word}' with dimensions {word_vector.shape} :\")\n",
    "print(word_vector)\n",
    "\n",
    "\n",
    "print(f\"\\n\\nTexts containing word type '{word}':\\n\")\n",
    "for i in range(simple_term_document_matrix.shape[0]):\n",
    "    if word_vector[i]>0:\n",
    "        sentence = df_qnli.sentence.iloc[i]\n",
    "        show_sentence = sentence.replace(word, \"___\"+word.upper()+\"___\")\n",
    "        print(i, show_sentence)\n",
    "        print()\n",
    "        "
   ]
  },
  {
   "cell_type": "code",
   "execution_count": 10,
   "id": "e3f68384-3ddb-4fee-98c9-62ca7820803f",
   "metadata": {},
   "outputs": [
    {
     "data": {
      "text/html": [
       "<div>\n",
       "<style scoped>\n",
       "    .dataframe tbody tr th:only-of-type {\n",
       "        vertical-align: middle;\n",
       "    }\n",
       "\n",
       "    .dataframe tbody tr th {\n",
       "        vertical-align: top;\n",
       "    }\n",
       "\n",
       "    .dataframe thead th {\n",
       "        text-align: right;\n",
       "    }\n",
       "</style>\n",
       "<table border=\"1\" class=\"dataframe\">\n",
       "  <thead>\n",
       "    <tr style=\"text-align: right;\">\n",
       "      <th></th>\n",
       "      <th>architecture</th>\n",
       "      <th>building</th>\n",
       "      <th>economic</th>\n",
       "      <th>financial</th>\n",
       "    </tr>\n",
       "  </thead>\n",
       "  <tbody>\n",
       "    <tr>\n",
       "      <th>architecture</th>\n",
       "      <td>1.0000</td>\n",
       "      <td>0.0965</td>\n",
       "      <td>0.0000</td>\n",
       "      <td>0.0000</td>\n",
       "    </tr>\n",
       "    <tr>\n",
       "      <th>building</th>\n",
       "      <td>0.0965</td>\n",
       "      <td>1.0000</td>\n",
       "      <td>0.0000</td>\n",
       "      <td>0.0152</td>\n",
       "    </tr>\n",
       "    <tr>\n",
       "      <th>economic</th>\n",
       "      <td>0.0000</td>\n",
       "      <td>0.0000</td>\n",
       "      <td>1.0000</td>\n",
       "      <td>0.0469</td>\n",
       "    </tr>\n",
       "    <tr>\n",
       "      <th>financial</th>\n",
       "      <td>0.0000</td>\n",
       "      <td>0.0152</td>\n",
       "      <td>0.0469</td>\n",
       "      <td>1.0000</td>\n",
       "    </tr>\n",
       "  </tbody>\n",
       "</table>\n",
       "</div>"
      ],
      "text/plain": [
       "              architecture  building  economic  financial\n",
       "architecture        1.0000    0.0965    0.0000     0.0000\n",
       "building            0.0965    1.0000    0.0000     0.0152\n",
       "economic            0.0000    0.0000    1.0000     0.0469\n",
       "financial           0.0000    0.0152    0.0469     1.0000"
      ]
     },
     "execution_count": 10,
     "metadata": {},
     "output_type": "execute_result"
    }
   ],
   "source": [
    "# get N x 4 matrix for 4 words of interest:\n",
    "matrix_slice = simple_term_document_matrix[:,word_index_arr]\n",
    "\n",
    "#normalize each word vector\n",
    "matrix_slice_normed = matrix_slice/np.linalg.norm(matrix_slice, axis=0)\n",
    "\n",
    "similarity_matrix = np.dot(matrix_slice_normed.T, matrix_slice_normed)\n",
    "\n",
    "pd.DataFrame(similarity_matrix, columns=word_arr, index=word_arr)\n"
   ]
  },
  {
   "cell_type": "code",
   "execution_count": null,
   "id": "bc302dfa-811d-4182-88af-62f141149175",
   "metadata": {},
   "outputs": [],
   "source": []
  },
  {
   "cell_type": "code",
   "execution_count": 11,
   "id": "20bd537d-0fe3-43af-8753-b1cb6c68c200",
   "metadata": {},
   "outputs": [
    {
     "data": {
      "text/html": [
       "<div>\n",
       "<style scoped>\n",
       "    .dataframe tbody tr th:only-of-type {\n",
       "        vertical-align: middle;\n",
       "    }\n",
       "\n",
       "    .dataframe tbody tr th {\n",
       "        vertical-align: top;\n",
       "    }\n",
       "\n",
       "    .dataframe thead th {\n",
       "        text-align: right;\n",
       "    }\n",
       "</style>\n",
       "<table border=\"1\" class=\"dataframe\">\n",
       "  <thead>\n",
       "    <tr style=\"text-align: right;\">\n",
       "      <th></th>\n",
       "      <th>architecture</th>\n",
       "      <th>building</th>\n",
       "      <th>economic</th>\n",
       "      <th>financial</th>\n",
       "    </tr>\n",
       "  </thead>\n",
       "  <tbody>\n",
       "    <tr>\n",
       "      <th>architecture</th>\n",
       "      <td>17</td>\n",
       "      <td>4</td>\n",
       "      <td>0</td>\n",
       "      <td>0</td>\n",
       "    </tr>\n",
       "    <tr>\n",
       "      <th>building</th>\n",
       "      <td>4</td>\n",
       "      <td>101</td>\n",
       "      <td>0</td>\n",
       "      <td>1</td>\n",
       "    </tr>\n",
       "    <tr>\n",
       "      <th>economic</th>\n",
       "      <td>0</td>\n",
       "      <td>0</td>\n",
       "      <td>95</td>\n",
       "      <td>3</td>\n",
       "    </tr>\n",
       "    <tr>\n",
       "      <th>financial</th>\n",
       "      <td>0</td>\n",
       "      <td>1</td>\n",
       "      <td>3</td>\n",
       "      <td>43</td>\n",
       "    </tr>\n",
       "  </tbody>\n",
       "</table>\n",
       "</div>"
      ],
      "text/plain": [
       "              architecture  building  economic  financial\n",
       "architecture            17         4         0          0\n",
       "building                 4       101         0          1\n",
       "economic                 0         0        95          3\n",
       "financial                0         1         3         43"
      ]
     },
     "execution_count": 11,
     "metadata": {},
     "output_type": "execute_result"
    }
   ],
   "source": [
    "# what if we don't normalize word vectors? \n",
    "similarity_matrix_unnormed = np.dot(matrix_slice.T, matrix_slice)\n",
    "\n",
    "# convert to pandas dataframe (easier to read!)\n",
    "pd.DataFrame(similarity_matrix_unnormed, columns=word_arr, index=word_arr)"
   ]
  },
  {
   "cell_type": "code",
   "execution_count": null,
   "id": "f1ccf168-21f3-489b-8c01-79e323f52065",
   "metadata": {},
   "outputs": [],
   "source": []
  },
  {
   "cell_type": "code",
   "execution_count": null,
   "id": "eb0453f8-27dd-4d07-83d3-8396b0326a8e",
   "metadata": {},
   "outputs": [],
   "source": []
  },
  {
   "cell_type": "markdown",
   "id": "1b65742a-8375-4c5b-9811-721fddb6ad1b",
   "metadata": {},
   "source": [
    "## Beyond counts: Tf-Idf Vectorization\n",
    "\n",
    "TfIdf vectorizer has similar interface"
   ]
  },
  {
   "cell_type": "code",
   "execution_count": 12,
   "id": "33930455-adc5-41d8-9c41-6eee090a289d",
   "metadata": {},
   "outputs": [
    {
     "name": "stderr",
     "output_type": "stream",
     "text": [
      "/Users/sonjia/cs585/.venv_aug18/lib/python3.11/site-packages/sklearn/feature_extraction/text.py:525: UserWarning: The parameter 'token_pattern' will not be used since 'tokenizer' is not None'\n",
      "  warnings.warn(\n"
     ]
    },
    {
     "name": "stdout",
     "output_type": "stream",
     "text": [
      "K=Size of vocabulary: 9469\n",
      "Shape of term-document matrix (NxK):  (5463, 9469)\n"
     ]
    },
    {
     "data": {
      "text/plain": [
       "matrix([[0.        , 0.        , 0.        , 0.        , 0.        ,\n",
       "         0.        , 0.        , 0.        , 0.        , 0.        ],\n",
       "        [0.        , 0.        , 0.        , 0.        , 0.        ,\n",
       "         0.        , 0.        , 0.        , 0.        , 0.        ],\n",
       "        [0.        , 0.        , 0.        , 0.        , 0.        ,\n",
       "         0.        , 0.        , 0.        , 0.        , 0.        ],\n",
       "        [0.        , 0.        , 0.        , 0.        , 0.        ,\n",
       "         0.        , 0.        , 0.        , 0.        , 0.        ],\n",
       "        [0.        , 0.        , 0.        , 0.        , 0.        ,\n",
       "         0.        , 0.20990859, 0.        , 0.        , 0.        ],\n",
       "        [0.        , 0.        , 0.        , 0.        , 0.        ,\n",
       "         0.        , 0.11565219, 0.        , 0.        , 0.        ],\n",
       "        [0.        , 0.        , 0.        , 0.        , 0.        ,\n",
       "         0.        , 0.        , 0.        , 0.        , 0.        ],\n",
       "        [0.        , 0.        , 0.        , 0.        , 0.        ,\n",
       "         0.        , 0.        , 0.        , 0.        , 0.        ],\n",
       "        [0.        , 0.        , 0.        , 0.        , 0.        ,\n",
       "         0.        , 0.        , 0.        , 0.        , 0.        ],\n",
       "        [0.        , 0.        , 0.        , 0.        , 0.        ,\n",
       "         0.        , 0.        , 0.        , 0.        , 0.        ]])"
      ]
     },
     "execution_count": 12,
     "metadata": {},
     "output_type": "execute_result"
    }
   ],
   "source": [
    "tfidf_vectorizer = TfidfVectorizer(\n",
    "    stop_words=\"english\", \n",
    "    binary=True, # ignore count when applied to data: 1='word in text' 0:'word not in text'\n",
    "    tokenizer=word_tokenize, \n",
    "    min_df=MIN_DOC_FREQ_TO_KEEP\n",
    ") \n",
    "\n",
    "tfidf_matrix = tfidf_vectorizer.fit_transform(raw_documents=texts).todense()\n",
    "\n",
    "K_VOCAB_SIZE = tfidf_matrix.shape[1]\n",
    "print(\"K=Size of vocabulary:\", K_VOCAB_SIZE)\n",
    "\n",
    "print(\"Shape of term-document matrix (NxK): \", tfidf_matrix.shape)\n",
    "\n",
    "tfidf_matrix[:10,:10]"
   ]
  },
  {
   "cell_type": "code",
   "execution_count": 13,
   "id": "be37dc7c-0d15-4f77-b5d8-57b7182c6645",
   "metadata": {},
   "outputs": [
    {
     "name": "stdout",
     "output_type": "stream",
     "text": [
      "% of nonzero cells: 0.17%\n"
     ]
    }
   ],
   "source": [
    "pct_nonzero = (tfidf_matrix>0).mean()  # same as count-vectorizer\n",
    "print(f\"% of nonzero cells: {pct_nonzero:.2%}\") "
   ]
  },
  {
   "cell_type": "code",
   "execution_count": 14,
   "id": "cf159f4e-39e3-462b-b2de-3648a26198c3",
   "metadata": {},
   "outputs": [
    {
     "data": {
      "text/html": [
       "<div>\n",
       "<style scoped>\n",
       "    .dataframe tbody tr th:only-of-type {\n",
       "        vertical-align: middle;\n",
       "    }\n",
       "\n",
       "    .dataframe tbody tr th {\n",
       "        vertical-align: top;\n",
       "    }\n",
       "\n",
       "    .dataframe thead th {\n",
       "        text-align: right;\n",
       "    }\n",
       "</style>\n",
       "<table border=\"1\" class=\"dataframe\">\n",
       "  <thead>\n",
       "    <tr style=\"text-align: right;\">\n",
       "      <th></th>\n",
       "      <th>architecture</th>\n",
       "      <th>building</th>\n",
       "      <th>economic</th>\n",
       "      <th>financial</th>\n",
       "    </tr>\n",
       "  </thead>\n",
       "  <tbody>\n",
       "    <tr>\n",
       "      <th>architecture</th>\n",
       "      <td>1.0000</td>\n",
       "      <td>0.1014</td>\n",
       "      <td>0.0000</td>\n",
       "      <td>0.0000</td>\n",
       "    </tr>\n",
       "    <tr>\n",
       "      <th>building</th>\n",
       "      <td>0.1014</td>\n",
       "      <td>1.0000</td>\n",
       "      <td>0.0000</td>\n",
       "      <td>0.0243</td>\n",
       "    </tr>\n",
       "    <tr>\n",
       "      <th>economic</th>\n",
       "      <td>0.0000</td>\n",
       "      <td>0.0000</td>\n",
       "      <td>1.0000</td>\n",
       "      <td>0.0171</td>\n",
       "    </tr>\n",
       "    <tr>\n",
       "      <th>financial</th>\n",
       "      <td>0.0000</td>\n",
       "      <td>0.0243</td>\n",
       "      <td>0.0171</td>\n",
       "      <td>1.0000</td>\n",
       "    </tr>\n",
       "  </tbody>\n",
       "</table>\n",
       "</div>"
      ],
      "text/plain": [
       "              architecture  building  economic  financial\n",
       "architecture        1.0000    0.1014    0.0000     0.0000\n",
       "building            0.1014    1.0000    0.0000     0.0243\n",
       "economic            0.0000    0.0000    1.0000     0.0171\n",
       "financial           0.0000    0.0243    0.0171     1.0000"
      ]
     },
     "execution_count": 14,
     "metadata": {},
     "output_type": "execute_result"
    }
   ],
   "source": [
    "# get N x 4 matrix for 4 words of interest:\n",
    "matrix_slice = tfidf_matrix[:,word_index_arr]\n",
    "\n",
    "#normalize each word vector\n",
    "matrix_slice_normed = matrix_slice/np.linalg.norm(matrix_slice, axis=0)\n",
    "\n",
    "similarity_matrix = np.dot(matrix_slice_normed.T, matrix_slice_normed)\n",
    "\n",
    "pd.DataFrame(similarity_matrix, columns=word_arr, index=word_arr)"
   ]
  },
  {
   "cell_type": "markdown",
   "id": "8fcece45-093d-4f25-816c-258d1b7ed348",
   "metadata": {},
   "source": [
    "## Vector representation of texts"
   ]
  },
  {
   "cell_type": "code",
   "execution_count": 15,
   "id": "5411be74-0a14-4ffb-80e0-a9c07ce9e1c5",
   "metadata": {},
   "outputs": [
    {
     "name": "stdout",
     "output_type": "stream",
     "text": [
      "newton completed 4 of 4 passes for 51 yards and rushed twice for 25 yards, while jonathan stewart finished the drive with a 1-yard touchdown run, cutting the score to 10–7 with 11:28 left in the second quarter.\n"
     ]
    }
   ],
   "source": [
    "SAMPLE_DOC_IDX = 100\n",
    "print(texts[SAMPLE_DOC_IDX])"
   ]
  },
  {
   "cell_type": "code",
   "execution_count": 16,
   "id": "2f36b464-e138-4ae0-876c-2d197ca95ecf",
   "metadata": {},
   "outputs": [
    {
     "data": {
      "text/html": [
       "<div>\n",
       "<style scoped>\n",
       "    .dataframe tbody tr th:only-of-type {\n",
       "        vertical-align: middle;\n",
       "    }\n",
       "\n",
       "    .dataframe tbody tr th {\n",
       "        vertical-align: top;\n",
       "    }\n",
       "\n",
       "    .dataframe thead th {\n",
       "        text-align: right;\n",
       "    }\n",
       "</style>\n",
       "<table border=\"1\" class=\"dataframe\">\n",
       "  <thead>\n",
       "    <tr style=\"text-align: right;\">\n",
       "      <th></th>\n",
       "      <th>wordtype</th>\n",
       "      <th>count</th>\n",
       "      <th>tfidf</th>\n",
       "    </tr>\n",
       "  </thead>\n",
       "  <tbody>\n",
       "    <tr>\n",
       "      <th>3</th>\n",
       "      <td>10–7</td>\n",
       "      <td>1</td>\n",
       "      <td>0.2467</td>\n",
       "    </tr>\n",
       "    <tr>\n",
       "      <th>4</th>\n",
       "      <td>11:28</td>\n",
       "      <td>1</td>\n",
       "      <td>0.2467</td>\n",
       "    </tr>\n",
       "    <tr>\n",
       "      <th>7</th>\n",
       "      <td>51</td>\n",
       "      <td>1</td>\n",
       "      <td>0.2467</td>\n",
       "    </tr>\n",
       "    <tr>\n",
       "      <th>2</th>\n",
       "      <td>1-yard</td>\n",
       "      <td>1</td>\n",
       "      <td>0.2400</td>\n",
       "    </tr>\n",
       "    <tr>\n",
       "      <th>12</th>\n",
       "      <td>jonathan</td>\n",
       "      <td>1</td>\n",
       "      <td>0.2299</td>\n",
       "    </tr>\n",
       "    <tr>\n",
       "      <th>18</th>\n",
       "      <td>rushed</td>\n",
       "      <td>1</td>\n",
       "      <td>0.2224</td>\n",
       "    </tr>\n",
       "    <tr>\n",
       "      <th>9</th>\n",
       "      <td>cutting</td>\n",
       "      <td>1</td>\n",
       "      <td>0.2224</td>\n",
       "    </tr>\n",
       "    <tr>\n",
       "      <th>21</th>\n",
       "      <td>stewart</td>\n",
       "      <td>1</td>\n",
       "      <td>0.2192</td>\n",
       "    </tr>\n",
       "    <tr>\n",
       "      <th>16</th>\n",
       "      <td>quarter</td>\n",
       "      <td>1</td>\n",
       "      <td>0.2163</td>\n",
       "    </tr>\n",
       "    <tr>\n",
       "      <th>22</th>\n",
       "      <td>touchdown</td>\n",
       "      <td>1</td>\n",
       "      <td>0.2091</td>\n",
       "    </tr>\n",
       "    <tr>\n",
       "      <th>15</th>\n",
       "      <td>passes</td>\n",
       "      <td>1</td>\n",
       "      <td>0.2091</td>\n",
       "    </tr>\n",
       "    <tr>\n",
       "      <th>19</th>\n",
       "      <td>score</td>\n",
       "      <td>1</td>\n",
       "      <td>0.2091</td>\n",
       "    </tr>\n",
       "    <tr>\n",
       "      <th>23</th>\n",
       "      <td>twice</td>\n",
       "      <td>1</td>\n",
       "      <td>0.2070</td>\n",
       "    </tr>\n",
       "    <tr>\n",
       "      <th>11</th>\n",
       "      <td>finished</td>\n",
       "      <td>1</td>\n",
       "      <td>0.2051</td>\n",
       "    </tr>\n",
       "    <tr>\n",
       "      <th>10</th>\n",
       "      <td>drive</td>\n",
       "      <td>1</td>\n",
       "      <td>0.1955</td>\n",
       "    </tr>\n",
       "    <tr>\n",
       "      <th>6</th>\n",
       "      <td>4</td>\n",
       "      <td>2</td>\n",
       "      <td>0.1929</td>\n",
       "    </tr>\n",
       "    <tr>\n",
       "      <th>5</th>\n",
       "      <td>25</td>\n",
       "      <td>1</td>\n",
       "      <td>0.1894</td>\n",
       "    </tr>\n",
       "    <tr>\n",
       "      <th>17</th>\n",
       "      <td>run</td>\n",
       "      <td>1</td>\n",
       "      <td>0.1834</td>\n",
       "    </tr>\n",
       "    <tr>\n",
       "      <th>14</th>\n",
       "      <td>newton</td>\n",
       "      <td>1</td>\n",
       "      <td>0.1825</td>\n",
       "    </tr>\n",
       "    <tr>\n",
       "      <th>8</th>\n",
       "      <td>completed</td>\n",
       "      <td>1</td>\n",
       "      <td>0.1825</td>\n",
       "    </tr>\n",
       "    <tr>\n",
       "      <th>24</th>\n",
       "      <td>yards</td>\n",
       "      <td>2</td>\n",
       "      <td>0.1741</td>\n",
       "    </tr>\n",
       "    <tr>\n",
       "      <th>13</th>\n",
       "      <td>left</td>\n",
       "      <td>1</td>\n",
       "      <td>0.1659</td>\n",
       "    </tr>\n",
       "    <tr>\n",
       "      <th>20</th>\n",
       "      <td>second</td>\n",
       "      <td>1</td>\n",
       "      <td>0.1591</td>\n",
       "    </tr>\n",
       "    <tr>\n",
       "      <th>0</th>\n",
       "      <td>,</td>\n",
       "      <td>2</td>\n",
       "      <td>0.0381</td>\n",
       "    </tr>\n",
       "    <tr>\n",
       "      <th>1</th>\n",
       "      <td>.</td>\n",
       "      <td>1</td>\n",
       "      <td>0.0306</td>\n",
       "    </tr>\n",
       "  </tbody>\n",
       "</table>\n",
       "</div>"
      ],
      "text/plain": [
       "     wordtype  count   tfidf\n",
       "3        10–7      1  0.2467\n",
       "4       11:28      1  0.2467\n",
       "7          51      1  0.2467\n",
       "2      1-yard      1  0.2400\n",
       "12   jonathan      1  0.2299\n",
       "18     rushed      1  0.2224\n",
       "9     cutting      1  0.2224\n",
       "21    stewart      1  0.2192\n",
       "16    quarter      1  0.2163\n",
       "22  touchdown      1  0.2091\n",
       "15     passes      1  0.2091\n",
       "19      score      1  0.2091\n",
       "23      twice      1  0.2070\n",
       "11   finished      1  0.2051\n",
       "10      drive      1  0.1955\n",
       "6           4      2  0.1929\n",
       "5          25      1  0.1894\n",
       "17        run      1  0.1834\n",
       "14     newton      1  0.1825\n",
       "8   completed      1  0.1825\n",
       "24      yards      2  0.1741\n",
       "13       left      1  0.1659\n",
       "20     second      1  0.1591\n",
       "0           ,      2  0.0381\n",
       "1           .      1  0.0306"
      ]
     },
     "execution_count": 16,
     "metadata": {},
     "output_type": "execute_result"
    }
   ],
   "source": [
    "doc_vector_1 = simple_term_document_matrix[SAMPLE_DOC_IDX, :]\n",
    "doc_vector_2 = tfidf_matrix[SAMPLE_DOC_IDX, :]\n",
    "\n",
    "# add all non-stop words to dataframe for review:\n",
    "wordtype_info = [(word, doc_vector_1[0,j], doc_vector_2[0,j]) \n",
    "                 for j, word in enumerate(vocab)  \n",
    "                 if doc_vector_1[0,j]>0]\n",
    "\n",
    "df_wordtype_info = pd.DataFrame(wordtype_info, columns = [\"wordtype\",\"count\",\"tfidf\"]) \n",
    "df_wordtype_info.sort_values('tfidf', ascending=False)"
   ]
  },
  {
   "cell_type": "markdown",
   "id": "0d4d3faa-b2ba-4c68-8167-fe772e3c05b7",
   "metadata": {},
   "source": [
    "## Multi-word representations: Texts and Queries"
   ]
  },
  {
   "cell_type": "code",
   "execution_count": 17,
   "id": "0f98d374-271d-430b-b616-86cd1e06ec17",
   "metadata": {},
   "outputs": [
    {
     "data": {
      "text/plain": [
       "'mortgage bankers, accountants, and cost engineers are likely participants in creating an overall plan for the financial management of the building construction project.'"
      ]
     },
     "execution_count": 17,
     "metadata": {},
     "output_type": "execute_result"
    }
   ],
   "source": [
    "# query: sentence that uses 'building' and 'financial' - why similar? \n",
    "\n",
    "query_vector = tfidf_vectorizer.transform([\"building financial\"]).todense()\n",
    "\n",
    "text_scores = np.dot(tfidf_matrix, query_vector.T)\n",
    "query_match_index = np.argmax(text_scores)\n",
    "texts[query_match_index]"
   ]
  },
  {
   "cell_type": "code",
   "execution_count": null,
   "id": "2e5be5ff-83f1-45e1-83d3-b45d6f844b79",
   "metadata": {},
   "outputs": [],
   "source": []
  }
 ],
 "metadata": {
  "kernelspec": {
   "display_name": "Python 3 (ipykernel)",
   "language": "python",
   "name": "python3"
  },
  "language_info": {
   "codemirror_mode": {
    "name": "ipython",
    "version": 3
   },
   "file_extension": ".py",
   "mimetype": "text/x-python",
   "name": "python",
   "nbconvert_exporter": "python",
   "pygments_lexer": "ipython3",
   "version": "3.11.4"
  }
 },
 "nbformat": 4,
 "nbformat_minor": 5
}
