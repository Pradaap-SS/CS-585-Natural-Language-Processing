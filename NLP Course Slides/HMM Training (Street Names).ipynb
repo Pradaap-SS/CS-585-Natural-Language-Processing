{
 "cells": [
  {
   "cell_type": "code",
   "execution_count": 39,
   "metadata": {
    "colab": {
     "base_uri": "https://localhost:8080/"
    },
    "executionInfo": {
     "elapsed": 3453,
     "status": "ok",
     "timestamp": 1666817291093,
     "user": {
      "displayName": "Kai Shu",
      "userId": "12656867753077324183"
     },
     "user_tz": 300
    },
    "id": "RJ75I96xJafp",
    "outputId": "74a0ffda-cc28-4bb7-a356-dcd3b5c7475e"
   },
   "outputs": [
    {
     "name": "stdout",
     "output_type": "stream",
     "text": [
      "Looking in indexes: https://pypi.org/simple, https://us-python.pkg.dev/colab-wheels/public/simple/\n",
      "Requirement already satisfied: pomegranate in /usr/local/lib/python3.7/dist-packages (0.14.8)\n",
      "Requirement already satisfied: numpy>=1.20.0 in /usr/local/lib/python3.7/dist-packages (from pomegranate) (1.21.6)\n",
      "Requirement already satisfied: pyyaml in /usr/local/lib/python3.7/dist-packages (from pomegranate) (6.0)\n",
      "Requirement already satisfied: joblib>=0.9.0b4 in /usr/local/lib/python3.7/dist-packages (from pomegranate) (1.2.0)\n",
      "Requirement already satisfied: networkx>=2.4 in /usr/local/lib/python3.7/dist-packages (from pomegranate) (2.6.3)\n",
      "Requirement already satisfied: scipy>=0.17.0 in /usr/local/lib/python3.7/dist-packages (from pomegranate) (1.7.3)\n"
     ]
    }
   ],
   "source": [
    "# Note: version 0.14.8 is use in this notebook -\n",
    "# pomegranate 1.0 forward uses pytorch backend and a different interface, see pomegranate.hmm.DenseHMM\n",
    "pip install pomegranate"
   ]
  },
  {
   "cell_type": "code",
   "execution_count": 40,
   "metadata": {
    "executionInfo": {
     "elapsed": 137,
     "status": "ok",
     "timestamp": 1666817309728,
     "user": {
      "displayName": "Kai Shu",
      "userId": "12656867753077324183"
     },
     "user_tz": 300
    },
    "id": "JV-Z5VUNIFmo"
   },
   "outputs": [],
   "source": [
    "import itertools\n",
    "import operator\n",
    "from random import random\n",
    "from matplotlib import pyplot as plt\n",
    "import numpy as np\n",
    "import networkx as nx\n",
    "import pandas as pd\n",
    "import pomegranate\n",
    "from pomegranate import HiddenMarkovModel, DiscreteDistribution, State\n",
    "from sklearn.model_selection import train_test_split\n",
    "import seaborn as sns\n",
    "\n",
    "%matplotlib inline"
   ]
  },
  {
   "cell_type": "markdown",
   "metadata": {
    "id": "2uZNZfhAIFmq"
   },
   "source": [
    "## Get data"
   ]
  },
  {
   "cell_type": "code",
   "execution_count": null,
   "metadata": {
    "id": "SfcDXMwwIFmr"
   },
   "outputs": [],
   "source": [
    "!wget -q -O chicago_streets.csv \\\n",
    " https://data.cityofchicago.org/api/views/i6bp-fvbx/rows.csv?accessType=DOWNLOAD"
   ]
  },
  {
   "cell_type": "code",
   "execution_count": 42,
   "metadata": {
    "colab": {
     "base_uri": "https://localhost:8080/"
    },
    "executionInfo": {
     "elapsed": 153,
     "status": "ok",
     "timestamp": 1666817342309,
     "user": {
      "displayName": "Kai Shu",
      "userId": "12656867753077324183"
     },
     "user_tz": 300
    },
    "id": "9nwmY8KXIFmr",
    "outputId": "b2fa7442-e031-430d-d14c-efb9cd4a59c2"
   },
   "outputs": [
    {
     "data": {
      "text/plain": [
       "(2582, 7)"
      ]
     },
     "execution_count": 42,
     "metadata": {},
     "output_type": "execute_result"
    }
   ],
   "source": [
    "streets_df = pd.read_csv(\"chicago_streets.csv\")\n",
    "streets_df.shape"
   ]
  },
  {
   "cell_type": "code",
   "execution_count": 43,
   "metadata": {
    "colab": {
     "base_uri": "https://localhost:8080/",
     "height": 206
    },
    "executionInfo": {
     "elapsed": 321,
     "status": "ok",
     "timestamp": 1666817351916,
     "user": {
      "displayName": "Kai Shu",
      "userId": "12656867753077324183"
     },
     "user_tz": 300
    },
    "id": "o1eiNQCqIFmr",
    "outputId": "d3d14e16-cb56-4bab-bd6f-4ff3c5cd9682"
   },
   "outputs": [
    {
     "data": {
      "text/html": [
       "\n",
       "  <div id=\"df-0e0c0b5a-8cc8-4044-ad24-ce1a932b48ac\">\n",
       "    <div class=\"colab-df-container\">\n",
       "      <div>\n",
       "<style scoped>\n",
       "    .dataframe tbody tr th:only-of-type {\n",
       "        vertical-align: middle;\n",
       "    }\n",
       "\n",
       "    .dataframe tbody tr th {\n",
       "        vertical-align: top;\n",
       "    }\n",
       "\n",
       "    .dataframe thead th {\n",
       "        text-align: right;\n",
       "    }\n",
       "</style>\n",
       "<table border=\"1\" class=\"dataframe\">\n",
       "  <thead>\n",
       "    <tr style=\"text-align: right;\">\n",
       "      <th></th>\n",
       "      <th>Full Street Name</th>\n",
       "      <th>Direction</th>\n",
       "      <th>Street</th>\n",
       "      <th>Suffix</th>\n",
       "      <th>Suffix Direction</th>\n",
       "      <th>Min Address</th>\n",
       "      <th>Max Address</th>\n",
       "    </tr>\n",
       "  </thead>\n",
       "  <tbody>\n",
       "    <tr>\n",
       "      <th>0</th>\n",
       "      <td>E 100TH PL</td>\n",
       "      <td>E</td>\n",
       "      <td>100TH</td>\n",
       "      <td>PL</td>\n",
       "      <td></td>\n",
       "      <td>1</td>\n",
       "      <td>1199</td>\n",
       "    </tr>\n",
       "    <tr>\n",
       "      <th>1</th>\n",
       "      <td>W 100TH PL</td>\n",
       "      <td>W</td>\n",
       "      <td>100TH</td>\n",
       "      <td>PL</td>\n",
       "      <td></td>\n",
       "      <td>300</td>\n",
       "      <td>2629</td>\n",
       "    </tr>\n",
       "    <tr>\n",
       "      <th>2</th>\n",
       "      <td>E 100TH ST</td>\n",
       "      <td>E</td>\n",
       "      <td>100TH</td>\n",
       "      <td>ST</td>\n",
       "      <td></td>\n",
       "      <td>1</td>\n",
       "      <td>4001</td>\n",
       "    </tr>\n",
       "    <tr>\n",
       "      <th>3</th>\n",
       "      <td>W 100TH ST</td>\n",
       "      <td>W</td>\n",
       "      <td>100TH</td>\n",
       "      <td>ST</td>\n",
       "      <td></td>\n",
       "      <td>1</td>\n",
       "      <td>2799</td>\n",
       "    </tr>\n",
       "    <tr>\n",
       "      <th>4</th>\n",
       "      <td>E 101ST PL</td>\n",
       "      <td>E</td>\n",
       "      <td>101ST</td>\n",
       "      <td>PL</td>\n",
       "      <td></td>\n",
       "      <td>1</td>\n",
       "      <td>699</td>\n",
       "    </tr>\n",
       "  </tbody>\n",
       "</table>\n",
       "</div>\n",
       "      <button class=\"colab-df-convert\" onclick=\"convertToInteractive('df-0e0c0b5a-8cc8-4044-ad24-ce1a932b48ac')\"\n",
       "              title=\"Convert this dataframe to an interactive table.\"\n",
       "              style=\"display:none;\">\n",
       "        \n",
       "  <svg xmlns=\"http://www.w3.org/2000/svg\" height=\"24px\"viewBox=\"0 0 24 24\"\n",
       "       width=\"24px\">\n",
       "    <path d=\"M0 0h24v24H0V0z\" fill=\"none\"/>\n",
       "    <path d=\"M18.56 5.44l.94 2.06.94-2.06 2.06-.94-2.06-.94-.94-2.06-.94 2.06-2.06.94zm-11 1L8.5 8.5l.94-2.06 2.06-.94-2.06-.94L8.5 2.5l-.94 2.06-2.06.94zm10 10l.94 2.06.94-2.06 2.06-.94-2.06-.94-.94-2.06-.94 2.06-2.06.94z\"/><path d=\"M17.41 7.96l-1.37-1.37c-.4-.4-.92-.59-1.43-.59-.52 0-1.04.2-1.43.59L10.3 9.45l-7.72 7.72c-.78.78-.78 2.05 0 2.83L4 21.41c.39.39.9.59 1.41.59.51 0 1.02-.2 1.41-.59l7.78-7.78 2.81-2.81c.8-.78.8-2.07 0-2.86zM5.41 20L4 18.59l7.72-7.72 1.47 1.35L5.41 20z\"/>\n",
       "  </svg>\n",
       "      </button>\n",
       "      \n",
       "  <style>\n",
       "    .colab-df-container {\n",
       "      display:flex;\n",
       "      flex-wrap:wrap;\n",
       "      gap: 12px;\n",
       "    }\n",
       "\n",
       "    .colab-df-convert {\n",
       "      background-color: #E8F0FE;\n",
       "      border: none;\n",
       "      border-radius: 50%;\n",
       "      cursor: pointer;\n",
       "      display: none;\n",
       "      fill: #1967D2;\n",
       "      height: 32px;\n",
       "      padding: 0 0 0 0;\n",
       "      width: 32px;\n",
       "    }\n",
       "\n",
       "    .colab-df-convert:hover {\n",
       "      background-color: #E2EBFA;\n",
       "      box-shadow: 0px 1px 2px rgba(60, 64, 67, 0.3), 0px 1px 3px 1px rgba(60, 64, 67, 0.15);\n",
       "      fill: #174EA6;\n",
       "    }\n",
       "\n",
       "    [theme=dark] .colab-df-convert {\n",
       "      background-color: #3B4455;\n",
       "      fill: #D2E3FC;\n",
       "    }\n",
       "\n",
       "    [theme=dark] .colab-df-convert:hover {\n",
       "      background-color: #434B5C;\n",
       "      box-shadow: 0px 1px 3px 1px rgba(0, 0, 0, 0.15);\n",
       "      filter: drop-shadow(0px 1px 2px rgba(0, 0, 0, 0.3));\n",
       "      fill: #FFFFFF;\n",
       "    }\n",
       "  </style>\n",
       "\n",
       "      <script>\n",
       "        const buttonEl =\n",
       "          document.querySelector('#df-0e0c0b5a-8cc8-4044-ad24-ce1a932b48ac button.colab-df-convert');\n",
       "        buttonEl.style.display =\n",
       "          google.colab.kernel.accessAllowed ? 'block' : 'none';\n",
       "\n",
       "        async function convertToInteractive(key) {\n",
       "          const element = document.querySelector('#df-0e0c0b5a-8cc8-4044-ad24-ce1a932b48ac');\n",
       "          const dataTable =\n",
       "            await google.colab.kernel.invokeFunction('convertToInteractive',\n",
       "                                                     [key], {});\n",
       "          if (!dataTable) return;\n",
       "\n",
       "          const docLinkHtml = 'Like what you see? Visit the ' +\n",
       "            '<a target=\"_blank\" href=https://colab.research.google.com/notebooks/data_table.ipynb>data table notebook</a>'\n",
       "            + ' to learn more about interactive tables.';\n",
       "          element.innerHTML = '';\n",
       "          dataTable['output_type'] = 'display_data';\n",
       "          await google.colab.output.renderOutput(dataTable, element);\n",
       "          const docLink = document.createElement('div');\n",
       "          docLink.innerHTML = docLinkHtml;\n",
       "          element.appendChild(docLink);\n",
       "        }\n",
       "      </script>\n",
       "    </div>\n",
       "  </div>\n",
       "  "
      ],
      "text/plain": [
       "  Full Street Name Direction Street  Suffix Suffix Direction  Min Address  \\\n",
       "0       E 100TH PL         E   100TH     PL                             1   \n",
       "1       W 100TH PL         W   100TH     PL                           300   \n",
       "2       E 100TH ST         E   100TH     ST                             1   \n",
       "3       W 100TH ST         W   100TH     ST                             1   \n",
       "4       E 101ST PL         E   101ST     PL                             1   \n",
       "\n",
       "   Max Address  \n",
       "0         1199  \n",
       "1         2629  \n",
       "2         4001  \n",
       "3         2799  \n",
       "4          699  "
      ]
     },
     "execution_count": 43,
     "metadata": {},
     "output_type": "execute_result"
    }
   ],
   "source": [
    "streets_df.head()"
   ]
  },
  {
   "cell_type": "code",
   "execution_count": 44,
   "metadata": {
    "colab": {
     "base_uri": "https://localhost:8080/",
     "height": 206
    },
    "executionInfo": {
     "elapsed": 174,
     "status": "ok",
     "timestamp": 1666817463663,
     "user": {
      "displayName": "Kai Shu",
      "userId": "12656867753077324183"
     },
     "user_tz": 300
    },
    "id": "j_zDq7bLIFms",
    "outputId": "599f9d2c-5d05-4305-cd68-27883ecba9c7"
   },
   "outputs": [
    {
     "data": {
      "text/html": [
       "\n",
       "  <div id=\"df-297e3235-2c21-4c53-8fc2-4db7849c81e9\">\n",
       "    <div class=\"colab-df-container\">\n",
       "      <div>\n",
       "<style scoped>\n",
       "    .dataframe tbody tr th:only-of-type {\n",
       "        vertical-align: middle;\n",
       "    }\n",
       "\n",
       "    .dataframe tbody tr th {\n",
       "        vertical-align: top;\n",
       "    }\n",
       "\n",
       "    .dataframe thead th {\n",
       "        text-align: right;\n",
       "    }\n",
       "</style>\n",
       "<table border=\"1\" class=\"dataframe\">\n",
       "  <thead>\n",
       "    <tr style=\"text-align: right;\">\n",
       "      <th></th>\n",
       "      <th>Full Street Name</th>\n",
       "      <th>Direction</th>\n",
       "      <th>Street</th>\n",
       "      <th>Suffix</th>\n",
       "      <th>Suffix Direction</th>\n",
       "      <th>Min Address</th>\n",
       "      <th>Max Address</th>\n",
       "    </tr>\n",
       "  </thead>\n",
       "  <tbody>\n",
       "    <tr>\n",
       "      <th>2307</th>\n",
       "      <td>W SHERMAN PARK   N</td>\n",
       "      <td>W</td>\n",
       "      <td>SHERMAN PARK</td>\n",
       "      <td></td>\n",
       "      <td>N</td>\n",
       "      <td>1216</td>\n",
       "      <td>1336</td>\n",
       "    </tr>\n",
       "    <tr>\n",
       "      <th>2361</th>\n",
       "      <td>W STEVENSON EXPY OB</td>\n",
       "      <td>W</td>\n",
       "      <td>STEVENSON</td>\n",
       "      <td>EXPY</td>\n",
       "      <td>OB</td>\n",
       "      <td>1</td>\n",
       "      <td>4832</td>\n",
       "    </tr>\n",
       "    <tr>\n",
       "      <th>1673</th>\n",
       "      <td>N LINCOLN PARK   W</td>\n",
       "      <td>N</td>\n",
       "      <td>LINCOLN PARK</td>\n",
       "      <td></td>\n",
       "      <td>W</td>\n",
       "      <td>1800</td>\n",
       "      <td>2399</td>\n",
       "    </tr>\n",
       "    <tr>\n",
       "      <th>845</th>\n",
       "      <td>S DAN RYAN EXPY IB</td>\n",
       "      <td>S</td>\n",
       "      <td>DAN RYAN</td>\n",
       "      <td>EXPY</td>\n",
       "      <td>IB</td>\n",
       "      <td>510</td>\n",
       "      <td>9599</td>\n",
       "    </tr>\n",
       "    <tr>\n",
       "      <th>1592</th>\n",
       "      <td>S LAKE PARK AVE W</td>\n",
       "      <td>S</td>\n",
       "      <td>LAKE PARK</td>\n",
       "      <td>AVE</td>\n",
       "      <td>W</td>\n",
       "      <td>5300</td>\n",
       "      <td>5399</td>\n",
       "    </tr>\n",
       "  </tbody>\n",
       "</table>\n",
       "</div>\n",
       "      <button class=\"colab-df-convert\" onclick=\"convertToInteractive('df-297e3235-2c21-4c53-8fc2-4db7849c81e9')\"\n",
       "              title=\"Convert this dataframe to an interactive table.\"\n",
       "              style=\"display:none;\">\n",
       "        \n",
       "  <svg xmlns=\"http://www.w3.org/2000/svg\" height=\"24px\"viewBox=\"0 0 24 24\"\n",
       "       width=\"24px\">\n",
       "    <path d=\"M0 0h24v24H0V0z\" fill=\"none\"/>\n",
       "    <path d=\"M18.56 5.44l.94 2.06.94-2.06 2.06-.94-2.06-.94-.94-2.06-.94 2.06-2.06.94zm-11 1L8.5 8.5l.94-2.06 2.06-.94-2.06-.94L8.5 2.5l-.94 2.06-2.06.94zm10 10l.94 2.06.94-2.06 2.06-.94-2.06-.94-.94-2.06-.94 2.06-2.06.94z\"/><path d=\"M17.41 7.96l-1.37-1.37c-.4-.4-.92-.59-1.43-.59-.52 0-1.04.2-1.43.59L10.3 9.45l-7.72 7.72c-.78.78-.78 2.05 0 2.83L4 21.41c.39.39.9.59 1.41.59.51 0 1.02-.2 1.41-.59l7.78-7.78 2.81-2.81c.8-.78.8-2.07 0-2.86zM5.41 20L4 18.59l7.72-7.72 1.47 1.35L5.41 20z\"/>\n",
       "  </svg>\n",
       "      </button>\n",
       "      \n",
       "  <style>\n",
       "    .colab-df-container {\n",
       "      display:flex;\n",
       "      flex-wrap:wrap;\n",
       "      gap: 12px;\n",
       "    }\n",
       "\n",
       "    .colab-df-convert {\n",
       "      background-color: #E8F0FE;\n",
       "      border: none;\n",
       "      border-radius: 50%;\n",
       "      cursor: pointer;\n",
       "      display: none;\n",
       "      fill: #1967D2;\n",
       "      height: 32px;\n",
       "      padding: 0 0 0 0;\n",
       "      width: 32px;\n",
       "    }\n",
       "\n",
       "    .colab-df-convert:hover {\n",
       "      background-color: #E2EBFA;\n",
       "      box-shadow: 0px 1px 2px rgba(60, 64, 67, 0.3), 0px 1px 3px 1px rgba(60, 64, 67, 0.15);\n",
       "      fill: #174EA6;\n",
       "    }\n",
       "\n",
       "    [theme=dark] .colab-df-convert {\n",
       "      background-color: #3B4455;\n",
       "      fill: #D2E3FC;\n",
       "    }\n",
       "\n",
       "    [theme=dark] .colab-df-convert:hover {\n",
       "      background-color: #434B5C;\n",
       "      box-shadow: 0px 1px 3px 1px rgba(0, 0, 0, 0.15);\n",
       "      filter: drop-shadow(0px 1px 2px rgba(0, 0, 0, 0.3));\n",
       "      fill: #FFFFFF;\n",
       "    }\n",
       "  </style>\n",
       "\n",
       "      <script>\n",
       "        const buttonEl =\n",
       "          document.querySelector('#df-297e3235-2c21-4c53-8fc2-4db7849c81e9 button.colab-df-convert');\n",
       "        buttonEl.style.display =\n",
       "          google.colab.kernel.accessAllowed ? 'block' : 'none';\n",
       "\n",
       "        async function convertToInteractive(key) {\n",
       "          const element = document.querySelector('#df-297e3235-2c21-4c53-8fc2-4db7849c81e9');\n",
       "          const dataTable =\n",
       "            await google.colab.kernel.invokeFunction('convertToInteractive',\n",
       "                                                     [key], {});\n",
       "          if (!dataTable) return;\n",
       "\n",
       "          const docLinkHtml = 'Like what you see? Visit the ' +\n",
       "            '<a target=\"_blank\" href=https://colab.research.google.com/notebooks/data_table.ipynb>data table notebook</a>'\n",
       "            + ' to learn more about interactive tables.';\n",
       "          element.innerHTML = '';\n",
       "          dataTable['output_type'] = 'display_data';\n",
       "          await google.colab.output.renderOutput(dataTable, element);\n",
       "          const docLink = document.createElement('div');\n",
       "          docLink.innerHTML = docLinkHtml;\n",
       "          element.appendChild(docLink);\n",
       "        }\n",
       "      </script>\n",
       "    </div>\n",
       "  </div>\n",
       "  "
      ],
      "text/plain": [
       "         Full Street Name Direction       Street  Suffix Suffix Direction  \\\n",
       "2307   W SHERMAN PARK   N         W  SHERMAN PARK                       N   \n",
       "2361  W STEVENSON EXPY OB         W     STEVENSON   EXPY               OB   \n",
       "1673   N LINCOLN PARK   W         N  LINCOLN PARK                       W   \n",
       "845    S DAN RYAN EXPY IB         S      DAN RYAN   EXPY               IB   \n",
       "1592    S LAKE PARK AVE W         S     LAKE PARK    AVE                W   \n",
       "\n",
       "      Min Address  Max Address  \n",
       "2307         1216         1336  \n",
       "2361            1         4832  \n",
       "1673         1800         2399  \n",
       "845           510         9599  \n",
       "1592         5300         5399  "
      ]
     },
     "execution_count": 44,
     "metadata": {},
     "output_type": "execute_result"
    }
   ],
   "source": [
    "streets_df[streets_df[\"Suffix Direction\"].str.isalpha()].sample(5)"
   ]
  },
  {
   "cell_type": "markdown",
   "metadata": {
    "id": "88ewXht1IFms"
   },
   "source": [
    "## Create labeled dataset"
   ]
  },
  {
   "cell_type": "code",
   "execution_count": 45,
   "metadata": {
    "executionInfo": {
     "elapsed": 298,
     "status": "ok",
     "timestamp": 1666817545678,
     "user": {
      "displayName": "Kai Shu",
      "userId": "12656867753077324183"
     },
     "user_tz": 300
    },
    "id": "nJ6mfQKOIFms"
   },
   "outputs": [],
   "source": [
    "streets_df.columns = [x.strip() for x in streets_df.columns]\n",
    "\n",
    "vocab = {y for x in streets_df[\"Full Street Name\"].str.split() for y in x}\n",
    "vocab = sorted(list(vocab))\n",
    "word2idx = {x: i for i, x in enumerate(vocab)}\n",
    "\n",
    "fields = [\"Direction\", \"Street\", \"Suffix\", \"Suffix Direction\"]\n",
    "field_names = {\"Direction\": \"DIR\", \n",
    "               \"Street\": \"STR\", \n",
    "               \"Suffix\": \"SUF\", \n",
    "               \"Suffix Direction\": \"SD\"}\n",
    "def iob2_tag(span, tagname):\n",
    "    if span >= 1:\n",
    "        return [f\"B-{tagname}\"] + [f\"I-{tagname}\" for i in range(span-1)]\n",
    "    return []\n",
    "\n",
    "X = []\n",
    "Y = []\n",
    "for _, row in streets_df.iterrows():\n",
    "    row = row.to_dict()\n",
    "    X.append(np.array(list(itertools.chain.from_iterable([row[x].split() for x in fields]))))\n",
    "    Y.append(list(itertools.chain.from_iterable([iob2_tag(len(row[x].split()), field_names[x]) for x in fields])))"
   ]
  },
  {
   "cell_type": "code",
   "execution_count": 46,
   "metadata": {
    "colab": {
     "base_uri": "https://localhost:8080/"
    },
    "executionInfo": {
     "elapsed": 134,
     "status": "ok",
     "timestamp": 1666817561419,
     "user": {
      "displayName": "Kai Shu",
      "userId": "12656867753077324183"
     },
     "user_tz": 300
    },
    "id": "zScNgDs4IFmt",
    "outputId": "48b91abc-159f-4ecc-9008-c428d43ea2d2"
   },
   "outputs": [
    {
     "data": {
      "text/plain": [
       "(array(['E', '100TH', 'PL'], dtype='<U5'), ['B-DIR', 'B-STR', 'B-SUF'])"
      ]
     },
     "execution_count": 46,
     "metadata": {},
     "output_type": "execute_result"
    }
   ],
   "source": [
    "X[0], Y[0]"
   ]
  },
  {
   "cell_type": "code",
   "execution_count": 47,
   "metadata": {
    "colab": {
     "base_uri": "https://localhost:8080/"
    },
    "executionInfo": {
     "elapsed": 95,
     "status": "ok",
     "timestamp": 1666817592806,
     "user": {
      "displayName": "Kai Shu",
      "userId": "12656867753077324183"
     },
     "user_tz": 300
    },
    "id": "U3KV2Nr7IFmt",
    "outputId": "c75a98e3-fb16-436a-aa51-9656976bd02a"
   },
   "outputs": [
    {
     "data": {
      "text/plain": [
       "['B-DIR', 'B-SD', 'B-STR', 'B-SUF', 'I-STR']"
      ]
     },
     "execution_count": 47,
     "metadata": {},
     "output_type": "execute_result"
    }
   ],
   "source": [
    "states = sorted(list({y for x in Y for y in x}))\n",
    "num_states = len(states)\n",
    "states"
   ]
  },
  {
   "cell_type": "markdown",
   "metadata": {
    "id": "reBEDbOkIFmu"
   },
   "source": [
    "## Train HMM using `pomegranate`"
   ]
  },
  {
   "cell_type": "code",
   "execution_count": 48,
   "metadata": {
    "executionInfo": {
     "elapsed": 115,
     "status": "ok",
     "timestamp": 1666817685056,
     "user": {
      "displayName": "Kai Shu",
      "userId": "12656867753077324183"
     },
     "user_tz": 300
    },
    "id": "q6uZ_H7wIFmu"
   },
   "outputs": [],
   "source": [
    "hmm = HiddenMarkovModel()\n",
    "hmmstates = [State(DiscreteDistribution.from_samples(vocab), name=s) for s in states]\n",
    "hmm.add_states(hmmstates)\n",
    "for s1 in hmmstates:\n",
    "    hmm.add_transition(hmm.start, s1, 1.0/len(hmmstates))\n",
    "    for s2 in hmmstates + [hmm.end]:\n",
    "        hmm.add_transition(s1, s2, 1.0/(len(hmmstates)+1))\n",
    "hmm.bake()"
   ]
  },
  {
   "cell_type": "code",
   "execution_count": 49,
   "metadata": {
    "executionInfo": {
     "elapsed": 131,
     "status": "ok",
     "timestamp": 1666817729572,
     "user": {
      "displayName": "Kai Shu",
      "userId": "12656867753077324183"
     },
     "user_tz": 300
    },
    "id": "b1_EvfuTIFmu"
   },
   "outputs": [],
   "source": [
    "# hmm.fit(sequences=X, labels=Y, algorithm=\"labeled\")\n",
    "\n",
    "# ^ Broken\n",
    "# Implement manually\n",
    "state_dict = {s: i for i, s in enumerate(states)}\n",
    "start_counts = [0 for j in range(num_states)]\n",
    "transition_counts = [[0 for j in range(num_states + 1)] \n",
    "                     for i in range(num_states)]\n",
    "\n",
    "# Iterate through data collecting transition counts\n",
    "for i, y in enumerate(Y):\n",
    "    start_counts[state_dict[y[0]]] += 1\n",
    "    for j, yy in enumerate(y):\n",
    "        if j + 1 == len(y):\n",
    "            transition_counts[state_dict[yy]][-1] += 1\n",
    "        else:\n",
    "            transition_counts[state_dict[yy]][state_dict[y[j+1]]] += 1\n",
    "\n",
    "# Calculate emission probabilities for each state\n",
    "for i, s in enumerate(hmmstates):\n",
    "    assoc_vocab = [X[i][j] for i, y in enumerate(Y) for j, yy in enumerate(y) if yy == s.name]\n",
    "    s.distribution = DiscreteDistribution.from_samples(assoc_vocab)\n",
    "\n",
    "# Calculate transition probabilities for each state pair\n",
    "for i, s in enumerate(hmmstates):\n",
    "    hmm.add_transition(hmm.start, s, start_counts[i]/sum(start_counts))\n",
    "    for j, ss in enumerate(hmmstates):\n",
    "        hmm.add_transition(s, ss, transition_counts[i][j]/sum(transition_counts[i]))\n",
    "    hmm.add_transition(s, hmm.end, transition_counts[i][-1]/sum(transition_counts[i]))\n",
    "    \n",
    "hmm.bake()"
   ]
  },
  {
   "cell_type": "markdown",
   "metadata": {
    "id": "rx5WYO9CIFmu"
   },
   "source": [
    "### Inspect states and transition probabilities"
   ]
  },
  {
   "cell_type": "code",
   "execution_count": null,
   "metadata": {
    "id": "-bt2AhPbIFmu"
   },
   "outputs": [],
   "source": [
    "hmm.states"
   ]
  },
  {
   "cell_type": "code",
   "execution_count": 51,
   "metadata": {
    "executionInfo": {
     "elapsed": 96,
     "status": "ok",
     "timestamp": 1666817753061,
     "user": {
      "displayName": "Kai Shu",
      "userId": "12656867753077324183"
     },
     "user_tz": 300
    },
    "id": "GLIA7BMLIFmu"
   },
   "outputs": [],
   "source": [
    "def show_states(states):\n",
    "    pd_data = []\n",
    "    for s in states:\n",
    "        if s.distribution:\n",
    "            top_words = sorted(s.distribution.parameters[0].items(), \n",
    "                               key=operator.itemgetter(1), \n",
    "                               reverse=True)[:5]\n",
    "            for w in top_words:\n",
    "                pd_data.append({\"state\": s.name, \"word\": w[0], \"prob\": \"{:0.4f}\".format(w[1])})\n",
    "        else:\n",
    "            pd_data.append({\"state\": s.name, \"word\": \"--\", \"prob\": \"--\"})\n",
    "    display(pd.DataFrame(pd_data, columns=[\"state\", \"word\", \"prob\"]))"
   ]
  },
  {
   "cell_type": "code",
   "execution_count": 52,
   "metadata": {
    "colab": {
     "base_uri": "https://localhost:8080/",
     "height": 865
    },
    "executionInfo": {
     "elapsed": 110,
     "status": "ok",
     "timestamp": 1666817755976,
     "user": {
      "displayName": "Kai Shu",
      "userId": "12656867753077324183"
     },
     "user_tz": 300
    },
    "id": "lfa0gyRhIFmv",
    "outputId": "c1ed082a-49db-4ba0-9018-fb58f7405a90"
   },
   "outputs": [
    {
     "data": {
      "text/html": [
       "\n",
       "  <div id=\"df-1112025e-3336-445a-90a1-1e125b56d3d5\">\n",
       "    <div class=\"colab-df-container\">\n",
       "      <div>\n",
       "<style scoped>\n",
       "    .dataframe tbody tr th:only-of-type {\n",
       "        vertical-align: middle;\n",
       "    }\n",
       "\n",
       "    .dataframe tbody tr th {\n",
       "        vertical-align: top;\n",
       "    }\n",
       "\n",
       "    .dataframe thead th {\n",
       "        text-align: right;\n",
       "    }\n",
       "</style>\n",
       "<table border=\"1\" class=\"dataframe\">\n",
       "  <thead>\n",
       "    <tr style=\"text-align: right;\">\n",
       "      <th></th>\n",
       "      <th>state</th>\n",
       "      <th>word</th>\n",
       "      <th>prob</th>\n",
       "    </tr>\n",
       "  </thead>\n",
       "  <tbody>\n",
       "    <tr>\n",
       "      <th>0</th>\n",
       "      <td>B-DIR</td>\n",
       "      <td>W</td>\n",
       "      <td>0.3184</td>\n",
       "    </tr>\n",
       "    <tr>\n",
       "      <th>1</th>\n",
       "      <td>B-DIR</td>\n",
       "      <td>N</td>\n",
       "      <td>0.2734</td>\n",
       "    </tr>\n",
       "    <tr>\n",
       "      <th>2</th>\n",
       "      <td>B-DIR</td>\n",
       "      <td>S</td>\n",
       "      <td>0.2665</td>\n",
       "    </tr>\n",
       "    <tr>\n",
       "      <th>3</th>\n",
       "      <td>B-DIR</td>\n",
       "      <td>E</td>\n",
       "      <td>0.1418</td>\n",
       "    </tr>\n",
       "    <tr>\n",
       "      <th>4</th>\n",
       "      <td>B-SD</td>\n",
       "      <td>OB</td>\n",
       "      <td>0.2080</td>\n",
       "    </tr>\n",
       "    <tr>\n",
       "      <th>5</th>\n",
       "      <td>B-SD</td>\n",
       "      <td>IB</td>\n",
       "      <td>0.1840</td>\n",
       "    </tr>\n",
       "    <tr>\n",
       "      <th>6</th>\n",
       "      <td>B-SD</td>\n",
       "      <td>W</td>\n",
       "      <td>0.1280</td>\n",
       "    </tr>\n",
       "    <tr>\n",
       "      <th>7</th>\n",
       "      <td>B-SD</td>\n",
       "      <td>E</td>\n",
       "      <td>0.1200</td>\n",
       "    </tr>\n",
       "    <tr>\n",
       "      <th>8</th>\n",
       "      <td>B-SD</td>\n",
       "      <td>S</td>\n",
       "      <td>0.0960</td>\n",
       "    </tr>\n",
       "    <tr>\n",
       "      <th>9</th>\n",
       "      <td>B-STR</td>\n",
       "      <td>KENNEDY</td>\n",
       "      <td>0.0380</td>\n",
       "    </tr>\n",
       "    <tr>\n",
       "      <th>10</th>\n",
       "      <td>B-STR</td>\n",
       "      <td>DAN</td>\n",
       "      <td>0.0283</td>\n",
       "    </tr>\n",
       "    <tr>\n",
       "      <th>11</th>\n",
       "      <td>B-STR</td>\n",
       "      <td>EISENHOWER</td>\n",
       "      <td>0.0190</td>\n",
       "    </tr>\n",
       "    <tr>\n",
       "      <th>12</th>\n",
       "      <td>B-STR</td>\n",
       "      <td>LSD</td>\n",
       "      <td>0.0174</td>\n",
       "    </tr>\n",
       "    <tr>\n",
       "      <th>13</th>\n",
       "      <td>B-STR</td>\n",
       "      <td>BISHOP</td>\n",
       "      <td>0.0136</td>\n",
       "    </tr>\n",
       "    <tr>\n",
       "      <th>14</th>\n",
       "      <td>B-SUF</td>\n",
       "      <td>AVE</td>\n",
       "      <td>0.3129</td>\n",
       "    </tr>\n",
       "    <tr>\n",
       "      <th>15</th>\n",
       "      <td>B-SUF</td>\n",
       "      <td>ST</td>\n",
       "      <td>0.2400</td>\n",
       "    </tr>\n",
       "    <tr>\n",
       "      <th>16</th>\n",
       "      <td>B-SUF</td>\n",
       "      <td>PL</td>\n",
       "      <td>0.1107</td>\n",
       "    </tr>\n",
       "    <tr>\n",
       "      <th>17</th>\n",
       "      <td>B-SUF</td>\n",
       "      <td>ER</td>\n",
       "      <td>0.0812</td>\n",
       "    </tr>\n",
       "    <tr>\n",
       "      <th>18</th>\n",
       "      <td>B-SUF</td>\n",
       "      <td>DR</td>\n",
       "      <td>0.0689</td>\n",
       "    </tr>\n",
       "    <tr>\n",
       "      <th>19</th>\n",
       "      <td>I-STR</td>\n",
       "      <td>ST</td>\n",
       "      <td>0.0996</td>\n",
       "    </tr>\n",
       "    <tr>\n",
       "      <th>20</th>\n",
       "      <td>I-STR</td>\n",
       "      <td>AV</td>\n",
       "      <td>0.0964</td>\n",
       "    </tr>\n",
       "    <tr>\n",
       "      <th>21</th>\n",
       "      <td>I-STR</td>\n",
       "      <td>RYAN</td>\n",
       "      <td>0.0683</td>\n",
       "    </tr>\n",
       "    <tr>\n",
       "      <th>22</th>\n",
       "      <td>I-STR</td>\n",
       "      <td>FORD</td>\n",
       "      <td>0.0297</td>\n",
       "    </tr>\n",
       "    <tr>\n",
       "      <th>23</th>\n",
       "      <td>I-STR</td>\n",
       "      <td>PARK</td>\n",
       "      <td>0.0281</td>\n",
       "    </tr>\n",
       "    <tr>\n",
       "      <th>24</th>\n",
       "      <td>None-start</td>\n",
       "      <td>--</td>\n",
       "      <td>--</td>\n",
       "    </tr>\n",
       "    <tr>\n",
       "      <th>25</th>\n",
       "      <td>None-end</td>\n",
       "      <td>--</td>\n",
       "      <td>--</td>\n",
       "    </tr>\n",
       "  </tbody>\n",
       "</table>\n",
       "</div>\n",
       "      <button class=\"colab-df-convert\" onclick=\"convertToInteractive('df-1112025e-3336-445a-90a1-1e125b56d3d5')\"\n",
       "              title=\"Convert this dataframe to an interactive table.\"\n",
       "              style=\"display:none;\">\n",
       "        \n",
       "  <svg xmlns=\"http://www.w3.org/2000/svg\" height=\"24px\"viewBox=\"0 0 24 24\"\n",
       "       width=\"24px\">\n",
       "    <path d=\"M0 0h24v24H0V0z\" fill=\"none\"/>\n",
       "    <path d=\"M18.56 5.44l.94 2.06.94-2.06 2.06-.94-2.06-.94-.94-2.06-.94 2.06-2.06.94zm-11 1L8.5 8.5l.94-2.06 2.06-.94-2.06-.94L8.5 2.5l-.94 2.06-2.06.94zm10 10l.94 2.06.94-2.06 2.06-.94-2.06-.94-.94-2.06-.94 2.06-2.06.94z\"/><path d=\"M17.41 7.96l-1.37-1.37c-.4-.4-.92-.59-1.43-.59-.52 0-1.04.2-1.43.59L10.3 9.45l-7.72 7.72c-.78.78-.78 2.05 0 2.83L4 21.41c.39.39.9.59 1.41.59.51 0 1.02-.2 1.41-.59l7.78-7.78 2.81-2.81c.8-.78.8-2.07 0-2.86zM5.41 20L4 18.59l7.72-7.72 1.47 1.35L5.41 20z\"/>\n",
       "  </svg>\n",
       "      </button>\n",
       "      \n",
       "  <style>\n",
       "    .colab-df-container {\n",
       "      display:flex;\n",
       "      flex-wrap:wrap;\n",
       "      gap: 12px;\n",
       "    }\n",
       "\n",
       "    .colab-df-convert {\n",
       "      background-color: #E8F0FE;\n",
       "      border: none;\n",
       "      border-radius: 50%;\n",
       "      cursor: pointer;\n",
       "      display: none;\n",
       "      fill: #1967D2;\n",
       "      height: 32px;\n",
       "      padding: 0 0 0 0;\n",
       "      width: 32px;\n",
       "    }\n",
       "\n",
       "    .colab-df-convert:hover {\n",
       "      background-color: #E2EBFA;\n",
       "      box-shadow: 0px 1px 2px rgba(60, 64, 67, 0.3), 0px 1px 3px 1px rgba(60, 64, 67, 0.15);\n",
       "      fill: #174EA6;\n",
       "    }\n",
       "\n",
       "    [theme=dark] .colab-df-convert {\n",
       "      background-color: #3B4455;\n",
       "      fill: #D2E3FC;\n",
       "    }\n",
       "\n",
       "    [theme=dark] .colab-df-convert:hover {\n",
       "      background-color: #434B5C;\n",
       "      box-shadow: 0px 1px 3px 1px rgba(0, 0, 0, 0.15);\n",
       "      filter: drop-shadow(0px 1px 2px rgba(0, 0, 0, 0.3));\n",
       "      fill: #FFFFFF;\n",
       "    }\n",
       "  </style>\n",
       "\n",
       "      <script>\n",
       "        const buttonEl =\n",
       "          document.querySelector('#df-1112025e-3336-445a-90a1-1e125b56d3d5 button.colab-df-convert');\n",
       "        buttonEl.style.display =\n",
       "          google.colab.kernel.accessAllowed ? 'block' : 'none';\n",
       "\n",
       "        async function convertToInteractive(key) {\n",
       "          const element = document.querySelector('#df-1112025e-3336-445a-90a1-1e125b56d3d5');\n",
       "          const dataTable =\n",
       "            await google.colab.kernel.invokeFunction('convertToInteractive',\n",
       "                                                     [key], {});\n",
       "          if (!dataTable) return;\n",
       "\n",
       "          const docLinkHtml = 'Like what you see? Visit the ' +\n",
       "            '<a target=\"_blank\" href=https://colab.research.google.com/notebooks/data_table.ipynb>data table notebook</a>'\n",
       "            + ' to learn more about interactive tables.';\n",
       "          element.innerHTML = '';\n",
       "          dataTable['output_type'] = 'display_data';\n",
       "          await google.colab.output.renderOutput(dataTable, element);\n",
       "          const docLink = document.createElement('div');\n",
       "          docLink.innerHTML = docLinkHtml;\n",
       "          element.appendChild(docLink);\n",
       "        }\n",
       "      </script>\n",
       "    </div>\n",
       "  </div>\n",
       "  "
      ],
      "text/plain": [
       "         state        word    prob\n",
       "0        B-DIR           W  0.3184\n",
       "1        B-DIR           N  0.2734\n",
       "2        B-DIR           S  0.2665\n",
       "3        B-DIR           E  0.1418\n",
       "4         B-SD          OB  0.2080\n",
       "5         B-SD          IB  0.1840\n",
       "6         B-SD           W  0.1280\n",
       "7         B-SD           E  0.1200\n",
       "8         B-SD           S  0.0960\n",
       "9        B-STR     KENNEDY  0.0380\n",
       "10       B-STR         DAN  0.0283\n",
       "11       B-STR  EISENHOWER  0.0190\n",
       "12       B-STR         LSD  0.0174\n",
       "13       B-STR      BISHOP  0.0136\n",
       "14       B-SUF         AVE  0.3129\n",
       "15       B-SUF          ST  0.2400\n",
       "16       B-SUF          PL  0.1107\n",
       "17       B-SUF          ER  0.0812\n",
       "18       B-SUF          DR  0.0689\n",
       "19       I-STR          ST  0.0996\n",
       "20       I-STR          AV  0.0964\n",
       "21       I-STR        RYAN  0.0683\n",
       "22       I-STR        FORD  0.0297\n",
       "23       I-STR        PARK  0.0281\n",
       "24  None-start          --      --\n",
       "25    None-end          --      --"
      ]
     },
     "metadata": {},
     "output_type": "display_data"
    }
   ],
   "source": [
    "show_states(hmm.states)"
   ]
  },
  {
   "cell_type": "code",
   "execution_count": null,
   "metadata": {
    "id": "1YRnl5IYIFmv"
   },
   "outputs": [],
   "source": [
    "plt.figure(figsize=(12,12))\n",
    "hmm.plot()\n",
    "plt.show()"
   ]
  },
  {
   "cell_type": "markdown",
   "metadata": {
    "id": "rqLgWFe-F0a5"
   },
   "source": []
  },
  {
   "cell_type": "code",
   "execution_count": 54,
   "metadata": {
    "executionInfo": {
     "elapsed": 409,
     "status": "ok",
     "timestamp": 1666817937811,
     "user": {
      "displayName": "Kai Shu",
      "userId": "12656867753077324183"
     },
     "user_tz": 300
    },
    "id": "JlpgeaKqIFmv"
   },
   "outputs": [],
   "source": [
    "def show_transitions(transitions, states):\n",
    "    t_df = pd.DataFrame(transitions, columns=states)\n",
    "    t_df[\"from_state\"] = states\n",
    "    t_df.set_index(\"from_state\", inplace=True)\n",
    "    plt.figure(figsize=(6,5))\n",
    "    ax = sns.heatmap(t_df, annot=True, fmt=\"0.2f\")\n",
    "    plt.xlabel(\"to_state\")\n",
    "    plt.show()"
   ]
  },
  {
   "cell_type": "code",
   "execution_count": 55,
   "metadata": {
    "colab": {
     "base_uri": "https://localhost:8080/",
     "height": 381
    },
    "executionInfo": {
     "elapsed": 869,
     "status": "ok",
     "timestamp": 1666817941885,
     "user": {
      "displayName": "Kai Shu",
      "userId": "12656867753077324183"
     },
     "user_tz": 300
    },
    "id": "sqQe61_NIFmv",
    "outputId": "4297897e-687d-436f-8e0d-2d15033b5596"
   },
   "outputs": [
    {
     "data": {
      "image/png": "[encoded data removed]",
      "text/plain": [
       "<Figure size 432x360 with 2 Axes>"
      ]
     },
     "metadata": {
      "needs_background": "light"
     },
     "output_type": "display_data"
    }
   ],
   "source": [
    "show_transitions(hmm.dense_transition_matrix(), [x.name for x in hmm.states])"
   ]
  },
  {
   "cell_type": "markdown",
   "metadata": {
    "id": "JmdI8DqbIFmv"
   },
   "source": [
    "### Sample random street names from model"
   ]
  },
  {
   "cell_type": "code",
   "execution_count": 26,
   "metadata": {
    "colab": {
     "base_uri": "https://localhost:8080/"
    },
    "executionInfo": {
     "elapsed": 115,
     "status": "ok",
     "timestamp": 1666813728917,
     "user": {
      "displayName": "Kai Shu",
      "userId": "12656867753077324183"
     },
     "user_tz": 300
    },
    "id": "5WMqvJ8SIFmv",
    "outputId": "8f229cb0-2931-4470-b96f-fede9fe5b2be"
   },
   "outputs": [
    {
     "name": "stdout",
     "output_type": "stream",
     "text": [
      "S KIMBERLY PL\n",
      "E CHELTENHAM ST\n",
      "S EISENHOWER AVE\n",
      "W WALLER CREEK ER\n",
      "W LEOTI AVE\n",
      "N TAFT ST\n",
      "N LONG ST IB\n",
      "N HIGH ST\n",
      "N OSCEOLA AVE\n",
      "S CLINTON SACRAMENTO ST AVE\n"
     ]
    }
   ],
   "source": [
    "for samp in hmm.sample(10):\n",
    "    print(\" \".join(list(samp)))"
   ]
  },
  {
   "cell_type": "markdown",
   "metadata": {
    "id": "ToZwdn2OIFmw"
   },
   "source": [
    "### Demonstrate forward and backward probabilities"
   ]
  },
  {
   "cell_type": "code",
   "execution_count": 27,
   "metadata": {
    "executionInfo": {
     "elapsed": 103,
     "status": "ok",
     "timestamp": 1666813730844,
     "user": {
      "displayName": "Kai Shu",
      "userId": "12656867753077324183"
     },
     "user_tz": 300
    },
    "id": "OyiX4YdEIFmw"
   },
   "outputs": [],
   "source": [
    "test_street = [\"N\", \"CLARK\", \"ST\"]"
   ]
  },
  {
   "cell_type": "code",
   "execution_count": 28,
   "metadata": {
    "executionInfo": {
     "elapsed": 122,
     "status": "ok",
     "timestamp": 1666813732770,
     "user": {
      "displayName": "Kai Shu",
      "userId": "12656867753077324183"
     },
     "user_tz": 300
    },
    "id": "5AIU5O8FIFmw"
   },
   "outputs": [],
   "source": [
    "def show_fb_matrix(fbm, states):\n",
    "    t_df = pd.DataFrame(fbm, columns=states)\n",
    "    t_df = t_df.T\n",
    "    plt.figure()\n",
    "    ax = sns.heatmap(t_df, annot=True, fmt=\"0.2f\")\n",
    "    plt.xlabel(\"state\")\n",
    "    plt.show()"
   ]
  },
  {
   "cell_type": "code",
   "execution_count": 29,
   "metadata": {
    "colab": {
     "base_uri": "https://localhost:8080/",
     "height": 283
    },
    "executionInfo": {
     "elapsed": 412,
     "status": "ok",
     "timestamp": 1666813734399,
     "user": {
      "displayName": "Kai Shu",
      "userId": "12656867753077324183"
     },
     "user_tz": 300
    },
    "id": "3x8eaiOiIFmw",
    "outputId": "1c2f0844-872c-49cb-b613-61f1e39340c3"
   },
   "outputs": [
    {
     "data": {
      "image/png": "[encoded data removed]",
      "text/plain": [
       "<Figure size 432x288 with 2 Axes>"
      ]
     },
     "metadata": {
      "needs_background": "light"
     },
     "output_type": "display_data"
    }
   ],
   "source": [
    "f_matrix = hmm.forward(test_street)\n",
    "show_fb_matrix(f_matrix, [x.name for x in hmm.states])"
   ]
  },
  {
   "cell_type": "code",
   "execution_count": 30,
   "metadata": {
    "colab": {
     "base_uri": "https://localhost:8080/",
     "height": 283
    },
    "executionInfo": {
     "elapsed": 606,
     "status": "ok",
     "timestamp": 1666813737280,
     "user": {
      "displayName": "Kai Shu",
      "userId": "12656867753077324183"
     },
     "user_tz": 300
    },
    "id": "yn9j2gvoIFmw",
    "outputId": "0db3df5e-8fdb-4019-c577-33eaea730b46"
   },
   "outputs": [
    {
     "data": {
      "image/png": "[encoded data removed]",
      "text/plain": [
       "<Figure size 432x288 with 2 Axes>"
      ]
     },
     "metadata": {
      "needs_background": "light"
     },
     "output_type": "display_data"
    }
   ],
   "source": [
    "b_matrix = hmm.backward(test_street)\n",
    "show_fb_matrix(b_matrix, [x.name for x in hmm.states])"
   ]
  },
  {
   "cell_type": "code",
   "execution_count": 31,
   "metadata": {
    "colab": {
     "base_uri": "https://localhost:8080/"
    },
    "executionInfo": {
     "elapsed": 96,
     "status": "ok",
     "timestamp": 1666813765353,
     "user": {
      "displayName": "Kai Shu",
      "userId": "12656867753077324183"
     },
     "user_tz": 300
    },
    "id": "7Qp516puIFmw",
    "outputId": "84eb262e-2114-45ad-9da4-91e43b597ca1"
   },
   "outputs": [
    {
     "name": "stdout",
     "output_type": "stream",
     "text": [
      "Viterbi tag sequence: \n",
      "  None-start B-DIR B-STR B-SUF None-end\n",
      "  logprob = -10.22\n"
     ]
    }
   ],
   "source": [
    "logprob, state_seq = hmm.viterbi(test_street)\n",
    "print(\"Viterbi tag sequence: \")\n",
    "print(f\"  {' '.join([x[1].name for x in state_seq])}\")\n",
    "print(f\"  logprob = {logprob:0.2f}\")"
   ]
  },
  {
   "cell_type": "markdown",
   "metadata": {
    "id": "9-pSQme8IFmw"
   },
   "source": [
    "## Train HMM unsupervised"
   ]
  },
  {
   "cell_type": "code",
   "execution_count": 32,
   "metadata": {
    "executionInfo": {
     "elapsed": 120,
     "status": "ok",
     "timestamp": 1666813780320,
     "user": {
      "displayName": "Kai Shu",
      "userId": "12656867753077324183"
     },
     "user_tz": 300
    },
    "id": "jLn5xmifIFmw"
   },
   "outputs": [],
   "source": [
    "## HMM_INIT = \"uniform\"\n",
    "HMM_INIT = \"random\""
   ]
  },
  {
   "cell_type": "code",
   "execution_count": 57,
   "metadata": {
    "executionInfo": {
     "elapsed": 119,
     "status": "ok",
     "timestamp": 1666818051272,
     "user": {
      "displayName": "Kai Shu",
      "userId": "12656867753077324183"
     },
     "user_tz": 300
    },
    "id": "bNRtZ8AeIFmw"
   },
   "outputs": [],
   "source": [
    "hmm = HiddenMarkovModel()\n",
    "hmmstates = [State(DiscreteDistribution.from_samples(vocab), name=s) \n",
    "             for s in [\"A\", \"B\", \"C\", \"D\", \"E\"]]\n",
    "hmm.add_states(hmmstates)\n",
    "\n",
    "if HMM_INIT == \"uniform\":\n",
    "    for s1 in hmmstates:\n",
    "        hmm.add_transition(hmm.start, s1, 1.0/len(hmmstates))\n",
    "        for s2 in hmmstates + [hmm.end]:\n",
    "            hmm.add_transition(s1, s2, 1.0/(len(hmmstates)+1))\n",
    "else:\n",
    "    transition_matrix = np.random.random((len(hmmstates), len(hmmstates)+1))\n",
    "    transition_matrix = (transition_matrix.T / transition_matrix.sum(axis=1)).T\n",
    "    for i, s1 in enumerate(hmmstates):\n",
    "        hmm.add_transition(hmm.start, s1, 1.0/len(hmmstates))\n",
    "        for j, s2 in enumerate(hmmstates + [hmm.end]):\n",
    "            hmm.add_transition(s1, s2, transition_matrix[i][j])\n",
    "\n",
    "hmm.bake()"
   ]
  },
  {
   "cell_type": "code",
   "execution_count": null,
   "metadata": {
    "id": "vTwxLUHVIFmw"
   },
   "outputs": [],
   "source": [
    "hmm.fit(sequences=X, algorithm=\"baum-welch\", max_iterations=20)"
   ]
  },
  {
   "cell_type": "code",
   "execution_count": null,
   "metadata": {
    "id": "ygS_VYm9IFmw"
   },
   "outputs": [],
   "source": [
    "plt.figure(figsize=(12,12))\n",
    "hmm.plot()\n",
    "plt.show()"
   ]
  },
  {
   "cell_type": "code",
   "execution_count": 59,
   "metadata": {
    "colab": {
     "base_uri": "https://localhost:8080/"
    },
    "executionInfo": {
     "elapsed": 154,
     "status": "ok",
     "timestamp": 1666818127605,
     "user": {
      "displayName": "Kai Shu",
      "userId": "12656867753077324183"
     },
     "user_tz": 300
    },
    "id": "R0gynAiwIFmw",
    "outputId": "1e591f42-8ac9-4163-a42b-6a93ebcfaa01"
   },
   "outputs": [
    {
     "name": "stdout",
     "output_type": "stream",
     "text": [
      "N MEDINA AVE\n",
      "N LAKEFRONT ST\n",
      "S LEAMINGTON RD\n",
      "W VERMONT AVE\n",
      "N ANTHON RYAN DR AVE\n",
      "S GREEN ER\n",
      "N KEWANEE SKYWAY HIGGINS DR PL\n",
      "W INDEPENDENCE DR\n",
      "N 79TH PARK 134TH DR\n",
      "W MARINE PL\n"
     ]
    }
   ],
   "source": [
    "for samp in hmm.sample(10):\n",
    "    print(\" \".join(list(samp)))"
   ]
  },
  {
   "cell_type": "code",
   "execution_count": 60,
   "metadata": {
    "colab": {
     "base_uri": "https://localhost:8080/",
     "height": 896
    },
    "executionInfo": {
     "elapsed": 116,
     "status": "ok",
     "timestamp": 1666818145770,
     "user": {
      "displayName": "Kai Shu",
      "userId": "12656867753077324183"
     },
     "user_tz": 300
    },
    "id": "STl_26_VIFmw",
    "outputId": "59e2866c-822a-4016-a857-e20a9d4956e0"
   },
   "outputs": [
    {
     "data": {
      "text/html": [
       "\n",
       "  <div id=\"df-d96cdced-90b7-414e-a80a-dba6454ba8da\">\n",
       "    <div class=\"colab-df-container\">\n",
       "      <div>\n",
       "<style scoped>\n",
       "    .dataframe tbody tr th:only-of-type {\n",
       "        vertical-align: middle;\n",
       "    }\n",
       "\n",
       "    .dataframe tbody tr th {\n",
       "        vertical-align: top;\n",
       "    }\n",
       "\n",
       "    .dataframe thead th {\n",
       "        text-align: right;\n",
       "    }\n",
       "</style>\n",
       "<table border=\"1\" class=\"dataframe\">\n",
       "  <thead>\n",
       "    <tr style=\"text-align: right;\">\n",
       "      <th></th>\n",
       "      <th>state</th>\n",
       "      <th>word</th>\n",
       "      <th>prob</th>\n",
       "    </tr>\n",
       "  </thead>\n",
       "  <tbody>\n",
       "    <tr>\n",
       "      <th>0</th>\n",
       "      <td>A</td>\n",
       "      <td>KENNEDY</td>\n",
       "      <td>0.0356</td>\n",
       "    </tr>\n",
       "    <tr>\n",
       "      <th>1</th>\n",
       "      <td>A</td>\n",
       "      <td>AV</td>\n",
       "      <td>0.0319</td>\n",
       "    </tr>\n",
       "    <tr>\n",
       "      <th>2</th>\n",
       "      <td>A</td>\n",
       "      <td>DAN</td>\n",
       "      <td>0.0290</td>\n",
       "    </tr>\n",
       "    <tr>\n",
       "      <th>3</th>\n",
       "      <td>A</td>\n",
       "      <td>EISENHOWER</td>\n",
       "      <td>0.0208</td>\n",
       "    </tr>\n",
       "    <tr>\n",
       "      <th>4</th>\n",
       "      <td>A</td>\n",
       "      <td>LSD</td>\n",
       "      <td>0.0181</td>\n",
       "    </tr>\n",
       "    <tr>\n",
       "      <th>5</th>\n",
       "      <td>B</td>\n",
       "      <td>ST</td>\n",
       "      <td>0.3988</td>\n",
       "    </tr>\n",
       "    <tr>\n",
       "      <th>6</th>\n",
       "      <td>B</td>\n",
       "      <td>AVE</td>\n",
       "      <td>0.2739</td>\n",
       "    </tr>\n",
       "    <tr>\n",
       "      <th>7</th>\n",
       "      <td>B</td>\n",
       "      <td>DR</td>\n",
       "      <td>0.1043</td>\n",
       "    </tr>\n",
       "    <tr>\n",
       "      <th>8</th>\n",
       "      <td>B</td>\n",
       "      <td>PL</td>\n",
       "      <td>0.0769</td>\n",
       "    </tr>\n",
       "    <tr>\n",
       "      <th>9</th>\n",
       "      <td>B</td>\n",
       "      <td>BLVD</td>\n",
       "      <td>0.0335</td>\n",
       "    </tr>\n",
       "    <tr>\n",
       "      <th>10</th>\n",
       "      <td>C</td>\n",
       "      <td>AVE</td>\n",
       "      <td>0.2869</td>\n",
       "    </tr>\n",
       "    <tr>\n",
       "      <th>11</th>\n",
       "      <td>C</td>\n",
       "      <td>ER</td>\n",
       "      <td>0.1804</td>\n",
       "    </tr>\n",
       "    <tr>\n",
       "      <th>12</th>\n",
       "      <td>C</td>\n",
       "      <td>XR</td>\n",
       "      <td>0.1477</td>\n",
       "    </tr>\n",
       "    <tr>\n",
       "      <th>13</th>\n",
       "      <td>C</td>\n",
       "      <td>PL</td>\n",
       "      <td>0.1319</td>\n",
       "    </tr>\n",
       "    <tr>\n",
       "      <th>14</th>\n",
       "      <td>C</td>\n",
       "      <td>ST</td>\n",
       "      <td>0.0314</td>\n",
       "    </tr>\n",
       "    <tr>\n",
       "      <th>15</th>\n",
       "      <td>D</td>\n",
       "      <td>RYAN</td>\n",
       "      <td>0.1084</td>\n",
       "    </tr>\n",
       "    <tr>\n",
       "      <th>16</th>\n",
       "      <td>D</td>\n",
       "      <td>EXPY</td>\n",
       "      <td>0.0485</td>\n",
       "    </tr>\n",
       "    <tr>\n",
       "      <th>17</th>\n",
       "      <td>D</td>\n",
       "      <td>FORD</td>\n",
       "      <td>0.0470</td>\n",
       "    </tr>\n",
       "    <tr>\n",
       "      <th>18</th>\n",
       "      <td>D</td>\n",
       "      <td>OB</td>\n",
       "      <td>0.0384</td>\n",
       "    </tr>\n",
       "    <tr>\n",
       "      <th>19</th>\n",
       "      <td>D</td>\n",
       "      <td>IB</td>\n",
       "      <td>0.0380</td>\n",
       "    </tr>\n",
       "    <tr>\n",
       "      <th>20</th>\n",
       "      <td>E</td>\n",
       "      <td>W</td>\n",
       "      <td>0.3176</td>\n",
       "    </tr>\n",
       "    <tr>\n",
       "      <th>21</th>\n",
       "      <td>E</td>\n",
       "      <td>N</td>\n",
       "      <td>0.2740</td>\n",
       "    </tr>\n",
       "    <tr>\n",
       "      <th>22</th>\n",
       "      <td>E</td>\n",
       "      <td>S</td>\n",
       "      <td>0.2670</td>\n",
       "    </tr>\n",
       "    <tr>\n",
       "      <th>23</th>\n",
       "      <td>E</td>\n",
       "      <td>E</td>\n",
       "      <td>0.1414</td>\n",
       "    </tr>\n",
       "    <tr>\n",
       "      <th>24</th>\n",
       "      <td>E</td>\n",
       "      <td>IB</td>\n",
       "      <td>0.0000</td>\n",
       "    </tr>\n",
       "    <tr>\n",
       "      <th>25</th>\n",
       "      <td>None-start</td>\n",
       "      <td>--</td>\n",
       "      <td>--</td>\n",
       "    </tr>\n",
       "    <tr>\n",
       "      <th>26</th>\n",
       "      <td>None-end</td>\n",
       "      <td>--</td>\n",
       "      <td>--</td>\n",
       "    </tr>\n",
       "  </tbody>\n",
       "</table>\n",
       "</div>\n",
       "      <button class=\"colab-df-convert\" onclick=\"convertToInteractive('df-d96cdced-90b7-414e-a80a-dba6454ba8da')\"\n",
       "              title=\"Convert this dataframe to an interactive table.\"\n",
       "              style=\"display:none;\">\n",
       "        \n",
       "  <svg xmlns=\"http://www.w3.org/2000/svg\" height=\"24px\"viewBox=\"0 0 24 24\"\n",
       "       width=\"24px\">\n",
       "    <path d=\"M0 0h24v24H0V0z\" fill=\"none\"/>\n",
       "    <path d=\"M18.56 5.44l.94 2.06.94-2.06 2.06-.94-2.06-.94-.94-2.06-.94 2.06-2.06.94zm-11 1L8.5 8.5l.94-2.06 2.06-.94-2.06-.94L8.5 2.5l-.94 2.06-2.06.94zm10 10l.94 2.06.94-2.06 2.06-.94-2.06-.94-.94-2.06-.94 2.06-2.06.94z\"/><path d=\"M17.41 7.96l-1.37-1.37c-.4-.4-.92-.59-1.43-.59-.52 0-1.04.2-1.43.59L10.3 9.45l-7.72 7.72c-.78.78-.78 2.05 0 2.83L4 21.41c.39.39.9.59 1.41.59.51 0 1.02-.2 1.41-.59l7.78-7.78 2.81-2.81c.8-.78.8-2.07 0-2.86zM5.41 20L4 18.59l7.72-7.72 1.47 1.35L5.41 20z\"/>\n",
       "  </svg>\n",
       "      </button>\n",
       "      \n",
       "  <style>\n",
       "    .colab-df-container {\n",
       "      display:flex;\n",
       "      flex-wrap:wrap;\n",
       "      gap: 12px;\n",
       "    }\n",
       "\n",
       "    .colab-df-convert {\n",
       "      background-color: #E8F0FE;\n",
       "      border: none;\n",
       "      border-radius: 50%;\n",
       "      cursor: pointer;\n",
       "      display: none;\n",
       "      fill: #1967D2;\n",
       "      height: 32px;\n",
       "      padding: 0 0 0 0;\n",
       "      width: 32px;\n",
       "    }\n",
       "\n",
       "    .colab-df-convert:hover {\n",
       "      background-color: #E2EBFA;\n",
       "      box-shadow: 0px 1px 2px rgba(60, 64, 67, 0.3), 0px 1px 3px 1px rgba(60, 64, 67, 0.15);\n",
       "      fill: #174EA6;\n",
       "    }\n",
       "\n",
       "    [theme=dark] .colab-df-convert {\n",
       "      background-color: #3B4455;\n",
       "      fill: #D2E3FC;\n",
       "    }\n",
       "\n",
       "    [theme=dark] .colab-df-convert:hover {\n",
       "      background-color: #434B5C;\n",
       "      box-shadow: 0px 1px 3px 1px rgba(0, 0, 0, 0.15);\n",
       "      filter: drop-shadow(0px 1px 2px rgba(0, 0, 0, 0.3));\n",
       "      fill: #FFFFFF;\n",
       "    }\n",
       "  </style>\n",
       "\n",
       "      <script>\n",
       "        const buttonEl =\n",
       "          document.querySelector('#df-d96cdced-90b7-414e-a80a-dba6454ba8da button.colab-df-convert');\n",
       "        buttonEl.style.display =\n",
       "          google.colab.kernel.accessAllowed ? 'block' : 'none';\n",
       "\n",
       "        async function convertToInteractive(key) {\n",
       "          const element = document.querySelector('#df-d96cdced-90b7-414e-a80a-dba6454ba8da');\n",
       "          const dataTable =\n",
       "            await google.colab.kernel.invokeFunction('convertToInteractive',\n",
       "                                                     [key], {});\n",
       "          if (!dataTable) return;\n",
       "\n",
       "          const docLinkHtml = 'Like what you see? Visit the ' +\n",
       "            '<a target=\"_blank\" href=https://colab.research.google.com/notebooks/data_table.ipynb>data table notebook</a>'\n",
       "            + ' to learn more about interactive tables.';\n",
       "          element.innerHTML = '';\n",
       "          dataTable['output_type'] = 'display_data';\n",
       "          await google.colab.output.renderOutput(dataTable, element);\n",
       "          const docLink = document.createElement('div');\n",
       "          docLink.innerHTML = docLinkHtml;\n",
       "          element.appendChild(docLink);\n",
       "        }\n",
       "      </script>\n",
       "    </div>\n",
       "  </div>\n",
       "  "
      ],
      "text/plain": [
       "         state        word    prob\n",
       "0            A     KENNEDY  0.0356\n",
       "1            A          AV  0.0319\n",
       "2            A         DAN  0.0290\n",
       "3            A  EISENHOWER  0.0208\n",
       "4            A         LSD  0.0181\n",
       "5            B          ST  0.3988\n",
       "6            B         AVE  0.2739\n",
       "7            B          DR  0.1043\n",
       "8            B          PL  0.0769\n",
       "9            B        BLVD  0.0335\n",
       "10           C         AVE  0.2869\n",
       "11           C          ER  0.1804\n",
       "12           C          XR  0.1477\n",
       "13           C          PL  0.1319\n",
       "14           C          ST  0.0314\n",
       "15           D        RYAN  0.1084\n",
       "16           D        EXPY  0.0485\n",
       "17           D        FORD  0.0470\n",
       "18           D          OB  0.0384\n",
       "19           D          IB  0.0380\n",
       "20           E           W  0.3176\n",
       "21           E           N  0.2740\n",
       "22           E           S  0.2670\n",
       "23           E           E  0.1414\n",
       "24           E          IB  0.0000\n",
       "25  None-start          --      --\n",
       "26    None-end          --      --"
      ]
     },
     "metadata": {},
     "output_type": "display_data"
    }
   ],
   "source": [
    "show_states(hmm.states)"
   ]
  },
  {
   "cell_type": "code",
   "execution_count": 61,
   "metadata": {
    "colab": {
     "base_uri": "https://localhost:8080/",
     "height": 381
    },
    "executionInfo": {
     "elapsed": 606,
     "status": "ok",
     "timestamp": 1666818213608,
     "user": {
      "displayName": "Kai Shu",
      "userId": "12656867753077324183"
     },
     "user_tz": 300
    },
    "id": "yBPc-DOoIFmx",
    "outputId": "675b05e0-5025-44ae-a558-3cdef992836f"
   },
   "outputs": [
    {
     "data": {
      "image/png": "[encoded data removed]",
      "text/plain": [
       "<Figure size 432x360 with 2 Axes>"
      ]
     },
     "metadata": {
      "needs_background": "light"
     },
     "output_type": "display_data"
    }
   ],
   "source": [
    "show_transitions(hmm.dense_transition_matrix(), [x.name for x in hmm.states])"
   ]
  },
  {
   "cell_type": "code",
   "execution_count": null,
   "metadata": {
    "id": "WFR8HEG5IFmx"
   },
   "outputs": [],
   "source": []
  }
 ],
 "metadata": {
  "colab": {
   "provenance": []
  },
  "kernelspec": {
   "display_name": "session16a",
   "language": "python",
   "name": "session16a"
  },
  "language_info": {
   "codemirror_mode": {
    "name": "ipython",
    "version": 3
   },
   "file_extension": ".py",
   "mimetype": "text/x-python",
   "name": "python",
   "nbconvert_exporter": "python",
   "pygments_lexer": "ipython3",
   "version": "3.11.4"
  }
 },
 "nbformat": 4,
 "nbformat_minor": 4
}
