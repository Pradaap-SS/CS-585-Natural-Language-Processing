{
 "cells": [
  {
   "cell_type": "markdown",
   "id": "f51cb206-a6e9-4bf3-9c19-fcc5efb1eed6",
   "metadata": {},
   "source": [
    "## A simple language models demo\n",
    "\n",
    "Using the lyrics of Taylor Swift\n",
    "\n",
    "https://github.com/irenetrampoline/taylor-swift-lyrics/blob/master/all_tswift_lyrics.txt\n",
    "\n",
    "NLTK functions used in this notebook\n",
    "* `nltk.bigrams`, `nltk.bigrams`\n",
    "* Also see: https://www.nltk.org/api/nltk.lm.html#module-nltk.lm\n",
    "\n",
    "Updated (added after class): This notebook uses tuples as keys to the bigram counter object, note in the HW you are asked to build a two-level dictionary which will be more efficient. "
   ]
  },
  {
   "cell_type": "code",
   "execution_count": 1,
   "id": "0489aa87-fe51-4157-88ca-855df10b4d6a",
   "metadata": {},
   "outputs": [],
   "source": [
    "import nltk\n",
    "import pandas as pd\n",
    "import numpy as np\n",
    "\n",
    "from csv import QUOTE_NONE\n",
    "from collections import Counter\n",
    "import re\n",
    "\n",
    "from nltk import word_tokenize\n",
    "\n",
    "# to avoid confusion with variabls named 'bigrams','trigrams'\n",
    "from  nltk import bigrams as nltk_bigrams \n",
    "from nltk import trigrams as nltk_trigrams\n",
    "\n",
    "# alternative: for adding <s>, </s> ourselves\n",
    "#from nltk.lm.preprocessing import pad_both_ends \n",
    "\n",
    "from random import choices, seed, choice\n",
    "seed(0)  # for reproducible results"
   ]
  },
  {
   "cell_type": "code",
   "execution_count": 2,
   "id": "dd193854-7204-4e5a-9cd3-969acd978a81",
   "metadata": {},
   "outputs": [],
   "source": [
    "# placeholder tokens for start and end of sentence/song-line\n",
    "START_TOK = \"<s>\"\n",
    "END_TOK = \"</s>\""
   ]
  },
  {
   "cell_type": "code",
   "execution_count": 3,
   "id": "4b2e3590-c2ad-42d0-9b1c-2e08c57585c1",
   "metadata": {},
   "outputs": [
    {
     "name": "stdout",
     "output_type": "stream",
     "text": [
      "# lines: 7645\n"
     ]
    },
    {
     "data": {
      "text/plain": [
       "['he said the way my blue eyes shined',\n",
       " 'put those georgia stars to shame that night',\n",
       " 'i said, \"that\\'s a lie.\"',\n",
       " 'just a boy in a chevy truck',\n",
       " \"that had a tendency of gettin' stuck\",\n",
       " 'on back roads at night',\n",
       " 'and i was right there beside him all summer long',\n",
       " 'and then the time we woke up to find that summer gone',\n",
       " 'but when you think tim mcgraw',\n",
       " 'i hope you think my favorite song']"
      ]
     },
     "execution_count": 3,
     "metadata": {},
     "output_type": "execute_result"
    }
   ],
   "source": [
    "# read and clean song lines\n",
    "\n",
    "with open(\"./all_tswift_lyrics.txt\", \"r\") as f:\n",
    "    # remove [.*] e.g. \"[Chorus]\"\n",
    "    song_lines = [re.sub(r'\\[.*\\]','',line).lower().strip() for line in f.readlines()]\n",
    "\n",
    "    # remove empty lines after cleaning\n",
    "    song_lines = [line for line in song_lines if line != \"\"]\n",
    "\n",
    "\n",
    "print(\"# lines:\",len(song_lines))\n",
    "song_lines[:10]"
   ]
  },
  {
   "cell_type": "code",
   "execution_count": 4,
   "id": "47664620-8590-4e19-82c8-6aa0404d80de",
   "metadata": {},
   "outputs": [
    {
     "name": "stdout",
     "output_type": "stream",
     "text": [
      "['<s>', 'he', 'said', 'the', 'way', 'my', 'blue', 'eyes', 'shined', '</s>']\n"
     ]
    }
   ],
   "source": [
    "# for demo - removed punctuation with  tok.isalpha()\n",
    "\n",
    "tokenized_texts = [[START_TOK]+[tok for tok in word_tokenize(line) if tok.isalpha()] +[END_TOK] \n",
    "                   for line in song_lines]\n",
    "\n",
    "# alternative: use NLTP 'pad_both_ends` to add start/end symbols \n",
    "# list(pad_both_ends(['he', 'said', 'the', 'way', 'my', 'blue', 'eyes', 'shined',],n=2))\n",
    "\n",
    "print(tokenized_texts[0])"
   ]
  },
  {
   "cell_type": "code",
   "execution_count": 5,
   "id": "1f3bd2bd-dbb1-4127-92e6-d80a381aab99",
   "metadata": {},
   "outputs": [
    {
     "data": {
      "text/plain": [
       "{'<s>'}"
      ]
     },
     "execution_count": 5,
     "metadata": {},
     "output_type": "execute_result"
    }
   ],
   "source": [
    "# check - do all sentences start with '<s>'?\n",
    "set([toks[0] for toks in tokenized_texts])"
   ]
  },
  {
   "cell_type": "code",
   "execution_count": 6,
   "id": "74400d07-a147-401c-b3a9-410612cdb32e",
   "metadata": {},
   "outputs": [
    {
     "data": {
      "text/plain": [
       "[('<s>', 'he'),\n",
       " ('he', 'said'),\n",
       " ('said', 'the'),\n",
       " ('the', 'way'),\n",
       " ('way', 'my'),\n",
       " ('my', 'blue'),\n",
       " ('blue', 'eyes'),\n",
       " ('eyes', 'shined'),\n",
       " ('shined', '</s>')]"
      ]
     },
     "execution_count": 6,
     "metadata": {},
     "output_type": "execute_result"
    }
   ],
   "source": [
    "# Demo: nltk 'bigrams' function - returns a generator, use 'list()' to see values\n",
    "list(nltk_bigrams(tokenized_texts[0]))"
   ]
  },
  {
   "cell_type": "code",
   "execution_count": 7,
   "id": "375331ba-9ab1-43a5-b8ba-cc917e1ebf53",
   "metadata": {},
   "outputs": [],
   "source": [
    "# Builing counters from lists of sequences\n",
    "\n",
    "bigrams_by_text = [nltk_bigrams(token_arr) for token_arr in tokenized_texts]\n",
    "trigrams_by_text = [nltk_trigrams(token_arr) for token_arr in tokenized_texts]\n",
    "\n",
    "raw_bigram_counts = Counter([bigram for arr in bigrams_by_text for bigram in arr])\n",
    "raw_trigram_counts = Counter([trigram for arr in trigrams_by_text for trigram in arr])"
   ]
  },
  {
   "cell_type": "code",
   "execution_count": 8,
   "id": "5d283f63-0eb0-4408-8c3f-4c001efd6362",
   "metadata": {},
   "outputs": [
    {
     "name": "stdout",
     "output_type": "stream",
     "text": [
      "# of occurrences of ('<s>', 'he') : 88\n",
      "# of occurrences of ('<s>', 'he', 'said'): 6\n"
     ]
    }
   ],
   "source": [
    "# Python note - tuples are hashable - can be used as keys for dictionaries and counters\n",
    "\n",
    "some_bigram = ('<s>','he')\n",
    "print(f\"# of occurrences of {some_bigram} :\",raw_bigram_counts[some_bigram])\n",
    "\n",
    "some_trigram = ('<s>','he','said')\n",
    "print(f\"# of occurrences of {some_trigram}:\",raw_trigram_counts[some_trigram])"
   ]
  },
  {
   "cell_type": "code",
   "execution_count": 9,
   "id": "09fb876d-5f84-4087-bedf-f4837732ce9c",
   "metadata": {},
   "outputs": [
    {
     "data": {
      "text/plain": [
       "1665"
      ]
     },
     "execution_count": 9,
     "metadata": {},
     "output_type": "execute_result"
    }
   ],
   "source": [
    "# if can encode unigrams as tuple of length 1 if we need, e.g ('the',)\n",
    "\n",
    "raw_unigram_counts = Counter([(tok,) for arr in tokenized_texts for tok in arr])\n",
    "\n",
    "some_unigram_tuple = ('the',)   # notice comma\n",
    "raw_unigram_counts[some_unigram_tuple]"
   ]
  },
  {
   "cell_type": "markdown",
   "id": "6653abba-8595-41e8-acc9-6221876052cd",
   "metadata": {},
   "source": [
    "Note: the rest of this notebook should not be taken as a demo for HW"
   ]
  },
  {
   "cell_type": "code",
   "execution_count": 10,
   "id": "525239a4-645e-432e-8122-042ce60cc778",
   "metadata": {},
   "outputs": [],
   "source": [
    "def get_effective_counts(raw_ngram_counts, alpha=0.5):\n",
    "    \"\"\"get effective counts based with some smoothing factor\"\"\"\n",
    "    vocab = set(raw_ngram_counts.keys())\n",
    "    v = len(vocab)\n",
    "    m = raw_ngram_counts.total()\n",
    "    effective_counts = {tok:((raw_ngram_counts[tok]+alpha)*(m/(m+v))) for tok in vocab}\n",
    "    return effective_counts\n",
    "\n",
    "unigram_eff_counts = get_effective_counts(raw_unigram_counts)\n",
    "bigram_eff_counts = get_effective_counts(raw_bigram_counts)\n",
    "trigram_eff_counts = get_effective_counts(raw_trigram_counts)\n",
    "\n",
    "most_freq_trigrams =  sorted(trigram_eff_counts,  key=trigram_eff_counts.get, reverse=True)[:20]\n"
   ]
  },
  {
   "cell_type": "code",
   "execution_count": 11,
   "id": "8f35f792-e13a-4997-b0fe-13aa337bfc31",
   "metadata": {},
   "outputs": [
    {
     "name": "stdout",
     "output_type": "stream",
     "text": [
      "<s>_and_i        262  173.21 \n",
      "<s>_but_i        101   66.97 \n",
      "<s>_and_you       75   49.82 \n",
      "la_la_la          56   37.28 \n",
      "to_me_</s>        55   36.62 \n",
      "i_i_i             53   35.30 \n",
      "<s>_i_do          48   32.00 \n",
      "<s>_do_you        47   31.34 \n",
      "the_way_you       47   31.34 \n",
      "<s>_and_it        44   29.36 \n",
      "<s>_oh_oh         43   28.70 \n",
      "shake_it_off      43   28.70 \n",
      "oh_oh_</s>        41   27.38 \n",
      "<s>_if_you        41   27.38 \n",
      "<s>_i_was         41   27.38 \n",
      "<s>_i_know        40   26.72 \n",
      "i_shake_it        40   26.72 \n",
      "i_do_know         40   26.72 \n",
      "<s>_but_you       39   26.06 \n",
      "now_we_got        38   25.40 \n"
     ]
    }
   ],
   "source": [
    "for triple in most_freq_trigrams:\n",
    "    printable_trigram = \"_\".join(triple)\n",
    "    unsmooth_count = raw_trigram_counts[triple]\n",
    "    smooth_count = trigram_eff_counts[triple]\n",
    "    print(f\"{printable_trigram:15} {unsmooth_count:4} {smooth_count:7.2f} \")"
   ]
  },
  {
   "cell_type": "markdown",
   "id": "5bf0ec44-c305-4eeb-a529-0832f6eb2e83",
   "metadata": {},
   "source": [
    "## Song line generation using Bigrams\n",
    "\n"
   ]
  },
  {
   "cell_type": "code",
   "execution_count": 12,
   "id": "96157295-4df2-4bff-9df9-1559a7321fe9",
   "metadata": {},
   "outputs": [
    {
     "name": "stdout",
     "output_type": "stream",
     "text": [
      "# unique bigrams: 670\n",
      "Most likely words to start a song line\n",
      "('<s>', 'i')    \t 768.46\n",
      "('<s>', 'and')  \t 721.43\n",
      "('<s>', 'you')  \t 385.21\n",
      "('<s>', 'but')  \t 254.32\n",
      "('<s>', 'it')   \t 171.25\n",
      "('<s>', 'oh')   \t 132.06\n",
      "('<s>', 'the')  \t 124.22\n",
      "('<s>', 'so')   \t 123.44\n",
      "('<s>', 'we')   \t 105.41\n",
      "('<s>', 'that') \t 77.98\n"
     ]
    }
   ],
   "source": [
    "current_token = START_TOK\n",
    "\n",
    "# Step 1 - what are bigrams to start a sentence? \n",
    "start_bigram_counts = {bigram:count for bigram, count in bigram_eff_counts.items() if bigram[0] == START_TOK}\n",
    "print(\"# unique bigrams:\",len(start_bigram_counts))\n",
    "\n",
    "print(\"Most likely words to start a song line\")\n",
    "most_likely_start_bigrams = sorted(start_bigram_counts.items(), key=lambda tup:tup[1], reverse=True)[:10]\n",
    "\n",
    "for bigram, count in most_likely_start_bigrams:\n",
    "    print(f\"{str(bigram):15} \\t {count:.2f}\")"
   ]
  },
  {
   "cell_type": "code",
   "execution_count": 13,
   "id": "040fbcab-8850-4f0e-8d15-b59e6db46644",
   "metadata": {},
   "outputs": [
    {
     "name": "stdout",
     "output_type": "stream",
     "text": [
      "Generating 20 sample first-words for a new song line:\n",
      "('<s>', 'i')\n",
      "('<s>', 'and')\n",
      "('<s>', 'are')\n",
      "('<s>', 'my')\n",
      "('<s>', 'we')\n",
      "('<s>', 'somehow')\n",
      "('<s>', 'did')\n",
      "('<s>', 'do')\n",
      "('<s>', 'praying')\n",
      "('<s>', 'tell')\n",
      "('<s>', 'i')\n",
      "('<s>', 'the')\n",
      "('<s>', 'drive')\n",
      "('<s>', 'and')\n",
      "('<s>', 'saying')\n",
      "('<s>', 'in')\n",
      "('<s>', 'i')\n",
      "('<s>', 'ghosts')\n",
      "('<s>', 'lantern')\n",
      "('<s>', 'i')\n"
     ]
    }
   ],
   "source": [
    "# Step 2 - select w_1 at random\n",
    "\n",
    "print('Generating 20 sample first-words for a new song line:')\n",
    "for _ in range(20):\n",
    "\n",
    "    # get list of all bigrams of form ('_START', <word> ) \n",
    "    possible_start_bigrams = list(start_bigram_counts.keys())\n",
    "\n",
    "    # randomly select bigram, weighted by effective count\n",
    "    bigram_weights = list(start_bigram_counts.values())  # weight based on count\n",
    "    sample_initial_bigram = choices( possible_start_bigrams, weights=bigram_weights,)[0]\n",
    "    \n",
    "    print(sample_initial_bigram)"
   ]
  },
  {
   "cell_type": "code",
   "execution_count": 14,
   "id": "ab99072c-17af-4ee6-ae1c-e3b458864824",
   "metadata": {},
   "outputs": [
    {
     "name": "stdout",
     "output_type": "stream",
     "text": [
      "<s> do what past gon na sail the rest in silent night holy night with no more i need me strike a nasty scar </s>\n",
      "\n",
      "<s> well i was stay stay through again </s>\n",
      "\n",
      "<s> you now </s>\n",
      "\n",
      "<s> i met you are freethe way too soon enough </s>\n",
      "\n",
      "<s> there </s>\n",
      "\n",
      "<s> ca take it all the dead of this is a ticket on me somewhere </s>\n",
      "\n",
      "<s> new yorknice to your eyes </s>\n",
      "\n",
      "<s> i learned </s>\n",
      "\n",
      "<s> but none of thirst </s>\n",
      "\n",
      "<s> when i swear i play guitar </s>\n",
      "\n",
      "<s> and you i i down </s>\n",
      "\n",
      "<s> you walked in the upper hand </s>\n",
      "\n",
      "<s> and somebody tells me that i go free </s>\n",
      "\n",
      "<s> so where they do know is enough for you </s>\n",
      "\n",
      "<s> my life lessons are is good girl faith </s>\n",
      "\n",
      "<s> it feels to do </s>\n",
      "\n",
      "<s> last eight times before your eyes off the air </s>\n",
      "\n",
      "<s> knowing it hurts or break a movie you wonder about it a bit of stars </s>\n",
      "\n",
      "<s> i never worse or another </s>\n",
      "\n",
      "<s> take our whole thing to listen </s>\n",
      "\n"
     ]
    }
   ],
   "source": [
    "# putting it together\n",
    "\n",
    "def generate_line_from_bigrams(bigram_eff_counts:dict, max_len:int=100)->str:\n",
    "    output_tokens = []\n",
    "    current_token = START_TOK\n",
    "    \n",
    "    for _ in range(max_len+1):\n",
    "        \n",
    "        output_tokens.append(current_token)\n",
    "        if current_token=='</s>':\n",
    "            break\n",
    "\n",
    "        # is this efficient??\n",
    "        possible_bigram_data = {bigram:count for bigram, count in bigram_eff_counts.items() if bigram[0] == current_token}\n",
    "        \n",
    "        next_bigram = choices( list(possible_bigram_data.keys()), weights=list(possible_bigram_data.values()),)[0]\n",
    "        \n",
    "        current_token = next_bigram[1]\n",
    "    return \" \".join(output_tokens)\n",
    "        \n",
    "\n",
    "# generate 20 lines\n",
    "for _ in range(20):\n",
    "    print(generate_line_from_bigrams(bigram_eff_counts)+'\\n')"
   ]
  },
  {
   "cell_type": "markdown",
   "id": "f398b2be-7c20-4410-83f9-0382d287624a",
   "metadata": {},
   "source": [
    "## Trying it with trigrams"
   ]
  },
  {
   "cell_type": "code",
   "execution_count": 15,
   "id": "92e24c77-44f9-43b4-9dc9-b939260eb565",
   "metadata": {},
   "outputs": [],
   "source": [
    "def generate_line_from_trigrams(first_word, trigram_eff_counts, max_len=100):\n",
    "    current_bigram = (START_TOK,first_word)\n",
    "    \n",
    "    output_tokens = [START_TOK]\n",
    "    \n",
    "    for _ in range(max_len):\n",
    "        output_tokens.append(current_bigram[-1])\n",
    "        \n",
    "        #output_tokens.append(current_bigram[1])\n",
    "        if  current_bigram[-1]==END_TOK:\n",
    "            break\n",
    "            \n",
    "        # Step 1 - what are bigrams to start a sentence? \n",
    "        possible_trigram_data = {trigram:count for trigram, count in trigram_eff_counts.items() if trigram[:2] == current_bigram}\n",
    "        next_trigram = choices( list(possible_trigram_data.keys()), weights=list(possible_trigram_data.values()),)[0]\n",
    "        current_bigram = (next_trigram[1],next_trigram[2])\n",
    "    \n",
    "    return \" \".join(output_tokens)\n",
    "\n",
    "# note that the NLTK library gives us more elegant ways to handle trigrams, 4-grams, etc"
   ]
  },
  {
   "cell_type": "code",
   "execution_count": 16,
   "id": "72cb2ce0-a7b8-4feb-af0b-ad996d761880",
   "metadata": {},
   "outputs": [
    {
     "name": "stdout",
     "output_type": "stream",
     "text": [
      "<s> love is a tough crowd </s>\n",
      "\n",
      "<s> love like a baby </s>\n",
      "\n",
      "<s> love is ours </s>\n",
      "\n",
      "<s> love is different </s>\n",
      "\n",
      "<s> love like a dream </s>\n",
      "\n",
      "<s> love got me cornered in the rain outside i came out alive </s>\n",
      "\n",
      "<s> love got me alone </s>\n",
      "\n",
      "<s> love is ours </s>\n",
      "\n",
      "<s> love got me feeling like i always get it </s>\n",
      "\n",
      "<s> love got me feeling like i do wan na know you better now </s>\n",
      "\n",
      "<s> love a fragile line </s>\n",
      "\n",
      "<s> love got me tangled tired me too </s>\n",
      "\n",
      "<s> love pure light </s>\n",
      "\n",
      "<s> love is alive back from that soul vacation </s>\n",
      "\n",
      "<s> love pure light </s>\n",
      "\n",
      "<s> love a fragile line </s>\n",
      "\n",
      "<s> love is alive back from your knife </s>\n",
      "\n",
      "<s> love like this </s>\n",
      "\n",
      "<s> love is glowing in the morning of your past thinking your future was me </s>\n",
      "\n",
      "<s> love got me a light go on </s>\n",
      "\n"
     ]
    }
   ],
   "source": [
    "# generate 20 lines\n",
    "for _ in range(20):\n",
    "    print(generate_line_from_trigrams(\"love\", trigram_eff_counts)+'\\n')"
   ]
  },
  {
   "cell_type": "markdown",
   "id": "74de21a6-bd58-4c91-ab90-8c0044432520",
   "metadata": {},
   "source": [
    "#### Possible improvments\n",
    "* Use NLTL language model libraries\n",
    "* Other smoothing methods "
   ]
  },
  {
   "cell_type": "code",
   "execution_count": null,
   "id": "42e806e1-0e0c-40ae-b7da-5f8bf3cd47b0",
   "metadata": {},
   "outputs": [],
   "source": []
  },
  {
   "cell_type": "code",
   "execution_count": null,
   "id": "b39224b4-d9a7-46d0-9918-3156b076c234",
   "metadata": {},
   "outputs": [],
   "source": []
  }
 ],
 "metadata": {
  "kernelspec": {
   "display_name": "Python 3 (ipykernel)",
   "language": "python",
   "name": "python3"
  },
  "language_info": {
   "codemirror_mode": {
    "name": "ipython",
    "version": 3
   },
   "file_extension": ".py",
   "mimetype": "text/x-python",
   "name": "python",
   "nbconvert_exporter": "python",
   "pygments_lexer": "ipython3",
   "version": "3.11.4"
  }
 },
 "nbformat": 4,
 "nbformat_minor": 5
}
