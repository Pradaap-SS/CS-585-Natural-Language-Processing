{
 "cells": [
  {
   "cell_type": "code",
   "execution_count": 1,
   "id": "06a760da-e8f0-4867-a56f-cb499990e753",
   "metadata": {},
   "outputs": [],
   "source": [
    "import pandas as pd\n",
    "import numpy as np\n",
    "\n",
    "# to train:\n",
    "from sklearn.model_selection import ParameterGrid\n",
    "from sklearn.naive_bayes import MultinomialNB\n",
    "from sklearn.feature_extraction.text import CountVectorizer\n",
    "from sklearn.pipeline import Pipeline\n",
    "from sklearn.model_selection import train_test_split\n",
    "\n",
    "# to evaluate\n",
    "from sklearn.metrics import precision_score, recall_score, f1_score\n",
    "\n",
    "import matplotlib.pyplot as plt\n",
    "#pd.set_option(\"display.max_colwidth\",200)\n",
    "pd.options.display.float_format = '{:,.4f}'.format"
   ]
  },
  {
   "cell_type": "markdown",
   "id": "20230013-3e6a-4674-a8a8-1dfa5db22d8b",
   "metadata": {},
   "source": [
    "## Read in data\n"
   ]
  },
  {
   "cell_type": "code",
   "execution_count": 2,
   "id": "d28fffe6-d110-451f-b4c9-94e540d7dfef",
   "metadata": {},
   "outputs": [
    {
     "name": "stdout",
     "output_type": "stream",
     "text": [
      "Target rate: 55.72%\n",
      "Sample of training set:\n"
     ]
    },
    {
     "data": {
      "text/html": [
       "<div>\n",
       "<style scoped>\n",
       "    .dataframe tbody tr th:only-of-type {\n",
       "        vertical-align: middle;\n",
       "    }\n",
       "\n",
       "    .dataframe tbody tr th {\n",
       "        vertical-align: top;\n",
       "    }\n",
       "\n",
       "    .dataframe thead th {\n",
       "        text-align: right;\n",
       "    }\n",
       "</style>\n",
       "<table border=\"1\" class=\"dataframe\">\n",
       "  <thead>\n",
       "    <tr style=\"text-align: right;\">\n",
       "      <th></th>\n",
       "      <th>sentence</th>\n",
       "      <th>label</th>\n",
       "    </tr>\n",
       "  </thead>\n",
       "  <tbody>\n",
       "    <tr>\n",
       "      <th>0</th>\n",
       "      <td>before the plot kicks into gear</td>\n",
       "      <td>1</td>\n",
       "    </tr>\n",
       "    <tr>\n",
       "      <th>1</th>\n",
       "      <td>see this terrific film</td>\n",
       "      <td>1</td>\n",
       "    </tr>\n",
       "    <tr>\n",
       "      <th>2</th>\n",
       "      <td>'s an excellent 90-minute film</td>\n",
       "      <td>1</td>\n",
       "    </tr>\n",
       "    <tr>\n",
       "      <th>3</th>\n",
       "      <td>ensemble cast</td>\n",
       "      <td>1</td>\n",
       "    </tr>\n",
       "    <tr>\n",
       "      <th>4</th>\n",
       "      <td>is to be viewed and treasured for its extraord...</td>\n",
       "      <td>1</td>\n",
       "    </tr>\n",
       "  </tbody>\n",
       "</table>\n",
       "</div>"
      ],
      "text/plain": [
       "                                            sentence  label\n",
       "0                   before the plot kicks into gear       1\n",
       "1                            see this terrific film       1\n",
       "2                    's an excellent 90-minute film       1\n",
       "3                                     ensemble cast       1\n",
       "4  is to be viewed and treasured for its extraord...      1"
      ]
     },
     "execution_count": 2,
     "metadata": {},
     "output_type": "execute_result"
    }
   ],
   "source": [
    "df_file1 = pd.read_csv(\"../hw1/SST-2/train.tsv\",delimiter=\"\\t\")\n",
    "df_file2 = pd.read_csv(\"../hw1/SST-2/dev.tsv\",delimiter=\"\\t\")\n",
    "df_all = pd.concat([df_file1, df_file2],axis=0).sample(frac=1.0, random_state=0).copy().reset_index(drop=True)\n",
    "\n",
    "n_texts = len(df_all)\n",
    "\n",
    "print(f\"Target rate: {df_all.label.mean():.2%}\")\n",
    "\n",
    "print(\"Sample of training set:\")\n",
    "df_all.head(5)"
   ]
  },
  {
   "cell_type": "code",
   "execution_count": 3,
   "id": "38d34adf-bfb7-4571-b0d4-37ef12bda870",
   "metadata": {},
   "outputs": [
    {
     "name": "stdout",
     "output_type": "stream",
     "text": [
      "Train size:  49118 -> 72.0%\n",
      "Test size:   13645 -> 20.0%\n",
      "Valid. size: 5458 -> 8.0%\n"
     ]
    }
   ],
   "source": [
    "traindev_index, test_index = train_test_split(df_all.index, test_size=0.2)\n",
    "train_index, valid_index = train_test_split(traindev_index, test_size=0.1)\n",
    "\n",
    "print(f\"Train size:  {len(train_index)} -> {len(train_index)/n_texts:0.1%}\")\n",
    "print(f\"Test size:   {len(test_index)} -> {len(test_index)/n_texts:0.1%}\")\n",
    "print(f\"Valid. size: {len(valid_index)} -> {len(valid_index)/n_texts:0.1%}\")"
   ]
  },
  {
   "cell_type": "markdown",
   "id": "784e4e3a-ad97-486a-a0ca-f5ce340513a3",
   "metadata": {},
   "source": [
    "\n",
    "## Training a Text Classifier\n",
    "\n",
    "Scikit-learn provides the `Pipeline` class to tie together steps in model training"
   ]
  },
  {
   "cell_type": "code",
   "execution_count": 4,
   "id": "de534556-d8fd-4b87-8bf0-19311639f2ec",
   "metadata": {},
   "outputs": [
    {
     "data": {
      "text/html": [
       "<style>#sk-container-id-1 {color: black;}#sk-container-id-1 pre{padding: 0;}#sk-container-id-1 div.sk-toggleable {background-color: white;}#sk-container-id-1 label.sk-toggleable__label {cursor: pointer;display: block;width: 100%;margin-bottom: 0;padding: 0.3em;box-sizing: border-box;text-align: center;}#sk-container-id-1 label.sk-toggleable__label-arrow:before {content: \"▸\";float: left;margin-right: 0.25em;color: #696969;}#sk-container-id-1 label.sk-toggleable__label-arrow:hover:before {color: black;}#sk-container-id-1 div.sk-estimator:hover label.sk-toggleable__label-arrow:before {color: black;}#sk-container-id-1 div.sk-toggleable__content {max-height: 0;max-width: 0;overflow: hidden;text-align: left;background-color: #f0f8ff;}#sk-container-id-1 div.sk-toggleable__content pre {margin: 0.2em;color: black;border-radius: 0.25em;background-color: #f0f8ff;}#sk-container-id-1 input.sk-toggleable__control:checked~div.sk-toggleable__content {max-height: 200px;max-width: 100%;overflow: auto;}#sk-container-id-1 input.sk-toggleable__control:checked~label.sk-toggleable__label-arrow:before {content: \"▾\";}#sk-container-id-1 div.sk-estimator input.sk-toggleable__control:checked~label.sk-toggleable__label {background-color: #d4ebff;}#sk-container-id-1 div.sk-label input.sk-toggleable__control:checked~label.sk-toggleable__label {background-color: #d4ebff;}#sk-container-id-1 input.sk-hidden--visually {border: 0;clip: rect(1px 1px 1px 1px);clip: rect(1px, 1px, 1px, 1px);height: 1px;margin: -1px;overflow: hidden;padding: 0;position: absolute;width: 1px;}#sk-container-id-1 div.sk-estimator {font-family: monospace;background-color: #f0f8ff;border: 1px dotted black;border-radius: 0.25em;box-sizing: border-box;margin-bottom: 0.5em;}#sk-container-id-1 div.sk-estimator:hover {background-color: #d4ebff;}#sk-container-id-1 div.sk-parallel-item::after {content: \"\";width: 100%;border-bottom: 1px solid gray;flex-grow: 1;}#sk-container-id-1 div.sk-label:hover label.sk-toggleable__label {background-color: #d4ebff;}#sk-container-id-1 div.sk-serial::before {content: \"\";position: absolute;border-left: 1px solid gray;box-sizing: border-box;top: 0;bottom: 0;left: 50%;z-index: 0;}#sk-container-id-1 div.sk-serial {display: flex;flex-direction: column;align-items: center;background-color: white;padding-right: 0.2em;padding-left: 0.2em;position: relative;}#sk-container-id-1 div.sk-item {position: relative;z-index: 1;}#sk-container-id-1 div.sk-parallel {display: flex;align-items: stretch;justify-content: center;background-color: white;position: relative;}#sk-container-id-1 div.sk-item::before, #sk-container-id-1 div.sk-parallel-item::before {content: \"\";position: absolute;border-left: 1px solid gray;box-sizing: border-box;top: 0;bottom: 0;left: 50%;z-index: -1;}#sk-container-id-1 div.sk-parallel-item {display: flex;flex-direction: column;z-index: 1;position: relative;background-color: white;}#sk-container-id-1 div.sk-parallel-item:first-child::after {align-self: flex-end;width: 50%;}#sk-container-id-1 div.sk-parallel-item:last-child::after {align-self: flex-start;width: 50%;}#sk-container-id-1 div.sk-parallel-item:only-child::after {width: 0;}#sk-container-id-1 div.sk-dashed-wrapped {border: 1px dashed gray;margin: 0 0.4em 0.5em 0.4em;box-sizing: border-box;padding-bottom: 0.4em;background-color: white;}#sk-container-id-1 div.sk-label label {font-family: monospace;font-weight: bold;display: inline-block;line-height: 1.2em;}#sk-container-id-1 div.sk-label-container {text-align: center;}#sk-container-id-1 div.sk-container {/* jupyter's `normalize.less` sets `[hidden] { display: none; }` but bootstrap.min.css set `[hidden] { display: none !important; }` so we also need the `!important` here to be able to override the default hidden behavior on the sphinx rendered scikit-learn.org. See: https://github.com/scikit-learn/scikit-learn/issues/21755 */display: inline-block !important;position: relative;}#sk-container-id-1 div.sk-text-repr-fallback {display: none;}</style><div id=\"sk-container-id-1\" class=\"sk-top-container\"><div class=\"sk-text-repr-fallback\"><pre>Pipeline(steps=[(&#x27;vectorizer&#x27;,\n",
       "                 CountVectorizer(max_df=0.1, stop_words=&#x27;english&#x27;)),\n",
       "                (&#x27;model&#x27;, MultinomialNB())])</pre><b>In a Jupyter environment, please rerun this cell to show the HTML representation or trust the notebook. <br />On GitHub, the HTML representation is unable to render, please try loading this page with nbviewer.org.</b></div><div class=\"sk-container\" hidden><div class=\"sk-item sk-dashed-wrapped\"><div class=\"sk-label-container\"><div class=\"sk-label sk-toggleable\"><input class=\"sk-toggleable__control sk-hidden--visually\" id=\"sk-estimator-id-1\" type=\"checkbox\" ><label for=\"sk-estimator-id-1\" class=\"sk-toggleable__label sk-toggleable__label-arrow\">Pipeline</label><div class=\"sk-toggleable__content\"><pre>Pipeline(steps=[(&#x27;vectorizer&#x27;,\n",
       "                 CountVectorizer(max_df=0.1, stop_words=&#x27;english&#x27;)),\n",
       "                (&#x27;model&#x27;, MultinomialNB())])</pre></div></div></div><div class=\"sk-serial\"><div class=\"sk-item\"><div class=\"sk-estimator sk-toggleable\"><input class=\"sk-toggleable__control sk-hidden--visually\" id=\"sk-estimator-id-2\" type=\"checkbox\" ><label for=\"sk-estimator-id-2\" class=\"sk-toggleable__label sk-toggleable__label-arrow\">CountVectorizer</label><div class=\"sk-toggleable__content\"><pre>CountVectorizer(max_df=0.1, stop_words=&#x27;english&#x27;)</pre></div></div></div><div class=\"sk-item\"><div class=\"sk-estimator sk-toggleable\"><input class=\"sk-toggleable__control sk-hidden--visually\" id=\"sk-estimator-id-3\" type=\"checkbox\" ><label for=\"sk-estimator-id-3\" class=\"sk-toggleable__label sk-toggleable__label-arrow\">MultinomialNB</label><div class=\"sk-toggleable__content\"><pre>MultinomialNB()</pre></div></div></div></div></div></div></div>"
      ],
      "text/plain": [
       "Pipeline(steps=[('vectorizer',\n",
       "                 CountVectorizer(max_df=0.1, stop_words='english')),\n",
       "                ('model', MultinomialNB())])"
      ]
     },
     "execution_count": 4,
     "metadata": {},
     "output_type": "execute_result"
    }
   ],
   "source": [
    "def fit_pipeline(*, texts, labels, min_df=1, max_df=0.1, ngram_range=(1,1), alpha=1.0):\n",
    "    \"\"\" Train a text classifier model given input hyperparameters:\n",
    "      - CountVectorizer: min_df, max_df, ngram_range\n",
    "      - NaiveBayes:      alpha\n",
    "    \"\"\"\n",
    "\n",
    "    # Pipeline Step 1: texts -> BOW vectors\n",
    "    vectorizer = CountVectorizer(min_df=min_df, \n",
    "                                 max_df=max_df,\n",
    "                                 stop_words=\"english\",\n",
    "                                 ngram_range=ngram_range)\n",
    "\n",
    "    # Pipeline Step 2: document vectors -> model score\n",
    "    model = MultinomialNB(alpha=alpha)\n",
    "\n",
    "    pipeline = Pipeline(steps=[\n",
    "        (\"vectorizer\",vectorizer),\n",
    "        (\"model\",model)\n",
    "    ])\n",
    "\n",
    "    pipeline.fit(texts,labels)\n",
    "\n",
    "    return pipeline\n",
    "\n",
    "# convert to numpy array/matrix\n",
    "train_texts = df_all.loc[train_index].sentence.values\n",
    "train_labels = df_all.loc[train_index].label.values\n",
    "\n",
    "pipeline = fit_pipeline(texts=train_texts, labels=train_labels)\n",
    "pipeline\n"
   ]
  },
  {
   "cell_type": "code",
   "execution_count": 5,
   "id": "4bae3218-77d7-4798-8574-04db9d6ec9b6",
   "metadata": {},
   "outputs": [
    {
     "name": "stdout",
     "output_type": "stream",
     "text": [
      "Vocabulary size: 13891\n"
     ]
    }
   ],
   "source": [
    "# individual components are still accessible:\n",
    "print(\"Vocabulary size:\", len(pipeline[0].vocabulary_))"
   ]
  },
  {
   "cell_type": "code",
   "execution_count": 6,
   "id": "f028b6b0-5547-4229-9041-5d1f963ff151",
   "metadata": {},
   "outputs": [
    {
     "data": {
      "text/plain": [
       "array([0, 1, 1, ..., 0, 0, 1])"
      ]
     },
     "execution_count": 6,
     "metadata": {},
     "output_type": "execute_result"
    }
   ],
   "source": [
    "valid_texts = df_all.loc[valid_index].sentence.values\n",
    "Valid_labels = df_all.loc[valid_index].label.values\n",
    "\n",
    "pipeline.predict(valid_texts)"
   ]
  },
  {
   "cell_type": "code",
   "execution_count": 7,
   "id": "01cf6afa-f0a3-42e1-b6be-a596116cedd3",
   "metadata": {},
   "outputs": [
    {
     "data": {
      "text/plain": [
       "array([[9.99998616e-01, 1.38421454e-06],\n",
       "       [5.58242945e-03, 9.94417571e-01],\n",
       "       [1.36731273e-03, 9.98632687e-01],\n",
       "       ...,\n",
       "       [9.99088360e-01, 9.11639907e-04],\n",
       "       [8.90962111e-01, 1.09037889e-01],\n",
       "       [3.48869256e-02, 9.65113074e-01]])"
      ]
     },
     "execution_count": 7,
     "metadata": {},
     "output_type": "execute_result"
    }
   ],
   "source": [
    "pipeline.predict_proba(valid_texts)"
   ]
  },
  {
   "cell_type": "code",
   "execution_count": 8,
   "id": "04474137-b876-4770-900f-f3a086e8ec97",
   "metadata": {},
   "outputs": [
    {
     "name": "stdout",
     "output_type": "stream",
     "text": [
      "% of rows flagged by model: 56.30%\n",
      "Confusion matrix:\n"
     ]
    },
    {
     "data": {
      "text/html": [
       "<div>\n",
       "<style scoped>\n",
       "    .dataframe tbody tr th:only-of-type {\n",
       "        vertical-align: middle;\n",
       "    }\n",
       "\n",
       "    .dataframe tbody tr th {\n",
       "        vertical-align: top;\n",
       "    }\n",
       "\n",
       "    .dataframe thead th {\n",
       "        text-align: right;\n",
       "    }\n",
       "</style>\n",
       "<table border=\"1\" class=\"dataframe\">\n",
       "  <thead>\n",
       "    <tr style=\"text-align: right;\">\n",
       "      <th>y_true</th>\n",
       "      <th>0</th>\n",
       "      <th>1</th>\n",
       "      <th>All</th>\n",
       "    </tr>\n",
       "    <tr>\n",
       "      <th>y_pred</th>\n",
       "      <th></th>\n",
       "      <th></th>\n",
       "      <th></th>\n",
       "    </tr>\n",
       "  </thead>\n",
       "  <tbody>\n",
       "    <tr>\n",
       "      <th>0</th>\n",
       "      <td>0.3725</td>\n",
       "      <td>0.0645</td>\n",
       "      <td>0.4370</td>\n",
       "    </tr>\n",
       "    <tr>\n",
       "      <th>1</th>\n",
       "      <td>0.0729</td>\n",
       "      <td>0.4901</td>\n",
       "      <td>0.5630</td>\n",
       "    </tr>\n",
       "    <tr>\n",
       "      <th>All</th>\n",
       "      <td>0.4454</td>\n",
       "      <td>0.5546</td>\n",
       "      <td>1.0000</td>\n",
       "    </tr>\n",
       "  </tbody>\n",
       "</table>\n",
       "</div>"
      ],
      "text/plain": [
       "y_true      0      1    All\n",
       "y_pred                     \n",
       "0      0.3725 0.0645 0.4370\n",
       "1      0.0729 0.4901 0.5630\n",
       "All    0.4454 0.5546 1.0000"
      ]
     },
     "execution_count": 8,
     "metadata": {},
     "output_type": "execute_result"
    }
   ],
   "source": [
    "valid_labels = df_all.loc[valid_index].label.values\n",
    "valid_preds = pipeline.predict(valid_texts)\n",
    "\n",
    "print(f\"% of rows flagged by model: {valid_preds.mean():.2%}\")\n",
    "\n",
    "print(\"Confusion matrix:\")\n",
    "pd.crosstab(\n",
    "    pd.Series(valid_preds,name=\"y_pred\"), \n",
    "    pd.Series(valid_labels, name=\"y_true\"),\n",
    "    margins=True,\n",
    "    normalize=True\n",
    ")"
   ]
  },
  {
   "cell_type": "code",
   "execution_count": 9,
   "id": "4f0b35d0-8e73-4a75-8544-e923002f9940",
   "metadata": {},
   "outputs": [
    {
     "name": "stdout",
     "output_type": "stream",
     "text": [
      "Precision: 0.87\n",
      "Recall:    0.88\n",
      "F1:        0.88\n"
     ]
    }
   ],
   "source": [
    "valid_precision = precision_score(valid_labels, valid_preds)\n",
    "valid_recall = recall_score(valid_labels, valid_preds)\n",
    "valid_f1 = f1_score(valid_labels, valid_preds)\n",
    "\n",
    "print(f\"Precision: {valid_precision:.2f}\")\n",
    "print(f\"Recall:    {valid_recall:.2f}\")\n",
    "print(f\"F1:        {valid_f1:.2f}\")\n"
   ]
  },
  {
   "cell_type": "markdown",
   "id": "df1fd13f-6345-42fd-8c76-26fc293de595",
   "metadata": {},
   "source": [
    "## Updating our threshold\n",
    "\n",
    "What if we want to be \"conservative\" and only flag the top 10%"
   ]
  },
  {
   "cell_type": "code",
   "execution_count": 10,
   "id": "78fe2e00-9e61-4ecc-add4-ae57c21bed64",
   "metadata": {},
   "outputs": [
    {
     "name": "stdout",
     "output_type": "stream",
     "text": [
      "(5458,)\n",
      "0.9980752056829273\n",
      "0.10003664345914254\n",
      "\n",
      "Precision: 0.98\n",
      "Recall:    0.18\n",
      "F1:        0.30\n"
     ]
    }
   ],
   "source": [
    "valid_scores = pipeline.predict_proba(valid_texts)[:,1]\n",
    "print(valid_scores.shape)\n",
    "\n",
    "# what score flags only top 10%?\n",
    "threshold = np.quantile(valid_scores, 0.9)\n",
    "\n",
    "print(threshold)\n",
    "new_preds = (valid_scores>threshold)\n",
    "print(new_preds.mean())\n",
    "\n",
    "valid_precision = precision_score(valid_labels, new_preds)\n",
    "valid_recall = recall_score(valid_labels, new_preds)\n",
    "valid_f1 = f1_score(valid_labels, new_preds)\n",
    "\n",
    "print(f\"\\nPrecision: {valid_precision:.2f}\")\n",
    "print(f\"Recall:    {valid_recall:.2f}\")\n",
    "print(f\"F1:        {valid_f1:.2f}\")"
   ]
  },
  {
   "cell_type": "markdown",
   "id": "f997f0d9-4f1e-4605-a66c-45e6f818c726",
   "metadata": {},
   "source": [
    "# Testing multiple models"
   ]
  },
  {
   "cell_type": "code",
   "execution_count": 11,
   "id": "36536fc5-033b-4c0f-8dc6-e03529d19871",
   "metadata": {},
   "outputs": [
    {
     "name": "stdout",
     "output_type": "stream",
     "text": [
      "# of grid points: 12\n",
      "{'max_df': 0.01, 'min_df': 1, 'ngram_range': (1, 1)}\n",
      "{'max_df': 0.01, 'min_df': 1, 'ngram_range': (1, 2)}\n",
      "{'max_df': 0.01, 'min_df': 1, 'ngram_range': (1, 3)}\n",
      "{'max_df': 0.01, 'min_df': 10, 'ngram_range': (1, 1)}\n",
      "{'max_df': 0.01, 'min_df': 10, 'ngram_range': (1, 2)}\n",
      "{'max_df': 0.01, 'min_df': 10, 'ngram_range': (1, 3)}\n",
      "{'max_df': 0.1, 'min_df': 1, 'ngram_range': (1, 1)}\n",
      "{'max_df': 0.1, 'min_df': 1, 'ngram_range': (1, 2)}\n",
      "{'max_df': 0.1, 'min_df': 1, 'ngram_range': (1, 3)}\n",
      "{'max_df': 0.1, 'min_df': 10, 'ngram_range': (1, 1)}\n",
      "{'max_df': 0.1, 'min_df': 10, 'ngram_range': (1, 2)}\n",
      "{'max_df': 0.1, 'min_df': 10, 'ngram_range': (1, 3)}\n"
     ]
    },
    {
     "data": {
      "text/html": [
       "<div>\n",
       "<style scoped>\n",
       "    .dataframe tbody tr th:only-of-type {\n",
       "        vertical-align: middle;\n",
       "    }\n",
       "\n",
       "    .dataframe tbody tr th {\n",
       "        vertical-align: top;\n",
       "    }\n",
       "\n",
       "    .dataframe thead th {\n",
       "        text-align: right;\n",
       "    }\n",
       "</style>\n",
       "<table border=\"1\" class=\"dataframe\">\n",
       "  <thead>\n",
       "    <tr style=\"text-align: right;\">\n",
       "      <th></th>\n",
       "      <th>max_df</th>\n",
       "      <th>min_df</th>\n",
       "      <th>ngram_range</th>\n",
       "      <th>precision</th>\n",
       "      <th>recall</th>\n",
       "      <th>f1</th>\n",
       "      <th>f1_train</th>\n",
       "      <th>K</th>\n",
       "    </tr>\n",
       "  </thead>\n",
       "  <tbody>\n",
       "    <tr>\n",
       "      <th>7</th>\n",
       "      <td>0.1000</td>\n",
       "      <td>1</td>\n",
       "      <td>(1, 2)</td>\n",
       "      <td>0.8920</td>\n",
       "      <td>0.8926</td>\n",
       "      <td>0.8923</td>\n",
       "      <td>0.9297</td>\n",
       "      <td>65126</td>\n",
       "    </tr>\n",
       "    <tr>\n",
       "      <th>8</th>\n",
       "      <td>0.1000</td>\n",
       "      <td>1</td>\n",
       "      <td>(1, 3)</td>\n",
       "      <td>0.8923</td>\n",
       "      <td>0.8900</td>\n",
       "      <td>0.8912</td>\n",
       "      <td>0.9310</td>\n",
       "      <td>113170</td>\n",
       "    </tr>\n",
       "    <tr>\n",
       "      <th>2</th>\n",
       "      <td>0.0100</td>\n",
       "      <td>1</td>\n",
       "      <td>(1, 3)</td>\n",
       "      <td>0.8914</td>\n",
       "      <td>0.8890</td>\n",
       "      <td>0.8902</td>\n",
       "      <td>0.9304</td>\n",
       "      <td>113146</td>\n",
       "    </tr>\n",
       "    <tr>\n",
       "      <th>1</th>\n",
       "      <td>0.0100</td>\n",
       "      <td>1</td>\n",
       "      <td>(1, 2)</td>\n",
       "      <td>0.8894</td>\n",
       "      <td>0.8903</td>\n",
       "      <td>0.8899</td>\n",
       "      <td>0.9286</td>\n",
       "      <td>65102</td>\n",
       "    </tr>\n",
       "    <tr>\n",
       "      <th>6</th>\n",
       "      <td>0.1000</td>\n",
       "      <td>1</td>\n",
       "      <td>(1, 1)</td>\n",
       "      <td>0.8705</td>\n",
       "      <td>0.8837</td>\n",
       "      <td>0.8770</td>\n",
       "      <td>0.9028</td>\n",
       "      <td>13891</td>\n",
       "    </tr>\n",
       "    <tr>\n",
       "      <th>0</th>\n",
       "      <td>0.0100</td>\n",
       "      <td>1</td>\n",
       "      <td>(1, 1)</td>\n",
       "      <td>0.8641</td>\n",
       "      <td>0.8778</td>\n",
       "      <td>0.8709</td>\n",
       "      <td>0.8979</td>\n",
       "      <td>13867</td>\n",
       "    </tr>\n",
       "    <tr>\n",
       "      <th>10</th>\n",
       "      <td>0.1000</td>\n",
       "      <td>10</td>\n",
       "      <td>(1, 2)</td>\n",
       "      <td>0.8125</td>\n",
       "      <td>0.8774</td>\n",
       "      <td>0.8437</td>\n",
       "      <td>0.8653</td>\n",
       "      <td>6459</td>\n",
       "    </tr>\n",
       "    <tr>\n",
       "      <th>11</th>\n",
       "      <td>0.1000</td>\n",
       "      <td>10</td>\n",
       "      <td>(1, 3)</td>\n",
       "      <td>0.8125</td>\n",
       "      <td>0.8774</td>\n",
       "      <td>0.8437</td>\n",
       "      <td>0.8654</td>\n",
       "      <td>6946</td>\n",
       "    </tr>\n",
       "    <tr>\n",
       "      <th>9</th>\n",
       "      <td>0.1000</td>\n",
       "      <td>10</td>\n",
       "      <td>(1, 1)</td>\n",
       "      <td>0.8101</td>\n",
       "      <td>0.8781</td>\n",
       "      <td>0.8427</td>\n",
       "      <td>0.8630</td>\n",
       "      <td>4813</td>\n",
       "    </tr>\n",
       "    <tr>\n",
       "      <th>4</th>\n",
       "      <td>0.0100</td>\n",
       "      <td>10</td>\n",
       "      <td>(1, 2)</td>\n",
       "      <td>0.8078</td>\n",
       "      <td>0.8761</td>\n",
       "      <td>0.8406</td>\n",
       "      <td>0.8617</td>\n",
       "      <td>6435</td>\n",
       "    </tr>\n",
       "    <tr>\n",
       "      <th>5</th>\n",
       "      <td>0.0100</td>\n",
       "      <td>10</td>\n",
       "      <td>(1, 3)</td>\n",
       "      <td>0.8071</td>\n",
       "      <td>0.8764</td>\n",
       "      <td>0.8404</td>\n",
       "      <td>0.8617</td>\n",
       "      <td>6922</td>\n",
       "    </tr>\n",
       "    <tr>\n",
       "      <th>3</th>\n",
       "      <td>0.0100</td>\n",
       "      <td>10</td>\n",
       "      <td>(1, 1)</td>\n",
       "      <td>0.8034</td>\n",
       "      <td>0.8774</td>\n",
       "      <td>0.8388</td>\n",
       "      <td>0.8566</td>\n",
       "      <td>4789</td>\n",
       "    </tr>\n",
       "  </tbody>\n",
       "</table>\n",
       "</div>"
      ],
      "text/plain": [
       "    max_df  min_df ngram_range  precision  recall     f1  f1_train       K\n",
       "7   0.1000       1      (1, 2)     0.8920  0.8926 0.8923    0.9297   65126\n",
       "8   0.1000       1      (1, 3)     0.8923  0.8900 0.8912    0.9310  113170\n",
       "2   0.0100       1      (1, 3)     0.8914  0.8890 0.8902    0.9304  113146\n",
       "1   0.0100       1      (1, 2)     0.8894  0.8903 0.8899    0.9286   65102\n",
       "6   0.1000       1      (1, 1)     0.8705  0.8837 0.8770    0.9028   13891\n",
       "0   0.0100       1      (1, 1)     0.8641  0.8778 0.8709    0.8979   13867\n",
       "10  0.1000      10      (1, 2)     0.8125  0.8774 0.8437    0.8653    6459\n",
       "11  0.1000      10      (1, 3)     0.8125  0.8774 0.8437    0.8654    6946\n",
       "9   0.1000      10      (1, 1)     0.8101  0.8781 0.8427    0.8630    4813\n",
       "4   0.0100      10      (1, 2)     0.8078  0.8761 0.8406    0.8617    6435\n",
       "5   0.0100      10      (1, 3)     0.8071  0.8764 0.8404    0.8617    6922\n",
       "3   0.0100      10      (1, 1)     0.8034  0.8774 0.8388    0.8566    4789"
      ]
     },
     "execution_count": 11,
     "metadata": {},
     "output_type": "execute_result"
    }
   ],
   "source": [
    "param_grid = ParameterGrid({\n",
    "    \"min_df\":     [1,10],\n",
    "    \"max_df\":     [0.01, 0.1],\n",
    "    \"ngram_range\":[(1,1),(1,2),(1,3)], \n",
    "})\n",
    "\n",
    "\n",
    "print(f\"# of grid points: {len(param_grid)}\")\n",
    "\n",
    "def get_metrics(pipeline, texts, labels):\n",
    "    preds = pipeline.predict(texts)\n",
    "    \n",
    "    pr = precision_score(labels, preds)\n",
    "    re = recall_score(labels, preds)\n",
    "    f1 = f1_score(labels, preds)\n",
    "\n",
    "    return {\n",
    "        \"precision\":precision_score(labels, preds),\n",
    "        \"recall\":recall_score(labels, preds),\n",
    "        \"f1\":f1_score(labels, preds)\n",
    "    }\n",
    "\n",
    "results_arr = []\n",
    "\n",
    "for gridpt in param_grid:\n",
    "    print(gridpt)\n",
    "    trained = fit_pipeline(texts=train_texts, labels=train_labels, **gridpt)\n",
    "    metrics = get_metrics(trained, valid_texts, valid_labels)\n",
    "    \n",
    "   \n",
    "    # save hyperparams and results\n",
    "    combined_data = {**gridpt, **metrics, \"trained\":trained}\n",
    "    # check for overfitting\n",
    "    combined_data['f1_train'] = f1_score(train_labels, trained.predict(train_texts))\n",
    "\n",
    "    # vocab size\n",
    "    combined_data['K'] = len(trained[0].vocabulary_)\n",
    "    \n",
    "    results_arr.append(combined_data)\n",
    " \n",
    "\n",
    "df_results = pd.DataFrame(results_arr).sort_values(\"f1\", ascending=False)\n",
    "df_results.drop(\"trained\",axis=1)"
   ]
  },
  {
   "cell_type": "code",
   "execution_count": 20,
   "id": "696e7b6f-c695-4b50-a4d4-eaedd4bda1e5",
   "metadata": {},
   "outputs": [
    {
     "name": "stdout",
     "output_type": "stream",
     "text": [
      "Train metrics {'precision': 0.9322593666287475, 'recall': 0.9272236213000474, 'f1': 0.9297346752058553}\n",
      "Valid metrics {'precision': 0.8920435787388578, 'recall': 0.8926329699372316, 'f1': 0.892338177014531}\n"
     ]
    }
   ],
   "source": [
    "selected_pipeline = df_results.loc[7,\"trained\"]\n",
    "\n",
    "print(\"Train metrics\", get_metrics(\n",
    "    selected_pipeline,\n",
    "    texts=df_all.loc[train_index].sentence, \n",
    "    labels=df_all.loc[train_index].label)\n",
    ")\n",
    "\n",
    "print(\"Valid metrics\", get_metrics(\n",
    "    selected_pipeline,\n",
    "    texts=df_all.loc[valid_index].sentence, \n",
    "    labels=df_all.loc[valid_index].label)\n",
    ")"
   ]
  },
  {
   "cell_type": "code",
   "execution_count": 21,
   "id": "24086ed2-91ac-47aa-90b4-926a1877cc0b",
   "metadata": {},
   "outputs": [
    {
     "data": {
      "text/plain": [
       "Text(0.5, 1.0, 'Frequencey distribution: Model score by True label')"
      ]
     },
     "execution_count": 21,
     "metadata": {},
     "output_type": "execute_result"
    },
    {
     "data": {
      "image/png": "[encoded data removed]",
      "text/plain": [
       "<Figure size 640x480 with 1 Axes>"
      ]
     },
     "metadata": {},
     "output_type": "display_data"
    }
   ],
   "source": [
    "df_all['score'] = selected_pipeline.predict_proba(df_all.sentence)[:,1]\n",
    "df_valid = df_all.loc[valid_index]\n",
    "\n",
    "\n",
    "df_valid[df_valid.label==1].score.hist(bins=20, alpha=0.5,label=\"sentiment=1\")\n",
    "df_valid[df_valid.label==0].score.hist(bins=20, alpha=0.5,label=\"sentiment=0\")\n",
    "\n",
    "plt.legend()\n",
    "plt.title(\"Frequencey distribution: Model score by True label\")"
   ]
  },
  {
   "cell_type": "markdown",
   "id": "85c582b8-853d-4085-9758-08b5654f4991",
   "metadata": {},
   "source": [
    "## Key indicators\n",
    "\n",
    "\"Can you show me **why** it was given a high score?\""
   ]
  },
  {
   "cell_type": "code",
   "execution_count": 22,
   "id": "da1092b9-ff00-4543-bedd-71c2f743fd42",
   "metadata": {},
   "outputs": [
    {
     "name": "stdout",
     "output_type": "stream",
     "text": [
      "65126\n",
      "['film', 'movie', 'good', 'funny', 'story', 'best', 'like', 'comedy', 'life', 'love']\n"
     ]
    }
   ],
   "source": [
    "selected_vect = selected_pipeline[0]\n",
    "vocab = sorted([v for v in selected_vect.vocabulary_.keys()], key=selected_vect.vocabulary_.get)\n",
    "print(len(vocab))\n",
    "\n",
    "selected_model = selected_pipeline[1]\n",
    "log_probs = selected_model.feature_log_prob_[1:].reshape(-1)\n",
    "v_to_logprob = {v:score for v,score in zip(vocab,log_probs)}\n",
    "\n",
    "top_vocab = sorted(vocab, key=v_to_logprob.get, reverse=True)[:10]\n",
    "print(top_vocab)"
   ]
  },
  {
   "cell_type": "code",
   "execution_count": 23,
   "id": "75a570f3-b26d-4b36-80a7-cfee1c0b43eb",
   "metadata": {},
   "outputs": [
    {
     "name": "stdout",
     "output_type": "stream",
     "text": [
      "['10 complete', '10 seconds', '10 set', '10 times', '10 years', '100 missing', '101 class', '101 study', '105', '105 minutes']\n"
     ]
    }
   ],
   "source": [
    "top_vocab_negative = sorted(vocab, key=v_to_logprob.get, reverse=False)[:10]\n",
    "print(top_vocab_negative)"
   ]
  },
  {
   "cell_type": "code",
   "execution_count": 24,
   "id": "35b45af9-09a8-4669-a426-5c1462bd21aa",
   "metadata": {},
   "outputs": [],
   "source": [
    "## Threshold Free Metric\n"
   ]
  },
  {
   "cell_type": "code",
   "execution_count": 25,
   "id": "cfe0e37f-e7d5-420a-8317-40f176e52f88",
   "metadata": {},
   "outputs": [
    {
     "name": "stderr",
     "output_type": "stream",
     "text": [
      "No artists with labels found to put in legend.  Note that artists whose label start with an underscore are ignored when legend() is called with no argument.\n"
     ]
    },
    {
     "data": {
      "image/png": "[encoded data removed]",
      "text/plain": [
       "<Figure size 640x480 with 1 Axes>"
      ]
     },
     "metadata": {},
     "output_type": "display_data"
    }
   ],
   "source": [
    "from sklearn.metrics import RocCurveDisplay, roc_curve, roc_auc_score\n",
    "\n",
    "valid_labels = df_all.loc[valid_index].label.values\n",
    "\n",
    "valid_scores = df_all.loc[valid_index].score.values\n",
    "\n",
    "fpr, tpr, _ = roc_curve(valid_labels, valid_scores, pos_label=1)\n",
    "roc_display = RocCurveDisplay(fpr=fpr, tpr=tpr).plot()\n",
    "\n",
    "roc_auc = roc_auc_score(valid_labels, valid_scores)\n",
    "_=plt.title(f\"ROC-AUC: {roc_auc:.2f}\")"
   ]
  },
  {
   "cell_type": "code",
   "execution_count": 26,
   "id": "534d3c1d-5d55-4606-b372-477b151eb983",
   "metadata": {},
   "outputs": [
    {
     "data": {
      "image/png": "[encoded data removed]",
      "text/plain": [
       "<Figure size 640x480 with 1 Axes>"
      ]
     },
     "metadata": {},
     "output_type": "display_data"
    }
   ],
   "source": [
    "from sklearn.metrics import precision_recall_curve, PrecisionRecallDisplay, auc\n",
    "p, r, _ = precision_recall_curve(valid_labels, valid_scores)\n",
    "pr_display = PrecisionRecallDisplay(p,r).plot()\n",
    "_=plt.title(\"Precision-Recall curve\")\n",
    "_=plt.title(f\"PR-AUC: {auc(r,p):.2f}\")"
   ]
  },
  {
   "cell_type": "markdown",
   "id": "337d730b-37fe-441d-872b-6bfe79c86730",
   "metadata": {},
   "source": [
    "## Considering both classes  \n",
    "\n",
    "`classification_report` computes P+R+F1 metrics on all classes (here, positive and negative)"
   ]
  },
  {
   "cell_type": "code",
   "execution_count": 27,
   "id": "ee0adf91-4dd7-4352-8c7d-e5092cb61fab",
   "metadata": {},
   "outputs": [
    {
     "name": "stdout",
     "output_type": "stream",
     "text": [
      "              precision    recall  f1-score   support\n",
      "\n",
      "           0       0.85      0.84      0.84      2431\n",
      "           1       0.87      0.88      0.88      3027\n",
      "\n",
      "    accuracy                           0.86      5458\n",
      "   macro avg       0.86      0.86      0.86      5458\n",
      "weighted avg       0.86      0.86      0.86      5458\n",
      "\n"
     ]
    }
   ],
   "source": [
    "\n",
    "\n",
    "from sklearn.metrics import  classification_report\n",
    "print(classification_report(valid_labels, valid_preds))"
   ]
  },
  {
   "cell_type": "markdown",
   "id": "66f496b7-71e8-4a49-b8a7-b6df92bfda3b",
   "metadata": {},
   "source": [
    "## Error analysis"
   ]
  },
  {
   "cell_type": "code",
   "execution_count": 33,
   "id": "c0d7fe07-67ca-47dc-9d9c-83846c9c1e37",
   "metadata": {},
   "outputs": [
    {
     "data": {
      "text/html": [
       "<div>\n",
       "<style scoped>\n",
       "    .dataframe tbody tr th:only-of-type {\n",
       "        vertical-align: middle;\n",
       "    }\n",
       "\n",
       "    .dataframe tbody tr th {\n",
       "        vertical-align: top;\n",
       "    }\n",
       "\n",
       "    .dataframe thead th {\n",
       "        text-align: right;\n",
       "    }\n",
       "</style>\n",
       "<table border=\"1\" class=\"dataframe\">\n",
       "  <thead>\n",
       "    <tr style=\"text-align: right;\">\n",
       "      <th></th>\n",
       "      <th>sentence</th>\n",
       "      <th>label</th>\n",
       "      <th>score</th>\n",
       "    </tr>\n",
       "  </thead>\n",
       "  <tbody>\n",
       "    <tr>\n",
       "      <th>45877</th>\n",
       "      <td>epiphany</td>\n",
       "      <td>1</td>\n",
       "      <td>0.2387</td>\n",
       "    </tr>\n",
       "    <tr>\n",
       "      <th>66625</th>\n",
       "      <td>he 's making dog day afternoon with a cause</td>\n",
       "      <td>1</td>\n",
       "      <td>0.0019</td>\n",
       "    </tr>\n",
       "    <tr>\n",
       "      <th>52474</th>\n",
       "      <td>goes right</td>\n",
       "      <td>1</td>\n",
       "      <td>0.3117</td>\n",
       "    </tr>\n",
       "    <tr>\n",
       "      <th>51170</th>\n",
       "      <td>may take its sweet time to get wherever it 's going , but if you have the patience for it , you wo n't feel like it 's wasted yours</td>\n",
       "      <td>1</td>\n",
       "      <td>0.1194</td>\n",
       "    </tr>\n",
       "    <tr>\n",
       "      <th>30249</th>\n",
       "      <td>of a balanced film that explains the zeitgeist that is the x games</td>\n",
       "      <td>1</td>\n",
       "      <td>0.0122</td>\n",
       "    </tr>\n",
       "    <tr>\n",
       "      <th>12131</th>\n",
       "      <td>does n't drag an audience down</td>\n",
       "      <td>1</td>\n",
       "      <td>0.0603</td>\n",
       "    </tr>\n",
       "    <tr>\n",
       "      <th>6774</th>\n",
       "      <td>if not a home run , then at least</td>\n",
       "      <td>1</td>\n",
       "      <td>0.3412</td>\n",
       "    </tr>\n",
       "    <tr>\n",
       "      <th>26780</th>\n",
       "      <td>seem as cleverly plotted as the usual suspects</td>\n",
       "      <td>1</td>\n",
       "      <td>0.0044</td>\n",
       "    </tr>\n",
       "    <tr>\n",
       "      <th>59106</th>\n",
       "      <td>the movie rising above similar fare</td>\n",
       "      <td>1</td>\n",
       "      <td>0.2058</td>\n",
       "    </tr>\n",
       "    <tr>\n",
       "      <th>33274</th>\n",
       "      <td>fleshed-out enough to build any interest</td>\n",
       "      <td>1</td>\n",
       "      <td>0.0197</td>\n",
       "    </tr>\n",
       "  </tbody>\n",
       "</table>\n",
       "</div>"
      ],
      "text/plain": [
       "                                                                                                                                   sentence  \\\n",
       "45877                                                                                                                             epiphany    \n",
       "66625                                                                                          he 's making dog day afternoon with a cause    \n",
       "52474                                                                                                                           goes right    \n",
       "51170  may take its sweet time to get wherever it 's going , but if you have the patience for it , you wo n't feel like it 's wasted yours    \n",
       "30249                                                                   of a balanced film that explains the zeitgeist that is the x games    \n",
       "12131                                                                                                       does n't drag an audience down    \n",
       "6774                                                                                                     if not a home run , then at least    \n",
       "26780                                                                                       seem as cleverly plotted as the usual suspects    \n",
       "59106                                                                                                  the movie rising above similar fare    \n",
       "33274                                                                                             fleshed-out enough to build any interest    \n",
       "\n",
       "       label  score  \n",
       "45877      1 0.2387  \n",
       "66625      1 0.0019  \n",
       "52474      1 0.3117  \n",
       "51170      1 0.1194  \n",
       "30249      1 0.0122  \n",
       "12131      1 0.0603  \n",
       "6774       1 0.3412  \n",
       "26780      1 0.0044  \n",
       "59106      1 0.2058  \n",
       "33274      1 0.0197  "
      ]
     },
     "execution_count": 33,
     "metadata": {},
     "output_type": "execute_result"
    }
   ],
   "source": [
    "pd.set_option(\"display.max_colwidth\",200)\n",
    "\n",
    "df_all.loc[valid_index].query(\"(label==1) and (score<0.4)\").sample(10, random_state=0)"
   ]
  },
  {
   "cell_type": "code",
   "execution_count": 34,
   "id": "0e43eb87-9c32-4533-ba3a-2b0795416276",
   "metadata": {},
   "outputs": [
    {
     "data": {
      "text/html": [
       "<div>\n",
       "<style scoped>\n",
       "    .dataframe tbody tr th:only-of-type {\n",
       "        vertical-align: middle;\n",
       "    }\n",
       "\n",
       "    .dataframe tbody tr th {\n",
       "        vertical-align: top;\n",
       "    }\n",
       "\n",
       "    .dataframe thead th {\n",
       "        text-align: right;\n",
       "    }\n",
       "</style>\n",
       "<table border=\"1\" class=\"dataframe\">\n",
       "  <thead>\n",
       "    <tr style=\"text-align: right;\">\n",
       "      <th></th>\n",
       "      <th>sentence</th>\n",
       "      <th>label</th>\n",
       "      <th>score</th>\n",
       "    </tr>\n",
       "  </thead>\n",
       "  <tbody>\n",
       "    <tr>\n",
       "      <th>9776</th>\n",
       "      <td>farcically bawdy</td>\n",
       "      <td>0</td>\n",
       "      <td>0.9637</td>\n",
       "    </tr>\n",
       "    <tr>\n",
       "      <th>56892</th>\n",
       "      <td>chokes on its own depiction of upper-crust decorum .</td>\n",
       "      <td>0</td>\n",
       "      <td>0.8754</td>\n",
       "    </tr>\n",
       "    <tr>\n",
       "      <th>17829</th>\n",
       "      <td>topics that could make a sailor blush</td>\n",
       "      <td>0</td>\n",
       "      <td>0.9434</td>\n",
       "    </tr>\n",
       "    <tr>\n",
       "      <th>50863</th>\n",
       "      <td>neither light nor magical enough to bring off this kind of whimsy</td>\n",
       "      <td>0</td>\n",
       "      <td>0.7924</td>\n",
       "    </tr>\n",
       "    <tr>\n",
       "      <th>23060</th>\n",
       "      <td>wish had been developed with more care</td>\n",
       "      <td>0</td>\n",
       "      <td>0.6487</td>\n",
       "    </tr>\n",
       "    <tr>\n",
       "      <th>19226</th>\n",
       "      <td>looking for something new</td>\n",
       "      <td>0</td>\n",
       "      <td>0.8205</td>\n",
       "    </tr>\n",
       "    <tr>\n",
       "      <th>56268</th>\n",
       "      <td>unfolds as one of the most politically audacious films of recent decades from any country , but especially from france</td>\n",
       "      <td>0</td>\n",
       "      <td>1.0000</td>\n",
       "    </tr>\n",
       "    <tr>\n",
       "      <th>18518</th>\n",
       "      <td>mourns</td>\n",
       "      <td>0</td>\n",
       "      <td>0.7329</td>\n",
       "    </tr>\n",
       "    <tr>\n",
       "      <th>38018</th>\n",
       "      <td>weaknesses</td>\n",
       "      <td>0</td>\n",
       "      <td>0.8682</td>\n",
       "    </tr>\n",
       "    <tr>\n",
       "      <th>49497</th>\n",
       "      <td>no real surprises</td>\n",
       "      <td>0</td>\n",
       "      <td>0.9546</td>\n",
       "    </tr>\n",
       "  </tbody>\n",
       "</table>\n",
       "</div>"
      ],
      "text/plain": [
       "                                                                                                                      sentence  \\\n",
       "9776                                                                                                         farcically bawdy    \n",
       "56892                                                                    chokes on its own depiction of upper-crust decorum .    \n",
       "17829                                                                                   topics that could make a sailor blush    \n",
       "50863                                                       neither light nor magical enough to bring off this kind of whimsy    \n",
       "23060                                                                                  wish had been developed with more care    \n",
       "19226                                                                                               looking for something new    \n",
       "56268  unfolds as one of the most politically audacious films of recent decades from any country , but especially from france    \n",
       "18518                                                                                                                  mourns    \n",
       "38018                                                                                                              weaknesses    \n",
       "49497                                                                                                       no real surprises    \n",
       "\n",
       "       label  score  \n",
       "9776       0 0.9637  \n",
       "56892      0 0.8754  \n",
       "17829      0 0.9434  \n",
       "50863      0 0.7924  \n",
       "23060      0 0.6487  \n",
       "19226      0 0.8205  \n",
       "56268      0 1.0000  \n",
       "18518      0 0.7329  \n",
       "38018      0 0.8682  \n",
       "49497      0 0.9546  "
      ]
     },
     "execution_count": 34,
     "metadata": {},
     "output_type": "execute_result"
    }
   ],
   "source": [
    "df_all.loc[valid_index].query(\"(label==0) and (score>0.6)\").sample(10, random_state=0)"
   ]
  },
  {
   "cell_type": "code",
   "execution_count": null,
   "id": "0fe47a26-4397-4c7d-8061-743bb7be344e",
   "metadata": {},
   "outputs": [],
   "source": []
  }
 ],
 "metadata": {
  "kernelspec": {
   "display_name": "hw2",
   "language": "python",
   "name": "hw2"
  },
  "language_info": {
   "codemirror_mode": {
    "name": "ipython",
    "version": 3
   },
   "file_extension": ".py",
   "mimetype": "text/x-python",
   "name": "python",
   "nbconvert_exporter": "python",
   "pygments_lexer": "ipython3",
   "version": "3.11.4"
  }
 },
 "nbformat": 4,
 "nbformat_minor": 5
}
