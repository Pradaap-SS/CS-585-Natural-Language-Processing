{
 "cells": [
  {
   "cell_type": "code",
   "execution_count": 1,
   "metadata": {},
   "outputs": [],
   "source": [
    "import itertools\n",
    "import numpy as np\n",
    "from nltk.corpus import brown\n",
    "from sklearn.decomposition import TruncatedSVD\n",
    "from sklearn.feature_extraction.text import CountVectorizer\n",
    "\n",
    "import pandas as pd\n",
    "import matplotlib.pyplot as plt"
   ]
  },
  {
   "cell_type": "code",
   "execution_count": null,
   "metadata": {},
   "outputs": [],
   "source": []
  },
  {
   "cell_type": "markdown",
   "metadata": {},
   "source": [
    "## Train LSA model based on very small corpus"
   ]
  },
  {
   "cell_type": "code",
   "execution_count": 3,
   "metadata": {},
   "outputs": [
    {
     "name": "stdout",
     "output_type": "stream",
     "text": [
      "15667\n"
     ]
    },
    {
     "data": {
      "text/plain": [
       "'the fulton county grand jury said friday an investigation of recent primary election produced no evidence that any irregularities took place'"
      ]
     },
     "execution_count": 3,
     "metadata": {},
     "output_type": "execute_result"
    }
   ],
   "source": [
    "CORPUS_SIZE = 30000\n",
    "brown_sample = [\" \".join([w.lower() for w in itertools.chain(*x) if w.isalpha()])\n",
    "                for x in brown.paras()[:CORPUS_SIZE]]\n",
    "print(len(brown_sample))\n",
    "brown_sample[0]"
   ]
  },
  {
   "cell_type": "code",
   "execution_count": 4,
   "metadata": {},
   "outputs": [],
   "source": [
    "WORDS = [\"football\", \"baseball\", \"ball\", \"players\", \"coach\"]"
   ]
  },
  {
   "cell_type": "markdown",
   "metadata": {},
   "source": [
    "### Examine word representations prior to SVD"
   ]
  },
  {
   "cell_type": "code",
   "execution_count": 5,
   "metadata": {},
   "outputs": [],
   "source": [
    "MIN_WORD_DOC_FREQ = 10\n",
    "vectorizer = CountVectorizer(\n",
    "    stop_words=\"english\", \n",
    "    min_df=MIN_WORD_DOC_FREQ\n",
    ")\n",
    "\n",
    "term_doc_matrix = vectorizer.fit_transform(brown_sample)"
   ]
  },
  {
   "cell_type": "code",
   "execution_count": 6,
   "metadata": {},
   "outputs": [
    {
     "data": {
      "text/plain": [
       "(15667, 7289)"
      ]
     },
     "execution_count": 6,
     "metadata": {},
     "output_type": "execute_result"
    }
   ],
   "source": [
    "term_doc_matrix.shape"
   ]
  },
  {
   "cell_type": "code",
   "execution_count": null,
   "metadata": {},
   "outputs": [],
   "source": []
  },
  {
   "cell_type": "code",
   "execution_count": 7,
   "metadata": {},
   "outputs": [
    {
     "data": {
      "text/plain": [
       "[('fulton', 2773),\n",
       " ('county', 1515),\n",
       " ('grand', 2919),\n",
       " ('jury', 3582),\n",
       " ('said', 5666),\n",
       " ('friday', 2751),\n",
       " ('investigation', 3478),\n",
       " ('recent', 5302),\n",
       " ('primary', 4997),\n",
       " ('election', 2160)]"
      ]
     },
     "execution_count": 7,
     "metadata": {},
     "output_type": "execute_result"
    }
   ],
   "source": [
    "list(vectorizer.vocabulary_.items())[:10]"
   ]
  },
  {
   "cell_type": "markdown",
   "metadata": {},
   "source": [
    "#### Sparsity of vectors for 5 selected words"
   ]
  },
  {
   "cell_type": "code",
   "execution_count": 8,
   "metadata": {},
   "outputs": [
    {
     "name": "stdout",
     "output_type": "stream",
     "text": [
      "Vector for 'football' has 33 nonzero elements (3.3%)%\n",
      "Vector for 'baseball' has 48 nonzero elements (4.8%)%\n",
      "Vector for 'ball    ' has 82 nonzero elements (8.2%)%\n",
      "Vector for 'players ' has 29 nonzero elements (2.9%)%\n",
      "Vector for 'coach   ' has 20 nonzero elements (2.0%)%\n"
     ]
    }
   ],
   "source": [
    "col_indices = [vectorizer.vocabulary_[w] for w in WORDS]\n",
    "for i, w in enumerate(WORDS):\n",
    "    doc_count = term_doc_matrix[:,col_indices[i]].todense().astype(bool).sum()\n",
    "    print(f\"Vector for '{w:8s}' has {doc_count} nonzero elements ({100*doc_count/1000}%)%\")"
   ]
  },
  {
   "cell_type": "markdown",
   "metadata": {},
   "source": [
    "#### Last 100 rows (documents) for 5 selected columns (words) of term-document matrix"
   ]
  },
  {
   "cell_type": "code",
   "execution_count": 9,
   "metadata": {},
   "outputs": [
    {
     "name": "stdout",
     "output_type": "stream",
     "text": [
      "['football', 'baseball', 'ball', 'players', 'coach']\n"
     ]
    },
    {
     "data": {
      "text/plain": [
       "matrix([[0, 0, 0, 0, 0],\n",
       "        [0, 0, 0, 0, 0],\n",
       "        [0, 0, 0, 0, 0],\n",
       "        [0, 0, 0, 0, 0],\n",
       "        [0, 0, 0, 0, 0],\n",
       "        [0, 0, 0, 0, 0],\n",
       "        [0, 0, 0, 0, 0],\n",
       "        [0, 0, 0, 0, 0],\n",
       "        [0, 0, 0, 0, 0],\n",
       "        [0, 0, 0, 0, 0]])"
      ]
     },
     "execution_count": 9,
     "metadata": {},
     "output_type": "execute_result"
    }
   ],
   "source": [
    "#Matrix(term_doc_matrix[900:,col_indices].todense())\n",
    "print(WORDS)\n",
    "term_doc_matrix[:10,col_indices].todense()"
   ]
  },
  {
   "cell_type": "markdown",
   "metadata": {},
   "source": [
    "### Examine reduced-dimensionality representations"
   ]
  },
  {
   "cell_type": "markdown",
   "metadata": {},
   "source": [
    "#### Apply SVD\n",
    "\n",
    "See references for `TruncatedSVD`:\n",
    "\n",
    "https://scikit-learn.org/stable/modules/generated/sklearn.decomposition.TruncatedSVD.html"
   ]
  },
  {
   "cell_type": "code",
   "execution_count": 10,
   "metadata": {},
   "outputs": [
    {
     "name": "stdout",
     "output_type": "stream",
     "text": [
      "(30, 7289)\n"
     ]
    }
   ],
   "source": [
    "svd = TruncatedSVD(n_components=30)\n",
    "approx_term_document_matrix = svd.fit_transform(term_doc_matrix)\n",
    "svd_w = svd.components_\n",
    "print(svd_w.shape)"
   ]
  },
  {
   "cell_type": "code",
   "execution_count": 11,
   "metadata": {},
   "outputs": [
    {
     "data": {
      "image/png": "[encoded data removed]",
      "text/plain": [
       "<Figure size 640x480 with 1 Axes>"
      ]
     },
     "metadata": {},
     "output_type": "display_data"
    }
   ],
   "source": [
    "pd.Series(svd.singular_values_).plot(marker=\"x\",grid=True)\n",
    "_=plt.title(\"Singular Values after SVD decomposition\") "
   ]
  },
  {
   "cell_type": "markdown",
   "metadata": {},
   "source": [
    "#### Sparsity of vectors for 5 selected vectors"
   ]
  },
  {
   "cell_type": "code",
   "execution_count": 12,
   "metadata": {},
   "outputs": [
    {
     "name": "stdout",
     "output_type": "stream",
     "text": [
      "% zero-valued cells: 0.00\n"
     ]
    }
   ],
   "source": [
    "print(f\"% zero-valued cells: {(svd_w[:,col_indices]==0.0).mean():.2f}\")"
   ]
  },
  {
   "cell_type": "code",
   "execution_count": 13,
   "metadata": {},
   "outputs": [
    {
     "name": "stdout",
     "output_type": "stream",
     "text": [
      "Vector for 'football' has 30 nonzero elements (100.0%)\n",
      "Vector for 'baseball' has 30 nonzero elements (100.0%)\n",
      "Vector for 'ball    ' has 30 nonzero elements (100.0%)\n",
      "Vector for 'players ' has 30 nonzero elements (100.0%)\n",
      "Vector for 'coach   ' has 30 nonzero elements (100.0%)\n"
     ]
    }
   ],
   "source": [
    "for i, w in enumerate(WORDS):\n",
    "    doc_count = svd_w[:,col_indices[i]].astype(bool).sum()\n",
    "    print(f\"Vector for '{w:8s}' has {doc_count} nonzero elements ({100*doc_count/30:0.1f}%)\")"
   ]
  },
  {
   "cell_type": "markdown",
   "metadata": {},
   "source": [
    "#### Vectors for 5 selected words from LSA"
   ]
  },
  {
   "cell_type": "code",
   "execution_count": 14,
   "metadata": {},
   "outputs": [
    {
     "data": {
      "text/plain": [
       "array([[ 0.002,  0.003,  0.012,  0.002,  0.001],\n",
       "       [-0.001, -0.003, -0.01 , -0.001, -0.001],\n",
       "       [-0.001, -0.002, -0.014, -0.001, -0.001],\n",
       "       [ 0.   ,  0.   ,  0.022,  0.001,  0.001],\n",
       "       [ 0.001, -0.002, -0.008,  0.004,  0.   ],\n",
       "       [ 0.   , -0.002, -0.012,  0.006, -0.   ],\n",
       "       [ 0.001,  0.002,  0.012,  0.   ,  0.001],\n",
       "       [-0.001, -0.001,  0.005,  0.005,  0.001],\n",
       "       [-0.   ,  0.001,  0.011,  0.   , -0.   ],\n",
       "       [-0.001, -0.   , -0.005,  0.002, -0.001],\n",
       "       [-0.003, -0.003,  0.004, -0.001, -0.001],\n",
       "       [-0.001, -0.003, -0.008, -0.001, -0.   ],\n",
       "       [-0.003, -0.007,  0.008, -0.001, -0.   ],\n",
       "       [ 0.   , -0.001, -0.008,  0.001,  0.001],\n",
       "       [ 0.002,  0.007,  0.01 , -0.   ,  0.001],\n",
       "       [-0.001, -0.   , -0.014,  0.001, -0.   ],\n",
       "       [-0.001, -0.002, -0.017,  0.001, -0.   ],\n",
       "       [-0.004, -0.003,  0.011,  0.001, -0.   ],\n",
       "       [-0.003, -0.004, -0.014, -0.001, -0.   ],\n",
       "       [ 0.002,  0.002, -0.017, -0.002, -0.   ],\n",
       "       [-0.   ,  0.   , -0.006,  0.   , -0.001],\n",
       "       [ 0.002, -0.001, -0.027, -0.001, -0.001],\n",
       "       [ 0.001,  0.005,  0.027,  0.001,  0.001],\n",
       "       [-0.001, -0.001, -0.017, -0.001, -0.001],\n",
       "       [ 0.   , -0.001,  0.011, -0.001,  0.   ],\n",
       "       [ 0.003, -0.003, -0.005, -0.002,  0.001],\n",
       "       [ 0.001,  0.001, -0.009,  0.002,  0.001],\n",
       "       [-0.   ,  0.003,  0.007,  0.001,  0.   ],\n",
       "       [ 0.001, -0.001,  0.018,  0.001, -0.   ],\n",
       "       [ 0.   ,  0.001,  0.022, -0.002, -0.   ]])"
      ]
     },
     "execution_count": 14,
     "metadata": {},
     "output_type": "execute_result"
    }
   ],
   "source": [
    "#Matrix(svd_w[:,col_indices]).evalf(2)\n",
    "\n",
    "svd_w[:,col_indices].round(3)  # rounding for display"
   ]
  },
  {
   "cell_type": "markdown",
   "metadata": {},
   "source": [
    "### Look at word similarities"
   ]
  },
  {
   "cell_type": "code",
   "execution_count": 15,
   "metadata": {},
   "outputs": [],
   "source": [
    "def term_doc_similarity(w1, w2):\n",
    "    col1 = vectorizer.vocabulary_[w1]\n",
    "    col2 = vectorizer.vocabulary_[w2]\n",
    "    vec1 = np.asarray(term_doc_matrix[:,col1].todense()).flatten()\n",
    "    vec2 = np.asarray(term_doc_matrix[:,col2].todense()).flatten()\n",
    "    return np.dot(vec1, vec2) / np.sqrt(np.dot(vec1, vec1) * np.dot(vec2, vec2))"
   ]
  },
  {
   "cell_type": "code",
   "execution_count": 16,
   "metadata": {},
   "outputs": [
    {
     "data": {
      "text/plain": [
       "0.0643782753280756"
      ]
     },
     "execution_count": 16,
     "metadata": {},
     "output_type": "execute_result"
    }
   ],
   "source": [
    "term_doc_similarity(\"players\", \"ball\")"
   ]
  },
  {
   "cell_type": "code",
   "execution_count": 17,
   "metadata": {},
   "outputs": [
    {
     "data": {
      "text/plain": [
       "0.08680241605735182"
      ]
     },
     "execution_count": 17,
     "metadata": {},
     "output_type": "execute_result"
    }
   ],
   "source": [
    "term_doc_similarity(\"football\", \"baseball\")"
   ]
  },
  {
   "cell_type": "code",
   "execution_count": 18,
   "metadata": {},
   "outputs": [
    {
     "data": {
      "text/plain": [
       "0.19695964928958382"
      ]
     },
     "execution_count": 18,
     "metadata": {},
     "output_type": "execute_result"
    }
   ],
   "source": [
    "term_doc_similarity(\"players\", \"coach\")"
   ]
  },
  {
   "cell_type": "code",
   "execution_count": 19,
   "metadata": {},
   "outputs": [
    {
     "data": {
      "text/plain": [
       "0.03209703693831847"
      ]
     },
     "execution_count": 19,
     "metadata": {},
     "output_type": "execute_result"
    }
   ],
   "source": [
    "term_doc_similarity(\"football\", \"ball\")"
   ]
  },
  {
   "cell_type": "code",
   "execution_count": 20,
   "metadata": {},
   "outputs": [],
   "source": [
    "def lsa_similarity(w1, w2):\n",
    "    col1 = vectorizer.vocabulary_[w1]\n",
    "    col2 = vectorizer.vocabulary_[w2]\n",
    "    vec1 = svd_w[:,col1]\n",
    "    vec2 = svd_w[:,col2]\n",
    "    return np.dot(vec1, vec2) / np.sqrt(np.dot(vec1, vec1) * np.dot(vec2, vec2))"
   ]
  },
  {
   "cell_type": "code",
   "execution_count": 21,
   "metadata": {},
   "outputs": [
    {
     "data": {
      "text/plain": [
       "0.0500812669112495"
      ]
     },
     "execution_count": 21,
     "metadata": {},
     "output_type": "execute_result"
    }
   ],
   "source": [
    "lsa_similarity(\"players\", \"ball\")"
   ]
  },
  {
   "cell_type": "code",
   "execution_count": 22,
   "metadata": {},
   "outputs": [
    {
     "data": {
      "text/plain": [
       "0.5832219024264103"
      ]
     },
     "execution_count": 22,
     "metadata": {},
     "output_type": "execute_result"
    }
   ],
   "source": [
    "lsa_similarity(\"football\", \"baseball\")"
   ]
  },
  {
   "cell_type": "code",
   "execution_count": 23,
   "metadata": {},
   "outputs": [
    {
     "data": {
      "text/plain": [
       "0.30612631754481245"
      ]
     },
     "execution_count": 23,
     "metadata": {},
     "output_type": "execute_result"
    }
   ],
   "source": [
    "lsa_similarity(\"players\", \"coach\")"
   ]
  },
  {
   "cell_type": "code",
   "execution_count": 24,
   "metadata": {},
   "outputs": [
    {
     "data": {
      "text/plain": [
       "0.008184650828937877"
      ]
     },
     "execution_count": 24,
     "metadata": {},
     "output_type": "execute_result"
    }
   ],
   "source": [
    "lsa_similarity(\"players\", \"jury\")"
   ]
  },
  {
   "cell_type": "code",
   "execution_count": 25,
   "metadata": {},
   "outputs": [
    {
     "data": {
      "text/plain": [
       "0.0016402672652023392"
      ]
     },
     "execution_count": 25,
     "metadata": {},
     "output_type": "execute_result"
    }
   ],
   "source": [
    "lsa_similarity(\"football\", \"ball\")"
   ]
  },
  {
   "cell_type": "code",
   "execution_count": null,
   "metadata": {},
   "outputs": [],
   "source": []
  },
  {
   "cell_type": "markdown",
   "metadata": {},
   "source": [
    "## Demo - visualizing word vectors?\n",
    "\n",
    "SVD -> \"Dimensionality Reduction\""
   ]
  },
  {
   "cell_type": "code",
   "execution_count": null,
   "metadata": {},
   "outputs": [],
   "source": []
  },
  {
   "cell_type": "code",
   "execution_count": 27,
   "metadata": {},
   "outputs": [
    {
     "data": {
      "text/html": [
       "<div>\n",
       "<style scoped>\n",
       "    .dataframe tbody tr th:only-of-type {\n",
       "        vertical-align: middle;\n",
       "    }\n",
       "\n",
       "    .dataframe tbody tr th {\n",
       "        vertical-align: top;\n",
       "    }\n",
       "\n",
       "    .dataframe thead th {\n",
       "        text-align: right;\n",
       "    }\n",
       "</style>\n",
       "<table border=\"1\" class=\"dataframe\">\n",
       "  <thead>\n",
       "    <tr style=\"text-align: right;\">\n",
       "      <th></th>\n",
       "      <th>dim1</th>\n",
       "      <th>dim2</th>\n",
       "    </tr>\n",
       "  </thead>\n",
       "  <tbody>\n",
       "    <tr>\n",
       "      <th>football</th>\n",
       "      <td>0.000906</td>\n",
       "      <td>-0.000729</td>\n",
       "    </tr>\n",
       "    <tr>\n",
       "      <th>baseball</th>\n",
       "      <td>0.000460</td>\n",
       "      <td>-0.000340</td>\n",
       "    </tr>\n",
       "    <tr>\n",
       "      <th>ball</th>\n",
       "      <td>0.006938</td>\n",
       "      <td>0.002024</td>\n",
       "    </tr>\n",
       "    <tr>\n",
       "      <th>players</th>\n",
       "      <td>0.003437</td>\n",
       "      <td>-0.002570</td>\n",
       "    </tr>\n",
       "    <tr>\n",
       "      <th>coach</th>\n",
       "      <td>0.003539</td>\n",
       "      <td>-0.002852</td>\n",
       "    </tr>\n",
       "  </tbody>\n",
       "</table>\n",
       "</div>"
      ],
      "text/plain": [
       "              dim1      dim2\n",
       "football  0.000906 -0.000729\n",
       "baseball  0.000460 -0.000340\n",
       "ball      0.006938  0.002024\n",
       "players   0.003437 -0.002570\n",
       "coach     0.003539 -0.002852"
      ]
     },
     "execution_count": 27,
     "metadata": {},
     "output_type": "execute_result"
    }
   ],
   "source": [
    "# represent words with dominant 2 dimensions -> loss of information\n",
    "\n",
    "svd_w[:2,:].T\n",
    "df_svd = pd.DataFrame(svd_w[:2,:].T, columns=(\"dim1\",\"dim2\"), index=vectorizer.vocabulary_)\n",
    "df_svd.loc[WORDS]"
   ]
  },
  {
   "cell_type": "code",
   "execution_count": 28,
   "metadata": {},
   "outputs": [
    {
     "data": {
      "image/png": "[encoded data removed]",
      "text/plain": [
       "<Figure size 640x480 with 1 Axes>"
      ]
     },
     "metadata": {},
     "output_type": "display_data"
    }
   ],
   "source": [
    "# applying matplotlib to label points:\n",
    "\n",
    "ax = df_svd.loc[WORDS].plot.scatter(x=\"dim1\",y=\"dim2\",grid=True)\n",
    "for i, w in enumerate(WORDS):\n",
    "    pt = (df_svd.loc[w].dim1, df_svd.loc[w].dim2)\n",
    "    ax.annotate(w, pt)\n",
    "\n",
    "# Does this reflect our human understanding of these words? "
   ]
  }
 ],
 "metadata": {
  "kernelspec": {
   "display_name": "Python 3 (ipykernel)",
   "language": "python",
   "name": "python3"
  },
  "language_info": {
   "codemirror_mode": {
    "name": "ipython",
    "version": 3
   },
   "file_extension": ".py",
   "mimetype": "text/x-python",
   "name": "python",
   "nbconvert_exporter": "python",
   "pygments_lexer": "ipython3",
   "version": "3.11.4"
  }
 },
 "nbformat": 4,
 "nbformat_minor": 4
}
