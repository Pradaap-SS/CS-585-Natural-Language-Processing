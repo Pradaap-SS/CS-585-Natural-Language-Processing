{
 "cells": [
  {
   "cell_type": "markdown",
   "metadata": {
    "id": "Bcw3G-tCfC9u"
   },
   "source": [
    "# K-means Clustering on text\n",
    "\n",
    "Also see scikit-learn overview:\n",
    "\n",
    "https://scikit-learn.org/stable/auto_examples/text/plot_document_clustering.html#kmeans-sparse-high-dim\n"
   ]
  },
  {
   "cell_type": "code",
   "execution_count": 1,
   "metadata": {
    "executionInfo": {
     "elapsed": 974,
     "status": "ok",
     "timestamp": 1663795086323,
     "user": {
      "displayName": "Kai Shu",
      "userId": "12656867753077324183"
     },
     "user_tz": 300
    },
    "id": "3lz8oRL4fC9x"
   },
   "outputs": [],
   "source": [
    "import numpy as np\n",
    "import pandas as pd\n",
    "\n",
    "from sklearn.datasets import fetch_20newsgroups\n",
    "from sklearn.feature_extraction.text import TfidfVectorizer\n",
    "from sklearn.cluster import KMeans\n",
    "\n",
    "import warnings\n",
    "warnings.filterwarnings(\"ignore\")\n",
    "%matplotlib inline\n",
    "\n",
    "pd.set_option(\"display.max_colwidth\",100)"
   ]
  },
  {
   "cell_type": "markdown",
   "metadata": {
    "id": "onWEDt1JfC9y"
   },
   "source": [
    "## Load subset of \"20 Newsgroups\" dataset"
   ]
  },
  {
   "cell_type": "code",
   "execution_count": 2,
   "metadata": {
    "executionInfo": {
     "elapsed": 1021,
     "status": "ok",
     "timestamp": 1663795101333,
     "user": {
      "displayName": "Kai Shu",
      "userId": "12656867753077324183"
     },
     "user_tz": 300
    },
    "id": "1iz1rRxDfC9z"
   },
   "outputs": [],
   "source": [
    "categories = [\"misc.forsale\", \n",
    "              \"sci.space\", \n",
    "              \"sci.med\",\n",
    "              \"talk.politics.misc\",\n",
    "              \"rec.sport.baseball\",\n",
    "              \"comp.graphics\"]\n",
    "\n",
    "twenty_train = fetch_20newsgroups(subset='train',\n",
    "                                  categories=categories, \n",
    "                                  shuffle=True)\n",
    "twenty_eval = fetch_20newsgroups(subset='test',\n",
    "                                 categories=categories, \n",
    "                                 shuffle=True)\n",
    "\n",
    "# what's missing here? "
   ]
  },
  {
   "cell_type": "code",
   "execution_count": 3,
   "metadata": {
    "colab": {
     "base_uri": "https://localhost:8080/"
    },
    "executionInfo": {
     "elapsed": 229,
     "status": "ok",
     "timestamp": 1663795125792,
     "user": {
      "displayName": "Kai Shu",
      "userId": "12656867753077324183"
     },
     "user_tz": 300
    },
    "id": "4SkxRpeOfC9z",
    "outputId": "47397eb2-a157-4c94-8cce-a53846dd48fe"
   },
   "outputs": [
    {
     "data": {
      "text/plain": [
       "3418"
      ]
     },
     "execution_count": 3,
     "metadata": {},
     "output_type": "execute_result"
    }
   ],
   "source": [
    "len(twenty_train.data)"
   ]
  },
  {
   "cell_type": "code",
   "execution_count": 4,
   "metadata": {
    "colab": {
     "base_uri": "https://localhost:8080/"
    },
    "executionInfo": {
     "elapsed": 224,
     "status": "ok",
     "timestamp": 1663795134200,
     "user": {
      "displayName": "Kai Shu",
      "userId": "12656867753077324183"
     },
     "user_tz": 300
    },
    "id": "S5nPsOWxfC90",
    "outputId": "1744594d-f1f9-4e08-b5d9-a6f41d81532a"
   },
   "outputs": [
    {
     "data": {
      "text/plain": [
       "2276"
      ]
     },
     "execution_count": 4,
     "metadata": {},
     "output_type": "execute_result"
    }
   ],
   "source": [
    "len(twenty_eval.data)"
   ]
  },
  {
   "cell_type": "code",
   "execution_count": 5,
   "metadata": {
    "colab": {
     "base_uri": "https://localhost:8080/"
    },
    "executionInfo": {
     "elapsed": 333,
     "status": "ok",
     "timestamp": 1663795140060,
     "user": {
      "displayName": "Kai Shu",
      "userId": "12656867753077324183"
     },
     "user_tz": 300
    },
    "id": "BXXQk1eJfC90",
    "outputId": "ec38cfef-914c-4b39-b744-871bd4b9e43d"
   },
   "outputs": [
    {
     "data": {
      "text/plain": [
       "array(['comp.graphics', 'misc.forsale', 'rec.sport.baseball', 'sci.med',\n",
       "       'sci.space', 'talk.politics.misc'], dtype='<U18')"
      ]
     },
     "execution_count": 5,
     "metadata": {},
     "output_type": "execute_result"
    }
   ],
   "source": [
    "np.unique(twenty_train.target_names)"
   ]
  },
  {
   "cell_type": "code",
   "execution_count": 6,
   "metadata": {
    "executionInfo": {
     "elapsed": 212,
     "status": "ok",
     "timestamp": 1663795149500,
     "user": {
      "displayName": "Kai Shu",
      "userId": "12656867753077324183"
     },
     "user_tz": 300
    },
    "id": "baEGB5NBfC91"
   },
   "outputs": [],
   "source": [
    "\n",
    "# not really unsupervised ... but let's say we don't have these labels:\n",
    "y_train = twenty_train.target"
   ]
  },
  {
   "cell_type": "code",
   "execution_count": 7,
   "metadata": {},
   "outputs": [
    {
     "name": "stdout",
     "output_type": "stream",
     "text": [
      "Label 0 comp.graphics  : 17.09%\n",
      "Label 1 misc.forsale   : 17.12%\n",
      "Label 2 rec.sport.baseball: 17.47%\n",
      "Label 3 sci.med        : 17.38%\n",
      "Label 4 sci.space      : 17.35%\n",
      "Label 5 talk.politics.misc: 13.60%\n"
     ]
    }
   ],
   "source": [
    "for label in np.unique(y_train):\n",
    "    print(f\"Label {label} {twenty_train.target_names[label]:15}: {np.mean(y_train==label):.2%}\")"
   ]
  },
  {
   "cell_type": "code",
   "execution_count": 8,
   "metadata": {},
   "outputs": [
    {
     "name": "stdout",
     "output_type": "stream",
     "text": [
      "{0: 'comp.graphics', 1: 'misc.forsale', 2: 'rec.sport.baseball', 3: 'sci.med', 4: 'sci.space', 5: 'talk.politics.misc'}\n"
     ]
    }
   ],
   "source": [
    "topic_id2name = {name:idx for name,idx in enumerate(twenty_train.target_names)}\n",
    "print(topic_id2name)"
   ]
  },
  {
   "cell_type": "markdown",
   "metadata": {
    "id": "Gl45bLRVfC92"
   },
   "source": [
    "## Normalize and vectorize documents"
   ]
  },
  {
   "cell_type": "code",
   "execution_count": 9,
   "metadata": {
    "executionInfo": {
     "elapsed": 3325,
     "status": "ok",
     "timestamp": 1663795178244,
     "user": {
      "displayName": "Kai Shu",
      "userId": "12656867753077324183"
     },
     "user_tz": 300
    },
    "id": "GkO_k2hpfC92"
   },
   "outputs": [
    {
     "data": {
      "text/plain": [
       "(3418, 6238)"
      ]
     },
     "execution_count": 9,
     "metadata": {},
     "output_type": "execute_result"
    }
   ],
   "source": [
    "vectorizer = TfidfVectorizer(min_df=10, stop_words=\"english\").fit(twenty_train.data)\n",
    "X = vectorizer.transform(twenty_train.data)\n",
    "\n",
    "X.shape"
   ]
  },
  {
   "cell_type": "code",
   "execution_count": 10,
   "metadata": {},
   "outputs": [
    {
     "name": "stdout",
     "output_type": "stream",
     "text": [
      "Initialization complete\n",
      "Iteration 0, inertia 6445.491086675302.\n",
      "Iteration 1, inertia 3307.184025042653.\n",
      "Iteration 2, inertia 3292.6499970125924.\n",
      "Iteration 3, inertia 3283.777641972384.\n",
      "Iteration 4, inertia 3279.0314059114044.\n",
      "Iteration 5, inertia 3275.5375117967696.\n",
      "Iteration 6, inertia 3271.3028846330203.\n",
      "Iteration 7, inertia 3263.752860750047.\n",
      "Iteration 8, inertia 3257.8943726723082.\n",
      "Iteration 9, inertia 3256.452873363556.\n",
      "Iteration 10, inertia 3255.618908543882.\n",
      "Iteration 11, inertia 3255.1160465818266.\n",
      "Iteration 12, inertia 3254.8624397862513.\n",
      "Iteration 13, inertia 3254.7396221075674.\n",
      "Iteration 14, inertia 3254.5817563951623.\n",
      "Iteration 15, inertia 3254.5384648002537.\n",
      "Iteration 16, inertia 3254.5138577641546.\n",
      "Iteration 17, inertia 3254.5038798755313.\n",
      "Converged at iteration 17: strict convergence.\n"
     ]
    },
    {
     "data": {
      "text/html": [
       "<style>#sk-container-id-1 {color: black;}#sk-container-id-1 pre{padding: 0;}#sk-container-id-1 div.sk-toggleable {background-color: white;}#sk-container-id-1 label.sk-toggleable__label {cursor: pointer;display: block;width: 100%;margin-bottom: 0;padding: 0.3em;box-sizing: border-box;text-align: center;}#sk-container-id-1 label.sk-toggleable__label-arrow:before {content: \"▸\";float: left;margin-right: 0.25em;color: #696969;}#sk-container-id-1 label.sk-toggleable__label-arrow:hover:before {color: black;}#sk-container-id-1 div.sk-estimator:hover label.sk-toggleable__label-arrow:before {color: black;}#sk-container-id-1 div.sk-toggleable__content {max-height: 0;max-width: 0;overflow: hidden;text-align: left;background-color: #f0f8ff;}#sk-container-id-1 div.sk-toggleable__content pre {margin: 0.2em;color: black;border-radius: 0.25em;background-color: #f0f8ff;}#sk-container-id-1 input.sk-toggleable__control:checked~div.sk-toggleable__content {max-height: 200px;max-width: 100%;overflow: auto;}#sk-container-id-1 input.sk-toggleable__control:checked~label.sk-toggleable__label-arrow:before {content: \"▾\";}#sk-container-id-1 div.sk-estimator input.sk-toggleable__control:checked~label.sk-toggleable__label {background-color: #d4ebff;}#sk-container-id-1 div.sk-label input.sk-toggleable__control:checked~label.sk-toggleable__label {background-color: #d4ebff;}#sk-container-id-1 input.sk-hidden--visually {border: 0;clip: rect(1px 1px 1px 1px);clip: rect(1px, 1px, 1px, 1px);height: 1px;margin: -1px;overflow: hidden;padding: 0;position: absolute;width: 1px;}#sk-container-id-1 div.sk-estimator {font-family: monospace;background-color: #f0f8ff;border: 1px dotted black;border-radius: 0.25em;box-sizing: border-box;margin-bottom: 0.5em;}#sk-container-id-1 div.sk-estimator:hover {background-color: #d4ebff;}#sk-container-id-1 div.sk-parallel-item::after {content: \"\";width: 100%;border-bottom: 1px solid gray;flex-grow: 1;}#sk-container-id-1 div.sk-label:hover label.sk-toggleable__label {background-color: #d4ebff;}#sk-container-id-1 div.sk-serial::before {content: \"\";position: absolute;border-left: 1px solid gray;box-sizing: border-box;top: 0;bottom: 0;left: 50%;z-index: 0;}#sk-container-id-1 div.sk-serial {display: flex;flex-direction: column;align-items: center;background-color: white;padding-right: 0.2em;padding-left: 0.2em;position: relative;}#sk-container-id-1 div.sk-item {position: relative;z-index: 1;}#sk-container-id-1 div.sk-parallel {display: flex;align-items: stretch;justify-content: center;background-color: white;position: relative;}#sk-container-id-1 div.sk-item::before, #sk-container-id-1 div.sk-parallel-item::before {content: \"\";position: absolute;border-left: 1px solid gray;box-sizing: border-box;top: 0;bottom: 0;left: 50%;z-index: -1;}#sk-container-id-1 div.sk-parallel-item {display: flex;flex-direction: column;z-index: 1;position: relative;background-color: white;}#sk-container-id-1 div.sk-parallel-item:first-child::after {align-self: flex-end;width: 50%;}#sk-container-id-1 div.sk-parallel-item:last-child::after {align-self: flex-start;width: 50%;}#sk-container-id-1 div.sk-parallel-item:only-child::after {width: 0;}#sk-container-id-1 div.sk-dashed-wrapped {border: 1px dashed gray;margin: 0 0.4em 0.5em 0.4em;box-sizing: border-box;padding-bottom: 0.4em;background-color: white;}#sk-container-id-1 div.sk-label label {font-family: monospace;font-weight: bold;display: inline-block;line-height: 1.2em;}#sk-container-id-1 div.sk-label-container {text-align: center;}#sk-container-id-1 div.sk-container {/* jupyter's `normalize.less` sets `[hidden] { display: none; }` but bootstrap.min.css set `[hidden] { display: none !important; }` so we also need the `!important` here to be able to override the default hidden behavior on the sphinx rendered scikit-learn.org. See: https://github.com/scikit-learn/scikit-learn/issues/21755 */display: inline-block !important;position: relative;}#sk-container-id-1 div.sk-text-repr-fallback {display: none;}</style><div id=\"sk-container-id-1\" class=\"sk-top-container\"><div class=\"sk-text-repr-fallback\"><pre>KMeans(n_clusters=6, n_init=1, random_state=0, verbose=True)</pre><b>In a Jupyter environment, please rerun this cell to show the HTML representation or trust the notebook. <br />On GitHub, the HTML representation is unable to render, please try loading this page with nbviewer.org.</b></div><div class=\"sk-container\" hidden><div class=\"sk-item\"><div class=\"sk-estimator sk-toggleable\"><input class=\"sk-toggleable__control sk-hidden--visually\" id=\"sk-estimator-id-1\" type=\"checkbox\" checked><label for=\"sk-estimator-id-1\" class=\"sk-toggleable__label sk-toggleable__label-arrow\">KMeans</label><div class=\"sk-toggleable__content\"><pre>KMeans(n_clusters=6, n_init=1, random_state=0, verbose=True)</pre></div></div></div></div></div>"
      ],
      "text/plain": [
       "KMeans(n_clusters=6, n_init=1, random_state=0, verbose=True)"
      ]
     },
     "execution_count": 10,
     "metadata": {},
     "output_type": "execute_result"
    }
   ],
   "source": [
    "# how do we know how many clusters? In theory we probably don't (but it's a class demo)\n",
    "\n",
    "kmeans = KMeans(n_clusters=6, verbose=True, random_state=0, n_init=1)\n",
    "\n",
    "kmeans.fit(X)"
   ]
  },
  {
   "cell_type": "code",
   "execution_count": 11,
   "metadata": {},
   "outputs": [
    {
     "data": {
      "text/plain": [
       "(3418, 6)"
      ]
     },
     "execution_count": 11,
     "metadata": {},
     "output_type": "execute_result"
    }
   ],
   "source": [
    "cluster_scores  = kmeans.transform(X) \n",
    "\n",
    "cluster_scores.shape"
   ]
  },
  {
   "cell_type": "code",
   "execution_count": 12,
   "metadata": {},
   "outputs": [
    {
     "data": {
      "text/plain": [
       "array([0.96548728, 1.00111135, 0.99948482, 1.05125624, 1.16804748,\n",
       "       1.01998042])"
      ]
     },
     "execution_count": 12,
     "metadata": {},
     "output_type": "execute_result"
    }
   ],
   "source": [
    "cluster_scores[42,:]"
   ]
  },
  {
   "cell_type": "code",
   "execution_count": 13,
   "metadata": {},
   "outputs": [
    {
     "data": {
      "text/plain": [
       "(3418,)"
      ]
     },
     "execution_count": 13,
     "metadata": {},
     "output_type": "execute_result"
    }
   ],
   "source": [
    "# but what are we predicting?\n",
    "cluster_id   = kmeans.predict(X) \n",
    "cluster_id.shape"
   ]
  },
  {
   "cell_type": "code",
   "execution_count": 14,
   "metadata": {},
   "outputs": [
    {
     "data": {
      "text/html": [
       "<div>\n",
       "<style scoped>\n",
       "    .dataframe tbody tr th:only-of-type {\n",
       "        vertical-align: middle;\n",
       "    }\n",
       "\n",
       "    .dataframe tbody tr th {\n",
       "        vertical-align: top;\n",
       "    }\n",
       "\n",
       "    .dataframe thead th {\n",
       "        text-align: right;\n",
       "    }\n",
       "</style>\n",
       "<table border=\"1\" class=\"dataframe\">\n",
       "  <thead>\n",
       "    <tr style=\"text-align: right;\">\n",
       "      <th>Cluster assignment</th>\n",
       "      <th>0</th>\n",
       "      <th>1</th>\n",
       "      <th>2</th>\n",
       "      <th>3</th>\n",
       "      <th>4</th>\n",
       "      <th>5</th>\n",
       "      <th>All</th>\n",
       "    </tr>\n",
       "    <tr>\n",
       "      <th>True label</th>\n",
       "      <th></th>\n",
       "      <th></th>\n",
       "      <th></th>\n",
       "      <th></th>\n",
       "      <th></th>\n",
       "      <th></th>\n",
       "      <th></th>\n",
       "    </tr>\n",
       "  </thead>\n",
       "  <tbody>\n",
       "    <tr>\n",
       "      <th>comp.graphics</th>\n",
       "      <td>1</td>\n",
       "      <td>13</td>\n",
       "      <td>558</td>\n",
       "      <td>1</td>\n",
       "      <td>0</td>\n",
       "      <td>11</td>\n",
       "      <td>584</td>\n",
       "    </tr>\n",
       "    <tr>\n",
       "      <th>misc.forsale</th>\n",
       "      <td>5</td>\n",
       "      <td>11</td>\n",
       "      <td>560</td>\n",
       "      <td>7</td>\n",
       "      <td>0</td>\n",
       "      <td>2</td>\n",
       "      <td>585</td>\n",
       "    </tr>\n",
       "    <tr>\n",
       "      <th>rec.sport.baseball</th>\n",
       "      <td>504</td>\n",
       "      <td>16</td>\n",
       "      <td>74</td>\n",
       "      <td>2</td>\n",
       "      <td>0</td>\n",
       "      <td>1</td>\n",
       "      <td>597</td>\n",
       "    </tr>\n",
       "    <tr>\n",
       "      <th>sci.med</th>\n",
       "      <td>0</td>\n",
       "      <td>355</td>\n",
       "      <td>149</td>\n",
       "      <td>5</td>\n",
       "      <td>78</td>\n",
       "      <td>7</td>\n",
       "      <td>594</td>\n",
       "    </tr>\n",
       "    <tr>\n",
       "      <th>sci.space</th>\n",
       "      <td>0</td>\n",
       "      <td>37</td>\n",
       "      <td>127</td>\n",
       "      <td>90</td>\n",
       "      <td>0</td>\n",
       "      <td>339</td>\n",
       "      <td>593</td>\n",
       "    </tr>\n",
       "    <tr>\n",
       "      <th>talk.politics.misc</th>\n",
       "      <td>6</td>\n",
       "      <td>417</td>\n",
       "      <td>35</td>\n",
       "      <td>1</td>\n",
       "      <td>0</td>\n",
       "      <td>6</td>\n",
       "      <td>465</td>\n",
       "    </tr>\n",
       "    <tr>\n",
       "      <th>All</th>\n",
       "      <td>516</td>\n",
       "      <td>849</td>\n",
       "      <td>1503</td>\n",
       "      <td>106</td>\n",
       "      <td>78</td>\n",
       "      <td>366</td>\n",
       "      <td>3418</td>\n",
       "    </tr>\n",
       "  </tbody>\n",
       "</table>\n",
       "</div>"
      ],
      "text/plain": [
       "Cluster assignment    0    1     2    3   4    5   All\n",
       "True label                                            \n",
       "comp.graphics         1   13   558    1   0   11   584\n",
       "misc.forsale          5   11   560    7   0    2   585\n",
       "rec.sport.baseball  504   16    74    2   0    1   597\n",
       "sci.med               0  355   149    5  78    7   594\n",
       "sci.space             0   37   127   90   0  339   593\n",
       "talk.politics.misc    6  417    35    1   0    6   465\n",
       "All                 516  849  1503  106  78  366  3418"
      ]
     },
     "execution_count": 14,
     "metadata": {},
     "output_type": "execute_result"
    }
   ],
   "source": [
    "pd.crosstab(\n",
    "    pd.Series(y_train, name=\"True label\").map(topic_id2name),\n",
    "    pd.Series(cluster_id, name=\"Cluster assignment\"),\n",
    "    margins=True,\n",
    ")"
   ]
  },
  {
   "cell_type": "code",
   "execution_count": 15,
   "metadata": {},
   "outputs": [
    {
     "name": "stdout",
     "output_type": "stream",
     "text": [
      "======================\n",
      "From: sheehan@aludra.usc.edu (Joseph Sheehan)\n",
      "Subject: Re: Young Catchers\n",
      "Organization: University of Southern California, Los Angeles, CA\n",
      "Lines: 120\n",
      "NNTP-Posting-Host: aludra.usc.edu\n",
      "Summary: Lopez is better than current Brave catchers!\n",
      "Keywords: Solid != good\n",
      "\n",
      ">In article <mssC50qA5.Dtv@netcom.com> mss@netcom.com (Mark Singer) writes:\n",
      ">>In article <1993Apr5.151834.14257@cs.cornell.edu> tedward@cs.cornell.edu (Edward [Ted] Fischer) writes:\n",
      "\n",
      "I'm still catching up from Spring Break, but bear with\n",
      "======================\n",
      "From: stlouis@unixg.ubc.ca (Phill St. Louis)\n",
      "Subject: Billy Taylor a Brave or Jay?\n",
      "Organization: University of British Columbia, Vancouver, B.C., Canada\n",
      "Lines: 8\n",
      "Distribution: world\n",
      "NNTP-Posting-Host: unixg.ubc.ca\n",
      "\n",
      "Does anyone know where Billy Taylor is?  Richmond or Syracuse?  He was taken\n",
      "by the Jays in the Rule V draft, but not kept on the roster.  Baseball Weekly\n",
      "said that he was demoted to Syracuse, but a Toronto paper indicated that\n",
      "the Braves took him back.  Is there an Atlanta fan, or an\n",
      "======================\n",
      "From: texdude@cs1.bradley.edu (Philip Allen)\n",
      "Subject: Ryan rumor...\n",
      "Article-I.D.: cs1.texdude.734914692\n",
      "Organization: Bradley University\n",
      "Lines: 12\n",
      "Nntp-Posting-Host: cs1.bradley.edu\n",
      "\n",
      "This just in...\n",
      "\n",
      "Nolan Ryan hurt his right knee in the 4th inning of the Rangers-Orioles\n",
      "game last night.  He'll be having arthoscopic surgery that will, at best,\n",
      "keep him on the DL for two to five weeks.\n",
      "\n",
      "Just when I had almost convinced myself that the Rangers' rotation would\n",
      "stay healthy this year...\n",
      "\n",
      "\n",
      "Phil Allen\n"
     ]
    }
   ],
   "source": [
    "BASEBALL_LABEL = 0\n",
    "\n",
    "texts = np.array(twenty_train.data)\n",
    "\n",
    "for text in texts[cluster_id==BASEBALL_LABEL][:3]:\n",
    "    print(\"======================\")\n",
    "    print(text[:500])  # first 500 chars of text"
   ]
  },
  {
   "cell_type": "markdown",
   "metadata": {},
   "source": [
    "## Topic similarity\n",
    "\n",
    "Do we have a way to review which clusters are \"similar\"? "
   ]
  },
  {
   "cell_type": "code",
   "execution_count": 16,
   "metadata": {},
   "outputs": [
    {
     "data": {
      "text/plain": [
       "(6, 6238)"
      ]
     },
     "execution_count": 16,
     "metadata": {},
     "output_type": "execute_result"
    }
   ],
   "source": [
    "kmeans.cluster_centers_.shape"
   ]
  },
  {
   "cell_type": "code",
   "execution_count": 17,
   "metadata": {},
   "outputs": [
    {
     "name": "stdout",
     "output_type": "stream",
     "text": [
      "(6238,)\n"
     ]
    }
   ],
   "source": [
    "CLUSTER_ID = 0  # note this refers to a cluster, not a labeled class\n",
    "\n",
    "centroids_normed = kmeans.cluster_centers_/np.linalg.norm(kmeans.cluster_centers_, axis=1, ord=2, keepdims=True)\n",
    "\n",
    "some_centroid = centroids_normed[CLUSTER_ID,:]\n",
    "\n",
    "print(some_centroid.shape)"
   ]
  },
  {
   "cell_type": "code",
   "execution_count": 18,
   "metadata": {},
   "outputs": [
    {
     "data": {
      "text/plain": [
       "array([1.        , 0.53044333, 0.5268671 , 0.24080106, 0.1811999 ,\n",
       "       0.34367238])"
      ]
     },
     "execution_count": 18,
     "metadata": {},
     "output_type": "execute_result"
    }
   ],
   "source": [
    "# which clusters are closest to cluster zero? \n",
    "np.dot(some_centroid, centroids_normed.T)"
   ]
  },
  {
   "cell_type": "code",
   "execution_count": 19,
   "metadata": {},
   "outputs": [
    {
     "name": "stdout",
     "output_type": "stream",
     "text": [
      "0: 1.0000\n",
      "1: 0.5304\n",
      "2: 0.5269\n",
      "3: 0.2408\n",
      "4: 0.1812\n",
      "5: 0.3437\n"
     ]
    }
   ],
   "source": [
    "for clust_id, dist in enumerate(np.dot(some_centroid, centroids_normed.T)):\n",
    "    print(f\"{clust_id}: {dist:.4f}\")"
   ]
  },
  {
   "cell_type": "markdown",
   "metadata": {},
   "source": [
    "## Peek at cluster results - \"Subject\""
   ]
  },
  {
   "cell_type": "code",
   "execution_count": 20,
   "metadata": {},
   "outputs": [
    {
     "data": {
      "text/html": [
       "<div>\n",
       "<style scoped>\n",
       "    .dataframe tbody tr th:only-of-type {\n",
       "        vertical-align: middle;\n",
       "    }\n",
       "\n",
       "    .dataframe tbody tr th {\n",
       "        vertical-align: top;\n",
       "    }\n",
       "\n",
       "    .dataframe thead th {\n",
       "        text-align: right;\n",
       "    }\n",
       "</style>\n",
       "<table border=\"1\" class=\"dataframe\">\n",
       "  <thead>\n",
       "    <tr style=\"text-align: right;\">\n",
       "      <th></th>\n",
       "      <th>texts</th>\n",
       "      <th>cluster_label</th>\n",
       "    </tr>\n",
       "  </thead>\n",
       "  <tbody>\n",
       "    <tr>\n",
       "      <th>2849</th>\n",
       "      <td>FOR SALE: CHEAP LOGIC BOARDS!!! (update)</td>\n",
       "      <td>3</td>\n",
       "    </tr>\n",
       "    <tr>\n",
       "      <th>2286</th>\n",
       "      <td>Ampex 456 2\" Recording Tape For Sale</td>\n",
       "      <td>3</td>\n",
       "    </tr>\n",
       "    <tr>\n",
       "      <th>2083</th>\n",
       "      <td>The Bob Dylan Baseball Abstract</td>\n",
       "      <td>1</td>\n",
       "    </tr>\n",
       "    <tr>\n",
       "      <th>2974</th>\n",
       "      <td>Patient-Physician Diplomacy</td>\n",
       "      <td>2</td>\n",
       "    </tr>\n",
       "    <tr>\n",
       "      <th>3296</th>\n",
       "      <td>Defensive Averages 1988-1992, Third Base</td>\n",
       "      <td>1</td>\n",
       "    </tr>\n",
       "    <tr>\n",
       "      <th>3042</th>\n",
       "      <td>Dana-Faber Cancer Institute</td>\n",
       "      <td>3</td>\n",
       "    </tr>\n",
       "    <tr>\n",
       "      <th>14</th>\n",
       "      <td>Ryan rumor...</td>\n",
       "      <td>1</td>\n",
       "    </tr>\n",
       "    <tr>\n",
       "      <th>2923</th>\n",
       "      <td>MS-Windows graphics viewer?</td>\n",
       "      <td>3</td>\n",
       "    </tr>\n",
       "    <tr>\n",
       "      <th>1842</th>\n",
       "      <td>Jack Morris</td>\n",
       "      <td>1</td>\n",
       "    </tr>\n",
       "    <tr>\n",
       "      <th>3409</th>\n",
       "      <td>Candida Albicans: what is it?</td>\n",
       "      <td>3</td>\n",
       "    </tr>\n",
       "  </tbody>\n",
       "</table>\n",
       "</div>"
      ],
      "text/plain": [
       "                                         texts  cluster_label\n",
       "2849  FOR SALE: CHEAP LOGIC BOARDS!!! (update)              3\n",
       "2286      Ampex 456 2\" Recording Tape For Sale              3\n",
       "2083           The Bob Dylan Baseball Abstract              1\n",
       "2974               Patient-Physician Diplomacy              2\n",
       "3296  Defensive Averages 1988-1992, Third Base              1\n",
       "3042               Dana-Faber Cancer Institute              3\n",
       "14                               Ryan rumor...              1\n",
       "2923               MS-Windows graphics viewer?              3\n",
       "1842                               Jack Morris              1\n",
       "3409             Candida Albicans: what is it?              3"
      ]
     },
     "execution_count": 20,
     "metadata": {},
     "output_type": "execute_result"
    }
   ],
   "source": [
    "# strip out \"Subject\" line as quick summary\n",
    "subjects = [[lines.replace(\"Subject: \",\"\").replace(\"Re:\",\"\").strip() \n",
    "             for lines in text.split(\"\\n\") \n",
    "             if 'Subject' in lines][0] for text in texts]\n",
    "\n",
    "df_subjects = pd.DataFrame({\n",
    "    \"texts\":subjects,\n",
    "    \"cluster_label\":cluster_id,\n",
    "})\n",
    "\n",
    "# showing sample of 10 rows from 3 clusters\n",
    "# (picking 3 to keep it small and readable)\n",
    "df_samp = df_subjects[df_subjects.cluster_label.isin([0,1,2])].sample(10, random_state=102)      \n",
    "\n",
    "\n",
    "df_samp.cluster_label+=1  # for display - start index at 1 not zero \n",
    "df_samp"
   ]
  },
  {
   "cell_type": "code",
   "execution_count": 21,
   "metadata": {},
   "outputs": [
    {
     "data": {
      "text/plain": [
       "array([1, 5, 0, ..., 1, 1, 0], dtype=int32)"
      ]
     },
     "execution_count": 21,
     "metadata": {},
     "output_type": "execute_result"
    }
   ],
   "source": [
    "cluster_id"
   ]
  },
  {
   "cell_type": "code",
   "execution_count": null,
   "metadata": {},
   "outputs": [],
   "source": []
  }
 ],
 "metadata": {
  "colab": {
   "provenance": []
  },
  "kernelspec": {
   "display_name": "Python 3 (ipykernel)",
   "language": "python",
   "name": "python3"
  },
  "language_info": {
   "codemirror_mode": {
    "name": "ipython",
    "version": 3
   },
   "file_extension": ".py",
   "mimetype": "text/x-python",
   "name": "python",
   "nbconvert_exporter": "python",
   "pygments_lexer": "ipython3",
   "version": "3.11.4"
  }
 },
 "nbformat": 4,
 "nbformat_minor": 4
}
