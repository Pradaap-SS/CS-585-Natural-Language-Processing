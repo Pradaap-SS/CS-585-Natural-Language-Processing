{
 "cells": [
  {
   "cell_type": "markdown",
   "metadata": {},
   "source": [
    "# Word Sense \n"
   ]
  },
  {
   "cell_type": "markdown",
   "metadata": {},
   "source": [
    "## Word Net on NLTK"
   ]
  },
  {
   "cell_type": "code",
   "execution_count": 1,
   "metadata": {},
   "outputs": [],
   "source": [
    "import nltk\n",
    "#nltk.download('wordnet')"
   ]
  },
  {
   "cell_type": "markdown",
   "metadata": {},
   "source": [
    "## WordNet on NLTK"
   ]
  },
  {
   "cell_type": "code",
   "execution_count": 2,
   "metadata": {},
   "outputs": [
    {
     "name": "stderr",
     "output_type": "stream",
     "text": [
      "[nltk_data] Downloading package wordnet to /Users/sonjia/nltk_data...\n",
      "[nltk_data]   Package wordnet is already up-to-date!\n"
     ]
    },
    {
     "name": "stdout",
     "output_type": "stream",
     "text": [
      "Synset('ash.n.01') the residue that remains when something is burned\n",
      "Synset('ash.n.02') any of various deciduous pinnate-leaved ornamental or timber trees of the genus Fraxinus\n",
      "Synset('ash.n.03') strong elastic wood of any of various ash trees; used for furniture and tool handles and sporting goods such as baseball bats\n",
      "Synset('ash.v.01') convert into ashes\n"
     ]
    }
   ],
   "source": [
    "from nltk.corpus import wordnet\n",
    "nltk.download('wordnet')\n",
    "\n",
    "wn=nltk.corpus.wordnet\n",
    "from pprint import pprint\n",
    "from nltk.util import acyclic_depth_first as acyclic_tree\n",
    "synsets=wn.synsets('ash')\n",
    "\n",
    "for synset in synsets:\n",
    "    print(synset, synset.definition())"
   ]
  },
  {
   "cell_type": "code",
   "execution_count": 3,
   "metadata": {},
   "outputs": [
    {
     "data": {
      "text/plain": [
       "[Synset('tree.n.01')]"
      ]
     },
     "execution_count": 3,
     "metadata": {},
     "output_type": "execute_result"
    }
   ],
   "source": [
    "ash_tree_sysnset = synsets[1]\n",
    "ash_tree_sysnset.hypernyms()"
   ]
  },
  {
   "cell_type": "code",
   "execution_count": 4,
   "metadata": {},
   "outputs": [
    {
     "data": {
      "text/plain": [
       "[Synset('arizona_ash.n.01'),\n",
       " Synset('black_ash.n.01'),\n",
       " Synset('blue_ash.n.01'),\n",
       " Synset('european_ash.n.01'),\n",
       " Synset('flowering_ash.n.02'),\n",
       " Synset('flowering_ash.n.03'),\n",
       " Synset('manna_ash.n.01'),\n",
       " Synset('mountain_ash.n.03'),\n",
       " Synset('oregon_ash.n.01'),\n",
       " Synset('pumpkin_ash.n.01'),\n",
       " Synset('red_ash.n.01'),\n",
       " Synset('swamp_ash.n.01'),\n",
       " Synset('white_ash.n.02')]"
      ]
     },
     "execution_count": 4,
     "metadata": {},
     "output_type": "execute_result"
    }
   ],
   "source": [
    "ash_tree_sysnset.hyponyms()"
   ]
  },
  {
   "cell_type": "markdown",
   "metadata": {},
   "source": [
    "## Observing occurances of word sense variation"
   ]
  },
  {
   "cell_type": "code",
   "execution_count": 5,
   "metadata": {},
   "outputs": [],
   "source": [
    "from random import random\n",
    "from nltk.corpus import brown"
   ]
  },
  {
   "cell_type": "code",
   "execution_count": 6,
   "metadata": {},
   "outputs": [],
   "source": [
    "conc = nltk.text.ConcordanceIndex(brown.words())"
   ]
  },
  {
   "cell_type": "code",
   "execution_count": 7,
   "metadata": {},
   "outputs": [
    {
     "name": "stdout",
     "output_type": "stream",
     "text": [
      "Sample concordances:\n",
      "ConcordanceLine(left=[';', ';', 'or', '``', 'Carmine', 'Theater', ',', '1912', \"''\", ',', 'the', 'only', 'canvas', 'with', 'an'], query='ash', right=['can', '(', 'and', 'foraging', 'dog', ')', ',', 'although', 'Sloan', 'was', 'a', 'member', 'of', 'the'], offset=189957, left_print=\"' , the only canvas with an\", right_print='can ( and foraging dog ) , ', line=\"' , the only canvas with an ash can ( and foraging dog ) , \")\n"
     ]
    }
   ],
   "source": [
    "print(\"Sample concordances:\")\n",
    "\n",
    "concordances = conc.find_concordance(\"ash\", width=60)\n",
    "print(concordances[0])"
   ]
  },
  {
   "cell_type": "code",
   "execution_count": 8,
   "metadata": {},
   "outputs": [
    {
     "name": "stdout",
     "output_type": "stream",
     "text": [
      "Narrow context:\n",
      "\n",
      "\n",
      "with an ***ASH*** can (\n",
      "about tobacco ***ASH*** on the\n",
      "at an ***ASH*** tray piled\n",
      "his own ***ASH*** tray ,\n",
      "Maple and ***ASH*** , beech\n",
      "color of ***ASH*** . It\n",
      "the feathery ***ASH*** . Surely\n",
      "to an ***ASH*** , first\n"
     ]
    }
   ],
   "source": [
    "print(\"Narrow context:\\n\\n\")\n",
    "for c in concordances:\n",
    "    print(\" \".join(c.left[-2:]), \"***\"+c.query.upper()+\"***\", \" \".join(c.right[:2]))\n",
    "    "
   ]
  },
  {
   "cell_type": "code",
   "execution_count": 9,
   "metadata": {},
   "outputs": [
    {
     "name": "stdout",
     "output_type": "stream",
     "text": [
      "Wide context:\n",
      "\n",
      "\n",
      "; ; or `` Carmine Theater , 1912 '' , the only canvas with an ***ASH*** can ( and foraging dog ) , although Sloan was a member of the\n",
      "can sacrifice tomorrow for himself . He is a Craig's wife who agonizes about tobacco ***ASH*** on the living room rug and he is a forgetful genius who goes boating\n",
      ", waxy skin -- could well be uremia '' . He looked disapprovingly at an ***ASH*** tray piled high with cigarette stubs , shook his head , and moved his\n",
      "at the next desk gave a short , contemptuous laugh , pushed forward his own ***ASH*** tray , innocent of a single butt , thumped his chest to show his\n",
      "lying , like leaves , in the gutters near Belmont and Saratoga . Maple and ***ASH*** , beech and elm , one hundred to win on Three in the fourth\n",
      "quarters from the city . Sameness lined the streets with two-story houses the color of ***ASH*** . It slashed the sloping manure-scented lawns with concrete steps which climbed upward to\n",
      ", watching it curl , the red sealing wax melting and bubbling in the feathery ***ASH*** . Surely now his beloved son could rest in peace . `` ' And\n",
      "you're peaked . You want to watch out that you don't get burned to an ***ASH*** , first sunny day . I must remember to warn the girl next to\n"
     ]
    }
   ],
   "source": [
    "print(\"Wide context:\\n\\n\")\n",
    "for c in concordances:\n",
    "    print(\" \".join(c.left[-300:]), \"***\"+c.query.upper()+\"***\", \" \".join(c.right[:100]))"
   ]
  },
  {
   "cell_type": "code",
   "execution_count": null,
   "metadata": {},
   "outputs": [],
   "source": []
  },
  {
   "cell_type": "code",
   "execution_count": null,
   "metadata": {},
   "outputs": [],
   "source": []
  },
  {
   "cell_type": "code",
   "execution_count": null,
   "metadata": {
    "scrolled": true
   },
   "outputs": [],
   "source": []
  },
  {
   "cell_type": "code",
   "execution_count": null,
   "metadata": {},
   "outputs": [],
   "source": []
  },
  {
   "cell_type": "code",
   "execution_count": null,
   "metadata": {},
   "outputs": [],
   "source": []
  }
 ],
 "metadata": {
  "kernelspec": {
   "display_name": "hw2",
   "language": "python",
   "name": "hw2"
  },
  "language_info": {
   "codemirror_mode": {
    "name": "ipython",
    "version": 3
   },
   "file_extension": ".py",
   "mimetype": "text/x-python",
   "name": "python",
   "nbconvert_exporter": "python",
   "pygments_lexer": "ipython3",
   "version": "3.11.4"
  }
 },
 "nbformat": 4,
 "nbformat_minor": 4
}
