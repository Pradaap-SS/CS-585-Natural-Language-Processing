{
 "cells": [
  {
   "cell_type": "markdown",
   "metadata": {
    "id": "Bcw3G-tCfC9u"
   },
   "source": [
    "# Comparison of naive Bayes and logistic regression for text categorization\n",
    "\n",
    "Adapted from https://scikit-learn.org/stable/tutorial/text_analytics/working_with_text_data.html\n",
    "\n",
    "**UPDATE**: Variable `CLASS_SCI_ELECTRONICS` was corrected to `CLASS_SCI_SPACE` after the lecture. \n",
    "It was intended to point to class label 3, \"sci.space\""
   ]
  },
  {
   "cell_type": "code",
   "execution_count": 1,
   "metadata": {
    "executionInfo": {
     "elapsed": 974,
     "status": "ok",
     "timestamp": 1663795086323,
     "user": {
      "displayName": "Kai Shu",
      "userId": "12656867753077324183"
     },
     "user_tz": 300
    },
    "id": "3lz8oRL4fC9x"
   },
   "outputs": [],
   "source": [
    "import numpy as np\n",
    "from sklearn.datasets import fetch_20newsgroups\n",
    "from sklearn.naive_bayes import MultinomialNB\n",
    "from sklearn.linear_model import LogisticRegression\n",
    "from sklearn.feature_extraction.text import TfidfVectorizer\n",
    "from sklearn.metrics import accuracy_score, classification_report, log_loss\n",
    "import pandas as pd\n",
    "import seaborn as sns\n",
    "from matplotlib import pyplot as plt\n",
    "\n",
    "import re\n",
    "\n",
    "import warnings\n",
    "warnings.filterwarnings(\"ignore\")\n",
    "%matplotlib inline"
   ]
  },
  {
   "cell_type": "markdown",
   "metadata": {
    "id": "onWEDt1JfC9y"
   },
   "source": [
    "## Load subset of \"20 Newsgroups\" dataset"
   ]
  },
  {
   "cell_type": "code",
   "execution_count": 2,
   "metadata": {
    "executionInfo": {
     "elapsed": 1021,
     "status": "ok",
     "timestamp": 1663795101333,
     "user": {
      "displayName": "Kai Shu",
      "userId": "12656867753077324183"
     },
     "user_tz": 300
    },
    "id": "1iz1rRxDfC9z"
   },
   "outputs": [],
   "source": [
    "categories = [\"misc.forsale\", \"sci.space\", \n",
    "              \"sci.electronics\", \"comp.graphics\"]\n",
    "twenty_train = fetch_20newsgroups(subset='train',\n",
    "                                  categories=categories, \n",
    "                                  shuffle=True)\n",
    "twenty_test = fetch_20newsgroups(subset='test',\n",
    "                                 categories=categories, \n",
    "                                 shuffle=True)\n",
    "\n",
    "# what's missing here? "
   ]
  },
  {
   "cell_type": "code",
   "execution_count": 3,
   "metadata": {
    "colab": {
     "base_uri": "https://localhost:8080/"
    },
    "executionInfo": {
     "elapsed": 229,
     "status": "ok",
     "timestamp": 1663795125792,
     "user": {
      "displayName": "Kai Shu",
      "userId": "12656867753077324183"
     },
     "user_tz": 300
    },
    "id": "4SkxRpeOfC9z",
    "outputId": "47397eb2-a157-4c94-8cce-a53846dd48fe"
   },
   "outputs": [
    {
     "data": {
      "text/plain": [
       "2353"
      ]
     },
     "execution_count": 3,
     "metadata": {},
     "output_type": "execute_result"
    }
   ],
   "source": [
    "len(twenty_train.data)"
   ]
  },
  {
   "cell_type": "code",
   "execution_count": 4,
   "metadata": {
    "colab": {
     "base_uri": "https://localhost:8080/"
    },
    "executionInfo": {
     "elapsed": 224,
     "status": "ok",
     "timestamp": 1663795134200,
     "user": {
      "displayName": "Kai Shu",
      "userId": "12656867753077324183"
     },
     "user_tz": 300
    },
    "id": "S5nPsOWxfC90",
    "outputId": "1744594d-f1f9-4e08-b5d9-a6f41d81532a"
   },
   "outputs": [
    {
     "data": {
      "text/plain": [
       "1566"
      ]
     },
     "execution_count": 4,
     "metadata": {},
     "output_type": "execute_result"
    }
   ],
   "source": [
    "len(twenty_test.data)"
   ]
  },
  {
   "cell_type": "code",
   "execution_count": 5,
   "metadata": {
    "colab": {
     "base_uri": "https://localhost:8080/"
    },
    "executionInfo": {
     "elapsed": 333,
     "status": "ok",
     "timestamp": 1663795140060,
     "user": {
      "displayName": "Kai Shu",
      "userId": "12656867753077324183"
     },
     "user_tz": 300
    },
    "id": "BXXQk1eJfC90",
    "outputId": "ec38cfef-914c-4b39-b744-871bd4b9e43d"
   },
   "outputs": [
    {
     "name": "stdout",
     "output_type": "stream",
     "text": [
      "comp.graphics\n",
      "comp.graphics\n",
      "misc.forsale\n",
      "misc.forsale\n",
      "misc.forsale\n"
     ]
    }
   ],
   "source": [
    "for t in twenty_train.target[:5]:\n",
    "    print(twenty_train.target_names[t])"
   ]
  },
  {
   "cell_type": "code",
   "execution_count": 6,
   "metadata": {
    "executionInfo": {
     "elapsed": 212,
     "status": "ok",
     "timestamp": 1663795149500,
     "user": {
      "displayName": "Kai Shu",
      "userId": "12656867753077324183"
     },
     "user_tz": 300
    },
    "id": "baEGB5NBfC91"
   },
   "outputs": [],
   "source": [
    "y_train = twenty_train.target\n",
    "y_test = twenty_test.target"
   ]
  },
  {
   "cell_type": "markdown",
   "metadata": {
    "id": "Gl45bLRVfC92"
   },
   "source": [
    "## Normalize and vectorize documents"
   ]
  },
  {
   "cell_type": "code",
   "execution_count": 7,
   "metadata": {
    "executionInfo": {
     "elapsed": 3325,
     "status": "ok",
     "timestamp": 1663795178244,
     "user": {
      "displayName": "Kai Shu",
      "userId": "12656867753077324183"
     },
     "user_tz": 300
    },
    "id": "GkO_k2hpfC92"
   },
   "outputs": [],
   "source": [
    "vectorizer = TfidfVectorizer(min_df=3, stop_words=\"english\").fit(twenty_train.data)\n",
    "X_train = vectorizer.transform(twenty_train.data)\n",
    "X_test = vectorizer.transform(twenty_test.data)"
   ]
  },
  {
   "cell_type": "code",
   "execution_count": 8,
   "metadata": {
    "colab": {
     "base_uri": "https://localhost:8080/"
    },
    "executionInfo": {
     "elapsed": 198,
     "status": "ok",
     "timestamp": 1663795181552,
     "user": {
      "displayName": "Kai Shu",
      "userId": "12656867753077324183"
     },
     "user_tz": 300
    },
    "id": "kKmjLqDEfC93",
    "outputId": "f97350b0-28ca-43d1-9114-58a0db1e5138"
   },
   "outputs": [
    {
     "data": {
      "text/plain": [
       "(2353, 11662)"
      ]
     },
     "execution_count": 8,
     "metadata": {},
     "output_type": "execute_result"
    }
   ],
   "source": [
    "X_train.shape"
   ]
  },
  {
   "cell_type": "code",
   "execution_count": 9,
   "metadata": {},
   "outputs": [
    {
     "name": "stdout",
     "output_type": "stream",
     "text": [
      "Label 0 comp.graphics  : 24.82%\n",
      "Label 1 misc.forsale   : 24.86%\n",
      "Label 2 sci.electronics: 25.12%\n",
      "Label 3 sci.space      : 25.20%\n"
     ]
    }
   ],
   "source": [
    "for label in np.unique(y_train):\n",
    "    print(f\"Label {label} {twenty_train.target_names[label]:15}: {np.mean(y_train==label):.2%}\")\n"
   ]
  },
  {
   "cell_type": "markdown",
   "metadata": {
    "id": "FciC3VDSfC93"
   },
   "source": [
    "## Naive Bayes model"
   ]
  },
  {
   "cell_type": "code",
   "execution_count": 10,
   "metadata": {
    "colab": {
     "base_uri": "https://localhost:8080/"
    },
    "executionInfo": {
     "elapsed": 201,
     "status": "ok",
     "timestamp": 1663795238914,
     "user": {
      "displayName": "Kai Shu",
      "userId": "12656867753077324183"
     },
     "user_tz": 300
    },
    "id": "1NDryo64fC93",
    "outputId": "bf2e69e9-120e-4543-b1e9-a33aa97541b0"
   },
   "outputs": [
    {
     "name": "stdout",
     "output_type": "stream",
     "text": [
      "CPU times: user 10 ms, sys: 2.53 ms, total: 12.5 ms\n",
      "Wall time: 11.7 ms\n"
     ]
    }
   ],
   "source": [
    "%%time\n",
    "nb_model = MultinomialNB(alpha=1.0).fit(X_train, y_train)\n",
    "y_hat_nb_test = nb_model.predict(X_test)"
   ]
  },
  {
   "cell_type": "code",
   "execution_count": 11,
   "metadata": {
    "colab": {
     "base_uri": "https://localhost:8080/"
    },
    "executionInfo": {
     "elapsed": 430,
     "status": "ok",
     "timestamp": 1663795251988,
     "user": {
      "displayName": "Kai Shu",
      "userId": "12656867753077324183"
     },
     "user_tz": 300
    },
    "id": "dtBgSKGOfC94",
    "outputId": "848e88b3-29e0-400b-e24b-45830850930a"
   },
   "outputs": [
    {
     "name": "stdout",
     "output_type": "stream",
     "text": [
      "                 precision    recall  f1-score   support\n",
      "\n",
      "  comp.graphics       0.86      0.91      0.88       389\n",
      "   misc.forsale       0.90      0.95      0.93       390\n",
      "sci.electronics       0.92      0.82      0.87       393\n",
      "      sci.space       0.94      0.94      0.94       394\n",
      "\n",
      "       accuracy                           0.91      1566\n",
      "      macro avg       0.91      0.91      0.91      1566\n",
      "   weighted avg       0.91      0.91      0.91      1566\n",
      "\n"
     ]
    }
   ],
   "source": [
    "print(classification_report(y_test, y_hat_nb_test, \n",
    "                            target_names=twenty_train.target_names))"
   ]
  },
  {
   "cell_type": "code",
   "execution_count": 12,
   "metadata": {},
   "outputs": [
    {
     "name": "stdout",
     "output_type": "stream",
     "text": [
      "Naive bayes priors:\n",
      "[-1.39354541 -1.39183454 -1.38163037 -1.37825199]\n",
      "(4,)\n",
      "[0.2481938  0.24861878 0.25116872 0.2520187 ]\n"
     ]
    }
   ],
   "source": [
    "print(\"Naive bayes priors:\")\n",
    "print(nb_model.class_log_prior_)\n",
    "print(nb_model.class_log_prior_.shape)\n",
    "print((np.exp(nb_model.class_log_prior_)))"
   ]
  },
  {
   "cell_type": "code",
   "execution_count": 13,
   "metadata": {},
   "outputs": [
    {
     "name": "stdout",
     "output_type": "stream",
     "text": [
      "Naive bayes priors:\n",
      "(4, 11662)\n"
     ]
    }
   ],
   "source": [
    "print(\"Naive bayes priors:\")\n",
    "print(nb_model.feature_log_prob_.shape)"
   ]
  },
  {
   "cell_type": "markdown",
   "metadata": {
    "id": "MtmVSKZffC94"
   },
   "source": [
    "## Logistic regression model"
   ]
  },
  {
   "cell_type": "code",
   "execution_count": 14,
   "metadata": {
    "colab": {
     "base_uri": "https://localhost:8080/"
    },
    "executionInfo": {
     "elapsed": 1195,
     "status": "ok",
     "timestamp": 1663795326960,
     "user": {
      "displayName": "Kai Shu",
      "userId": "12656867753077324183"
     },
     "user_tz": 300
    },
    "id": "xeN7LmU4fC94",
    "outputId": "5e0d98a1-6784-413f-bc2e-d8d8778931a0"
   },
   "outputs": [
    {
     "name": "stdout",
     "output_type": "stream",
     "text": [
      "CPU times: user 1.12 s, sys: 168 ms, total: 1.29 s\n",
      "Wall time: 543 ms\n"
     ]
    }
   ],
   "source": [
    "%%time\n",
    "lr_model = LogisticRegression(penalty=\"none\", \n",
    "                              multi_class=\"multinomial\",\n",
    "                              solver=\"lbfgs\").fit(X_train, y_train)\n",
    "y_hat_lr_test = lr_model.predict(X_test)"
   ]
  },
  {
   "cell_type": "code",
   "execution_count": 15,
   "metadata": {
    "colab": {
     "base_uri": "https://localhost:8080/"
    },
    "executionInfo": {
     "elapsed": 200,
     "status": "ok",
     "timestamp": 1663795332032,
     "user": {
      "displayName": "Kai Shu",
      "userId": "12656867753077324183"
     },
     "user_tz": 300
    },
    "id": "PSsilcHTfC94",
    "outputId": "90b4fef8-c423-4091-81f3-8f3d934f4eda"
   },
   "outputs": [
    {
     "name": "stdout",
     "output_type": "stream",
     "text": [
      "                 precision    recall  f1-score   support\n",
      "\n",
      "  comp.graphics       0.91      0.90      0.90       389\n",
      "   misc.forsale       0.95      0.92      0.93       390\n",
      "sci.electronics       0.89      0.90      0.90       393\n",
      "      sci.space       0.94      0.96      0.95       394\n",
      "\n",
      "       accuracy                           0.92      1566\n",
      "      macro avg       0.92      0.92      0.92      1566\n",
      "   weighted avg       0.92      0.92      0.92      1566\n",
      "\n"
     ]
    }
   ],
   "source": [
    "print(classification_report(y_test, y_hat_lr_test, \n",
    "                            target_names=twenty_train.target_names))"
   ]
  },
  {
   "cell_type": "markdown",
   "metadata": {},
   "source": [
    "#### Logistic regression parameters\n",
    "\n",
    "Apply model parameters to a sample document"
   ]
  },
  {
   "cell_type": "code",
   "execution_count": 16,
   "metadata": {},
   "outputs": [
    {
     "name": "stdout",
     "output_type": "stream",
     "text": [
      "(4,)\n",
      "(4, 11662)\n"
     ]
    }
   ],
   "source": [
    "# parameters of trained model:\n",
    "print(lr_model.intercept_.shape)\n",
    "print(lr_model.coef_.shape)"
   ]
  },
  {
   "cell_type": "code",
   "execution_count": 17,
   "metadata": {},
   "outputs": [
    {
     "name": "stdout",
     "output_type": "stream",
     "text": [
      "(1, 11662)\n"
     ]
    }
   ],
   "source": [
    "sample_text_index = 13\n",
    "some_document = X_test[sample_text_index,:].todense()\n",
    "print(some_document.shape)"
   ]
  },
  {
   "cell_type": "code",
   "execution_count": 18,
   "metadata": {},
   "outputs": [
    {
     "name": "stdout",
     "output_type": "stream",
     "text": [
      "[[ -98.96147289 -120.47790308 -103.84366186  323.28303783]]\n"
     ]
    }
   ],
   "source": [
    "linear_transform = lr_model.intercept_ + np.dot(some_document,lr_model.coef_.T)\n",
    "print(linear_transform)"
   ]
  },
  {
   "cell_type": "code",
   "execution_count": 19,
   "metadata": {},
   "outputs": [
    {
     "data": {
      "text/plain": [
       "matrix([[4.18349237e-184, 1.89265771e-193, 3.17125565e-186,\n",
       "         1.00000000e+000]])"
      ]
     },
     "execution_count": 19,
     "metadata": {},
     "output_type": "execute_result"
    }
   ],
   "source": [
    "# apply soft-max \n",
    "np.exp(linear_transform)/np.exp(linear_transform).sum()"
   ]
  },
  {
   "cell_type": "code",
   "execution_count": 20,
   "metadata": {},
   "outputs": [
    {
     "data": {
      "text/plain": [
       "array([[4.18349237e-184, 1.89265771e-193, 3.17125565e-186,\n",
       "        1.00000000e+000]])"
      ]
     },
     "execution_count": 20,
     "metadata": {},
     "output_type": "execute_result"
    }
   ],
   "source": [
    "lr_model.predict_proba(X_test[sample_text_index,:])"
   ]
  },
  {
   "cell_type": "code",
   "execution_count": 21,
   "metadata": {},
   "outputs": [
    {
     "name": "stdout",
     "output_type": "stream",
     "text": [
      "Actual label: 3\n",
      "Predictor label: 3\n",
      "\n",
      "--- Actual document:\n",
      "From: prb@access.digex.net (Pat)\n",
      "Subject: Re: Gamma Ray Bursters.  WHere  are they.\n",
      "Organization: Express Access Online Communications USA\n",
      "Lines: 17\n",
      "NNTP-Posting-Host: access.digex.net\n",
      "\n",
      "In article <29APR199311425584@judy.uh.edu> wingo%cspara.decnet@Fedex.Msfc.Nasa.Gov writes:\n",
      "|In article <1rlrpv$5ta\n"
     ]
    }
   ],
   "source": [
    "print(\"Actual label:\",y_test[sample_text_index])\n",
    "print(\"Predictor label:\",y_hat_nb_test[sample_text_index])\n",
    "print(\"\\n--- Actual document:\")\n",
    "print(twenty_test.data[sample_text_index][:300])"
   ]
  },
  {
   "cell_type": "markdown",
   "metadata": {
    "id": "NaKJM-46fC95"
   },
   "source": [
    "## Logistic regression with L2 penalty"
   ]
  },
  {
   "cell_type": "code",
   "execution_count": 22,
   "metadata": {
    "colab": {
     "base_uri": "https://localhost:8080/"
    },
    "executionInfo": {
     "elapsed": 2693,
     "status": "ok",
     "timestamp": 1663795365408,
     "user": {
      "displayName": "Kai Shu",
      "userId": "12656867753077324183"
     },
     "user_tz": 300
    },
    "id": "OLI2d2FSfC95",
    "outputId": "8a0298b3-01ec-4a68-dbfa-b1bb8334672c"
   },
   "outputs": [
    {
     "name": "stdout",
     "output_type": "stream",
     "text": [
      "CPU times: user 3.04 s, sys: 441 ms, total: 3.48 s\n",
      "Wall time: 1.49 s\n"
     ]
    }
   ],
   "source": [
    "%%time\n",
    "lr2_model = LogisticRegression(penalty=\"l2\", \n",
    "                               solver=\"lbfgs\",\n",
    "                               multi_class=\"multinomial\",\n",
    "                               max_iter=1000,\n",
    "                               C=10).fit(X_train, y_train)\n",
    "y_hat_lr2_test = lr2_model.predict(X_test)"
   ]
  },
  {
   "cell_type": "code",
   "execution_count": 23,
   "metadata": {
    "colab": {
     "base_uri": "https://localhost:8080/"
    },
    "executionInfo": {
     "elapsed": 198,
     "status": "ok",
     "timestamp": 1663795368189,
     "user": {
      "displayName": "Kai Shu",
      "userId": "12656867753077324183"
     },
     "user_tz": 300
    },
    "id": "oxrrvjb8fC95",
    "outputId": "75ca0233-6168-44cf-b491-9bc87fe63c2f"
   },
   "outputs": [
    {
     "name": "stdout",
     "output_type": "stream",
     "text": [
      "                 precision    recall  f1-score   support\n",
      "\n",
      "  comp.graphics       0.91      0.91      0.91       389\n",
      "   misc.forsale       0.93      0.96      0.94       390\n",
      "sci.electronics       0.90      0.91      0.91       393\n",
      "      sci.space       0.98      0.93      0.96       394\n",
      "\n",
      "       accuracy                           0.93      1566\n",
      "      macro avg       0.93      0.93      0.93      1566\n",
      "   weighted avg       0.93      0.93      0.93      1566\n",
      "\n"
     ]
    }
   ],
   "source": [
    "print(classification_report(y_test, y_hat_lr2_test, \n",
    "                            target_names=twenty_train.target_names))"
   ]
  },
  {
   "cell_type": "markdown",
   "metadata": {
    "id": "GmoA8G6ffC95"
   },
   "source": [
    "## Comparison of train/test performance across models"
   ]
  },
  {
   "cell_type": "code",
   "execution_count": 24,
   "metadata": {
    "executionInfo": {
     "elapsed": 251,
     "status": "ok",
     "timestamp": 1663795388133,
     "user": {
      "displayName": "Kai Shu",
      "userId": "12656867753077324183"
     },
     "user_tz": 300
    },
    "id": "eoXZg8_PfC95"
   },
   "outputs": [],
   "source": [
    "model_info = {\"Naive Bayes\": nb_model,\n",
    "              \"Logistic Regression\": lr_model,\n",
    "              \"L2 Regularized LR\": lr2_model}\n",
    "plot_data = []\n",
    "for name, model in model_info.items():\n",
    "    train_acc = accuracy_score(y_train, model.predict(X_train))\n",
    "    plot_data.append([name, \"Train\", train_acc])\n",
    "    test_acc = accuracy_score(y_test, model.predict(X_test))\n",
    "    plot_data.append([name, \"Test\", test_acc])  "
   ]
  },
  {
   "cell_type": "code",
   "execution_count": 25,
   "metadata": {
    "colab": {
     "base_uri": "https://localhost:8080/",
     "height": 392
    },
    "executionInfo": {
     "elapsed": 608,
     "status": "ok",
     "timestamp": 1663795395929,
     "user": {
      "displayName": "Kai Shu",
      "userId": "12656867753077324183"
     },
     "user_tz": 300
    },
    "id": "TeVI9xR7fC96",
    "outputId": "a146640b-9304-4949-8371-aa7979724bd6"
   },
   "outputs": [
    {
     "data": {
      "image/png": "[encoded data removed]",
      "text/plain": [
       "<Figure size 600x600 with 1 Axes>"
      ]
     },
     "metadata": {},
     "output_type": "display_data"
    }
   ],
   "source": [
    "plt.figure(figsize=(6,6))\n",
    "plt.ylim((0.9,1))\n",
    "plot_df = pd.DataFrame(plot_data, columns=[\"model\", \"dataset\", \"accuracy\"])\n",
    "sns.lineplot(data=plot_df, \n",
    "             sort=False,\n",
    "             x=\"dataset\", \n",
    "             y=\"accuracy\", \n",
    "             hue=\"model\")\n",
    "plt.show()"
   ]
  },
  {
   "cell_type": "markdown",
   "metadata": {},
   "source": [
    "## Inspect model parameters\n"
   ]
  },
  {
   "cell_type": "code",
   "execution_count": 26,
   "metadata": {},
   "outputs": [
    {
     "name": "stdout",
     "output_type": "stream",
     "text": [
      "Shape of LR coefficients: (4, 11662)\n"
     ]
    }
   ],
   "source": [
    "print(\"Shape of LR coefficients:\",lr2_model.coef_.shape)"
   ]
  },
  {
   "cell_type": "code",
   "execution_count": 27,
   "metadata": {},
   "outputs": [
    {
     "name": "stdout",
     "output_type": "stream",
     "text": [
      "[[-1.19934524 -0.87651881 -0.09460633 ...  0.59596049 -0.16364852\n",
      "  -0.16364852]\n",
      " [ 3.34657299  0.4141979  -0.06794088 ... -0.15757412 -0.06074327\n",
      "  -0.06074327]\n",
      " [-1.26959221 -0.63198136 -0.12199847 ... -0.23459101  0.27292572\n",
      "   0.27292572]\n",
      " [-0.87763553  1.09430227  0.28454569 ... -0.20379535 -0.04853392\n",
      "  -0.04853392]]\n"
     ]
    }
   ],
   "source": [
    "print(lr2_model.coef_)"
   ]
  },
  {
   "cell_type": "code",
   "execution_count": 28,
   "metadata": {},
   "outputs": [],
   "source": [
    "vocab = sorted(vectorizer.vocabulary_.keys(), key=vectorizer.vocabulary_.get)\n"
   ]
  },
  {
   "cell_type": "code",
   "execution_count": 29,
   "metadata": {},
   "outputs": [
    {
     "data": {
      "text/html": [
       "<div>\n",
       "<style scoped>\n",
       "    .dataframe tbody tr th:only-of-type {\n",
       "        vertical-align: middle;\n",
       "    }\n",
       "\n",
       "    .dataframe tbody tr th {\n",
       "        vertical-align: top;\n",
       "    }\n",
       "\n",
       "    .dataframe thead th {\n",
       "        text-align: right;\n",
       "    }\n",
       "</style>\n",
       "<table border=\"1\" class=\"dataframe\">\n",
       "  <thead>\n",
       "    <tr style=\"text-align: right;\">\n",
       "      <th></th>\n",
       "      <th>token</th>\n",
       "      <th>lr_param</th>\n",
       "    </tr>\n",
       "  </thead>\n",
       "  <tbody>\n",
       "    <tr>\n",
       "      <th>9866</th>\n",
       "      <td>space</td>\n",
       "      <td>616.935894</td>\n",
       "    </tr>\n",
       "    <tr>\n",
       "      <th>7193</th>\n",
       "      <td>moon</td>\n",
       "      <td>247.756187</td>\n",
       "    </tr>\n",
       "    <tr>\n",
       "      <th>1386</th>\n",
       "      <td>alaska</td>\n",
       "      <td>242.199446</td>\n",
       "    </tr>\n",
       "    <tr>\n",
       "      <th>7722</th>\n",
       "      <td>orbit</td>\n",
       "      <td>239.037331</td>\n",
       "    </tr>\n",
       "    <tr>\n",
       "      <th>6404</th>\n",
       "      <td>launch</td>\n",
       "      <td>189.075027</td>\n",
       "    </tr>\n",
       "    <tr>\n",
       "      <th>7935</th>\n",
       "      <td>pat</td>\n",
       "      <td>182.012671</td>\n",
       "    </tr>\n",
       "    <tr>\n",
       "      <th>3768</th>\n",
       "      <td>digex</td>\n",
       "      <td>179.748573</td>\n",
       "    </tr>\n",
       "    <tr>\n",
       "      <th>7335</th>\n",
       "      <td>nasa</td>\n",
       "      <td>174.812086</td>\n",
       "    </tr>\n",
       "    <tr>\n",
       "      <th>1172</th>\n",
       "      <td>access</td>\n",
       "      <td>174.546989</td>\n",
       "    </tr>\n",
       "    <tr>\n",
       "      <th>9642</th>\n",
       "      <td>shuttle</td>\n",
       "      <td>165.646251</td>\n",
       "    </tr>\n",
       "  </tbody>\n",
       "</table>\n",
       "</div>"
      ],
      "text/plain": [
       "        token    lr_param\n",
       "9866    space  616.935894\n",
       "7193     moon  247.756187\n",
       "1386   alaska  242.199446\n",
       "7722    orbit  239.037331\n",
       "6404   launch  189.075027\n",
       "7935      pat  182.012671\n",
       "3768    digex  179.748573\n",
       "7335     nasa  174.812086\n",
       "1172   access  174.546989\n",
       "9642  shuttle  165.646251"
      ]
     },
     "execution_count": 29,
     "metadata": {},
     "output_type": "execute_result"
    }
   ],
   "source": [
    "CLASS_SCI_SPACE = 3\n",
    "lr_coef_sci = lr_model.coef_[CLASS_SCI_SPACE,:]\n",
    "\n",
    "pd.DataFrame({\n",
    "    \"token\":vocab,\n",
    "    \"lr_param\":lr_coef_sci,\n",
    "}).sort_values(by=\"lr_param\",ascending=False).head(10)"
   ]
  },
  {
   "cell_type": "code",
   "execution_count": 30,
   "metadata": {},
   "outputs": [
    {
     "data": {
      "text/html": [
       "<div>\n",
       "<style scoped>\n",
       "    .dataframe tbody tr th:only-of-type {\n",
       "        vertical-align: middle;\n",
       "    }\n",
       "\n",
       "    .dataframe tbody tr th {\n",
       "        vertical-align: top;\n",
       "    }\n",
       "\n",
       "    .dataframe thead th {\n",
       "        text-align: right;\n",
       "    }\n",
       "</style>\n",
       "<table border=\"1\" class=\"dataframe\">\n",
       "  <thead>\n",
       "    <tr style=\"text-align: right;\">\n",
       "      <th></th>\n",
       "      <th>token</th>\n",
       "      <th>nb_param</th>\n",
       "    </tr>\n",
       "  </thead>\n",
       "  <tbody>\n",
       "    <tr>\n",
       "      <th>9866</th>\n",
       "      <td>space</td>\n",
       "      <td>-6.146458</td>\n",
       "    </tr>\n",
       "    <tr>\n",
       "      <th>4122</th>\n",
       "      <td>edu</td>\n",
       "      <td>-6.487803</td>\n",
       "    </tr>\n",
       "    <tr>\n",
       "      <th>7335</th>\n",
       "      <td>nasa</td>\n",
       "      <td>-6.606961</td>\n",
       "    </tr>\n",
       "    <tr>\n",
       "      <th>5447</th>\n",
       "      <td>henry</td>\n",
       "      <td>-6.909549</td>\n",
       "    </tr>\n",
       "    <tr>\n",
       "      <th>2935</th>\n",
       "      <td>com</td>\n",
       "      <td>-6.929839</td>\n",
       "    </tr>\n",
       "    <tr>\n",
       "      <th>1172</th>\n",
       "      <td>access</td>\n",
       "      <td>-6.992113</td>\n",
       "    </tr>\n",
       "    <tr>\n",
       "      <th>1386</th>\n",
       "      <td>alaska</td>\n",
       "      <td>-7.020892</td>\n",
       "    </tr>\n",
       "    <tr>\n",
       "      <th>11550</th>\n",
       "      <td>writes</td>\n",
       "      <td>-7.063182</td>\n",
       "    </tr>\n",
       "    <tr>\n",
       "      <th>5169</th>\n",
       "      <td>gov</td>\n",
       "      <td>-7.063646</td>\n",
       "    </tr>\n",
       "    <tr>\n",
       "      <th>7193</th>\n",
       "      <td>moon</td>\n",
       "      <td>-7.064542</td>\n",
       "    </tr>\n",
       "  </tbody>\n",
       "</table>\n",
       "</div>"
      ],
      "text/plain": [
       "        token  nb_param\n",
       "9866    space -6.146458\n",
       "4122      edu -6.487803\n",
       "7335     nasa -6.606961\n",
       "5447    henry -6.909549\n",
       "2935      com -6.929839\n",
       "1172   access -6.992113\n",
       "1386   alaska -7.020892\n",
       "11550  writes -7.063182\n",
       "5169      gov -7.063646\n",
       "7193     moon -7.064542"
      ]
     },
     "execution_count": 30,
     "metadata": {},
     "output_type": "execute_result"
    }
   ],
   "source": [
    "nb_coef_sci = nb_model.feature_log_prob_[CLASS_SCI_SPACE,:]\n",
    "\n",
    "pd.DataFrame({\n",
    "    \"token\":vocab,\n",
    "    \"nb_param\":nb_coef_sci,\n",
    "}).sort_values(by=\"nb_param\",ascending=False).head(10)"
   ]
  },
  {
   "cell_type": "code",
   "execution_count": 31,
   "metadata": {},
   "outputs": [
    {
     "data": {
      "text/html": [
       "<div>\n",
       "<style scoped>\n",
       "    .dataframe tbody tr th:only-of-type {\n",
       "        vertical-align: middle;\n",
       "    }\n",
       "\n",
       "    .dataframe tbody tr th {\n",
       "        vertical-align: top;\n",
       "    }\n",
       "\n",
       "    .dataframe thead th {\n",
       "        text-align: right;\n",
       "    }\n",
       "</style>\n",
       "<table border=\"1\" class=\"dataframe\">\n",
       "  <thead>\n",
       "    <tr style=\"text-align: right;\">\n",
       "      <th></th>\n",
       "      <th>token</th>\n",
       "      <th>lr2_param</th>\n",
       "    </tr>\n",
       "  </thead>\n",
       "  <tbody>\n",
       "    <tr>\n",
       "      <th>9866</th>\n",
       "      <td>space</td>\n",
       "      <td>9.156559</td>\n",
       "    </tr>\n",
       "    <tr>\n",
       "      <th>7722</th>\n",
       "      <td>orbit</td>\n",
       "      <td>4.090878</td>\n",
       "    </tr>\n",
       "    <tr>\n",
       "      <th>7193</th>\n",
       "      <td>moon</td>\n",
       "      <td>3.544038</td>\n",
       "    </tr>\n",
       "    <tr>\n",
       "      <th>7335</th>\n",
       "      <td>nasa</td>\n",
       "      <td>3.194587</td>\n",
       "    </tr>\n",
       "    <tr>\n",
       "      <th>6404</th>\n",
       "      <td>launch</td>\n",
       "      <td>2.965689</td>\n",
       "    </tr>\n",
       "    <tr>\n",
       "      <th>3768</th>\n",
       "      <td>digex</td>\n",
       "      <td>2.749457</td>\n",
       "    </tr>\n",
       "    <tr>\n",
       "      <th>3514</th>\n",
       "      <td>dc</td>\n",
       "      <td>2.612889</td>\n",
       "    </tr>\n",
       "    <tr>\n",
       "      <th>9382</th>\n",
       "      <td>sci</td>\n",
       "      <td>2.532593</td>\n",
       "    </tr>\n",
       "    <tr>\n",
       "      <th>1386</th>\n",
       "      <td>alaska</td>\n",
       "      <td>2.519521</td>\n",
       "    </tr>\n",
       "    <tr>\n",
       "      <th>8166</th>\n",
       "      <td>planets</td>\n",
       "      <td>2.346209</td>\n",
       "    </tr>\n",
       "  </tbody>\n",
       "</table>\n",
       "</div>"
      ],
      "text/plain": [
       "        token  lr2_param\n",
       "9866    space   9.156559\n",
       "7722    orbit   4.090878\n",
       "7193     moon   3.544038\n",
       "7335     nasa   3.194587\n",
       "6404   launch   2.965689\n",
       "3768    digex   2.749457\n",
       "3514       dc   2.612889\n",
       "9382      sci   2.532593\n",
       "1386   alaska   2.519521\n",
       "8166  planets   2.346209"
      ]
     },
     "execution_count": 31,
     "metadata": {},
     "output_type": "execute_result"
    }
   ],
   "source": [
    "lr2_coef_sci = lr2_model.coef_[CLASS_SCI_SPACE,:]\n",
    "\n",
    "pd.DataFrame({\n",
    "    \"token\":vocab,\n",
    "    \"lr2_param\":lr2_coef_sci,\n",
    "}).sort_values(by=\"lr2_param\",ascending=False).head(10)"
   ]
  },
  {
   "cell_type": "code",
   "execution_count": 32,
   "metadata": {},
   "outputs": [],
   "source": [
    "look_for_token = \"Henry\"\n",
    "has_word_texts_and_labels = [(text,label)\n",
    "                             for text,label in zip(twenty_train.data,twenty_train.target) \n",
    "                             if look_for_token.lower() in text.lower()]"
   ]
  },
  {
   "cell_type": "code",
   "execution_count": 33,
   "metadata": {},
   "outputs": [
    {
     "name": "stdout",
     "output_type": "stream",
     "text": [
      "--- LABEL: 2 'sci.electronics'\n",
      "\n",
      "--- TEXT:\n",
      "From: henry@zoo.toronto.edu (****HENRY**** Spencer)\n",
      "Subject: Re: Radar detector DETECTORS?\n",
      "Organization: U of Toronto Zoology\n",
      "Lines: 17\n",
      "\n",
      "In article <1993Apr20.022922.11861@julian.uwo.ca> wlsmith@valve.heart.rri.uwo.ca (Wayne Smith) writes:\n",
      ">>No restriction was placed\n",
      ">>on receiving RADAR (or, curiously, cordless phones.)  Enforcement\n",
      ">>of the Virginia law is in violation of the FCA of 1934.\n",
      ">\n",
      ">Isin't there some kind of rule (regulation, law, whatever) in some\n",
      ">juristictions that prohibit the use of *police band* recievers\n",
      ">in vehicles?  And that radar transmissions are included in the police band \n",
      ">so they get covered by the same regulation?\n",
      "\n",
      "Those rules/regulations/laws would be subject to the same attack:  that\n",
      "they are attempting to preempt federal authority to regulate (or not)\n",
      "radio communications.  Of course, as the original poster noted, court\n",
      "challenges of this kind can get expensive.\n",
      "-- \n",
      "All work is one man's work.             | ****HENRY**** Spencer @ U of Toronto Zoology\n",
      "                    - Kipling           |  henry@zoo.toronto.edu  utzoo!henry\n",
      "\n"
     ]
    }
   ],
   "source": [
    "sample_idx = 6 # random row id, random text to print\n",
    "\n",
    "text, target = has_word_texts_and_labels[sample_idx]\n",
    "print(f\"--- LABEL: {target} '{twenty_train.target_names[target]}'\\n\")\n",
    "\n",
    "print(\"--- TEXT:\")\n",
    "my_regex = rf'\\b{look_for_token}\\b'\n",
    "printme = re.sub(my_regex,f\"****{look_for_token.upper()}****\", text)\n",
    "print(printme)"
   ]
  },
  {
   "cell_type": "code",
   "execution_count": 34,
   "metadata": {},
   "outputs": [
    {
     "name": "stdout",
     "output_type": "stream",
     "text": [
      "\n",
      "% Science/Electrincs for token Henry: 85.71%\n"
     ]
    }
   ],
   "source": [
    "pct_sci = np.mean([label==CLASS_SCI_SPACE for text, label in has_word_texts_and_labels])\n",
    "print(f\"\\n% Science/Electrincs for token {look_for_token}: {pct_sci:.2%}\")"
   ]
  },
  {
   "cell_type": "markdown",
   "metadata": {},
   "source": [
    "## Additional experiment - L1 Penalty "
   ]
  },
  {
   "cell_type": "code",
   "execution_count": 35,
   "metadata": {},
   "outputs": [
    {
     "name": "stdout",
     "output_type": "stream",
     "text": [
      "CPU times: user 19.3 s, sys: 154 ms, total: 19.4 s\n",
      "Wall time: 20.5 s\n"
     ]
    }
   ],
   "source": [
    "%%time\n",
    "lr1_model = LogisticRegression(penalty=\"l1\", \n",
    "                               solver=\"saga\",\n",
    "                               multi_class=\"multinomial\",\n",
    "                               max_iter=1000,\n",
    "                               C=10).fit(X_train, y_train)\n",
    "y_hat_lr1_test = lr1_model.predict(X_test)"
   ]
  },
  {
   "cell_type": "code",
   "execution_count": 36,
   "metadata": {},
   "outputs": [
    {
     "name": "stdout",
     "output_type": "stream",
     "text": [
      "Naive Bayes          - Test: 90.61%\n",
      "Logistic Regression  - Test: 92.15%\n",
      "L2 Regularized LR    - Test: 92.85%\n",
      "L1 Regularized LR    - Test: 89.40%\n"
     ]
    },
    {
     "data": {
      "image/png": "[encoded data removed]",
      "text/plain": [
       "<Figure size 600x600 with 1 Axes>"
      ]
     },
     "metadata": {},
     "output_type": "display_data"
    }
   ],
   "source": [
    "# add to existing `model_info`\n",
    "model_info[\"L1 Regularized LR\"]=lr1_model\n",
    "\n",
    "plot_data = []\n",
    "for name, model in model_info.items():\n",
    "    train_acc = accuracy_score(y_train, model.predict(X_train))\n",
    "    plot_data.append([name, \"Train\", train_acc])\n",
    "    test_acc = accuracy_score(y_test, model.predict(X_test))\n",
    "    plot_data.append([name, \"Test\", test_acc])  \n",
    "    print(f\"{name:20} - Test: {test_acc:.2%}\")\n",
    "\n",
    "plt.figure(figsize=(6,6))\n",
    "plt.ylim((0.85,1))\n",
    "plot_df = pd.DataFrame(plot_data, columns=[\"model\", \"dataset\", \"accuracy\"])\n",
    "sns.lineplot(data=plot_df, \n",
    "             sort=False,\n",
    "             x=\"dataset\", \n",
    "             y=\"accuracy\", \n",
    "             hue=\"model\")\n",
    "plt.show()"
   ]
  },
  {
   "cell_type": "code",
   "execution_count": 37,
   "metadata": {},
   "outputs": [
    {
     "name": "stdout",
     "output_type": "stream",
     "text": [
      "% of coefficients that are non-zero: 1.24%\n"
     ]
    }
   ],
   "source": [
    "\n",
    "lr1_coef_sci = lr1_model.coef_[CLASS_SCI_SPACE,:]\n",
    "\n",
    "pct_nonzero_lr1 = (lr1_coef_sci>0).mean()\n",
    "\n",
    "print(f\"% of coefficients that are non-zero: {pct_nonzero_lr1:.2%}\")\n"
   ]
  },
  {
   "cell_type": "code",
   "execution_count": 38,
   "metadata": {},
   "outputs": [
    {
     "name": "stdout",
     "output_type": "stream",
     "text": [
      "non-zero L1 coefficients - sci.space:\n"
     ]
    },
    {
     "data": {
      "text/plain": [
       "'accelerations actually aerospace alaska alphacdc article astronomy atmosphere aurora aviation baalke billion boom breathing bursters calpoly category centaur chrisj clementine colostate cso data dc degrees dennis dgi dietz digex doug dreams dseg ece eder egalon encoders energy envelope enzo eos ether film flb flight freed funding galileo gamma gas gene given government griffin henry het higgins ida james jennise jobs jupiter just known kuiper large launch lb level liquid long loss lunar manned mars mass matthew mccall mentorg military moon nasa news nicho nicoll observatory orbit orbital org orion otago palmer pat plane planet planets plutonium prb princeton process proton quite rights rochester rocket rocketry rockets roland rollout russian ryukoku satellite schiewer sci scicom shakala shuttle sky solar space spacecraft spacewalk sq ssto station steinly sunrise sunset sysmgr szabo telescope things thruster ti titan topaz ucsc uranium usc vacuum van venus wallacen writes xpresso yamauchi'"
      ]
     },
     "execution_count": 38,
     "metadata": {},
     "output_type": "execute_result"
    }
   ],
   "source": [
    "classname_sci = twenty_train.target_names[CLASS_SCI_SPACE]\n",
    "\n",
    "print(f\"non-zero L1 coefficients - {classname_sci}:\")\n",
    "\" \".join(np.array(vocab)[lr1_coef_sci>0])"
   ]
  },
  {
   "cell_type": "code",
   "execution_count": null,
   "metadata": {},
   "outputs": [],
   "source": []
  }
 ],
 "metadata": {
  "colab": {
   "provenance": []
  },
  "kernelspec": {
   "display_name": "Python 3 (ipykernel)",
   "language": "python",
   "name": "python3"
  },
  "language_info": {
   "codemirror_mode": {
    "name": "ipython",
    "version": 3
   },
   "file_extension": ".py",
   "mimetype": "text/x-python",
   "name": "python",
   "nbconvert_exporter": "python",
   "pygments_lexer": "ipython3",
   "version": "3.11.4"
  }
 },
 "nbformat": 4,
 "nbformat_minor": 4
}
